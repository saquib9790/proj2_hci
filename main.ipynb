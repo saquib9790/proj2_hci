{
  "nbformat": 4,
  "nbformat_minor": 0,
  "metadata": {
    "colab": {
      "provenance": [],
      "gpuType": "T4"
    },
    "kernelspec": {
      "name": "python3",
      "display_name": "Python 3"
    },
    "language_info": {
      "name": "python"
    },
    "accelerator": "GPU",
    "widgets": {
      "application/vnd.jupyter.widget-state+json": {
        "3881f23049f3413f9f4d0ecd3dab8064": {
          "model_module": "@jupyter-widgets/controls",
          "model_name": "HBoxModel",
          "model_module_version": "1.5.0",
          "state": {
            "_dom_classes": [],
            "_model_module": "@jupyter-widgets/controls",
            "_model_module_version": "1.5.0",
            "_model_name": "HBoxModel",
            "_view_count": null,
            "_view_module": "@jupyter-widgets/controls",
            "_view_module_version": "1.5.0",
            "_view_name": "HBoxView",
            "box_style": "",
            "children": [
              "IPY_MODEL_bdf1908895d44bbda4eb97e82718a984",
              "IPY_MODEL_39fe3f65d0894586b3f49456b202d5a4",
              "IPY_MODEL_21a394644fa84925bed6026611443b37"
            ],
            "layout": "IPY_MODEL_5cbd20a6f8ea4d8fb0e0e0164c77855d"
          }
        },
        "bdf1908895d44bbda4eb97e82718a984": {
          "model_module": "@jupyter-widgets/controls",
          "model_name": "HTMLModel",
          "model_module_version": "1.5.0",
          "state": {
            "_dom_classes": [],
            "_model_module": "@jupyter-widgets/controls",
            "_model_module_version": "1.5.0",
            "_model_name": "HTMLModel",
            "_view_count": null,
            "_view_module": "@jupyter-widgets/controls",
            "_view_module_version": "1.5.0",
            "_view_name": "HTMLView",
            "description": "",
            "description_tooltip": null,
            "layout": "IPY_MODEL_7a5e29cd2dc24a89a12a6aedda2498a5",
            "placeholder": "​",
            "style": "IPY_MODEL_965e51934968486f8221e1c8b4dfee96",
            "value": "Fetching 2 files: 100%"
          }
        },
        "39fe3f65d0894586b3f49456b202d5a4": {
          "model_module": "@jupyter-widgets/controls",
          "model_name": "FloatProgressModel",
          "model_module_version": "1.5.0",
          "state": {
            "_dom_classes": [],
            "_model_module": "@jupyter-widgets/controls",
            "_model_module_version": "1.5.0",
            "_model_name": "FloatProgressModel",
            "_view_count": null,
            "_view_module": "@jupyter-widgets/controls",
            "_view_module_version": "1.5.0",
            "_view_name": "ProgressView",
            "bar_style": "success",
            "description": "",
            "description_tooltip": null,
            "layout": "IPY_MODEL_436f4c518f7149f18329387885318c6b",
            "max": 2,
            "min": 0,
            "orientation": "horizontal",
            "style": "IPY_MODEL_ed3149af2b264be8bbcbaf7eb1e00532",
            "value": 2
          }
        },
        "21a394644fa84925bed6026611443b37": {
          "model_module": "@jupyter-widgets/controls",
          "model_name": "HTMLModel",
          "model_module_version": "1.5.0",
          "state": {
            "_dom_classes": [],
            "_model_module": "@jupyter-widgets/controls",
            "_model_module_version": "1.5.0",
            "_model_name": "HTMLModel",
            "_view_count": null,
            "_view_module": "@jupyter-widgets/controls",
            "_view_module_version": "1.5.0",
            "_view_name": "HTMLView",
            "description": "",
            "description_tooltip": null,
            "layout": "IPY_MODEL_f08b93d2b4824b6591e9d2d255c7a820",
            "placeholder": "​",
            "style": "IPY_MODEL_66737fe90f054e3fa961cb5bbcf1812b",
            "value": " 2/2 [00:00&lt;00:00, 206.26it/s]"
          }
        },
        "5cbd20a6f8ea4d8fb0e0e0164c77855d": {
          "model_module": "@jupyter-widgets/base",
          "model_name": "LayoutModel",
          "model_module_version": "1.2.0",
          "state": {
            "_model_module": "@jupyter-widgets/base",
            "_model_module_version": "1.2.0",
            "_model_name": "LayoutModel",
            "_view_count": null,
            "_view_module": "@jupyter-widgets/base",
            "_view_module_version": "1.2.0",
            "_view_name": "LayoutView",
            "align_content": null,
            "align_items": null,
            "align_self": null,
            "border": null,
            "bottom": null,
            "display": null,
            "flex": null,
            "flex_flow": null,
            "grid_area": null,
            "grid_auto_columns": null,
            "grid_auto_flow": null,
            "grid_auto_rows": null,
            "grid_column": null,
            "grid_gap": null,
            "grid_row": null,
            "grid_template_areas": null,
            "grid_template_columns": null,
            "grid_template_rows": null,
            "height": null,
            "justify_content": null,
            "justify_items": null,
            "left": null,
            "margin": null,
            "max_height": null,
            "max_width": null,
            "min_height": null,
            "min_width": null,
            "object_fit": null,
            "object_position": null,
            "order": null,
            "overflow": null,
            "overflow_x": null,
            "overflow_y": null,
            "padding": null,
            "right": null,
            "top": null,
            "visibility": null,
            "width": null
          }
        },
        "7a5e29cd2dc24a89a12a6aedda2498a5": {
          "model_module": "@jupyter-widgets/base",
          "model_name": "LayoutModel",
          "model_module_version": "1.2.0",
          "state": {
            "_model_module": "@jupyter-widgets/base",
            "_model_module_version": "1.2.0",
            "_model_name": "LayoutModel",
            "_view_count": null,
            "_view_module": "@jupyter-widgets/base",
            "_view_module_version": "1.2.0",
            "_view_name": "LayoutView",
            "align_content": null,
            "align_items": null,
            "align_self": null,
            "border": null,
            "bottom": null,
            "display": null,
            "flex": null,
            "flex_flow": null,
            "grid_area": null,
            "grid_auto_columns": null,
            "grid_auto_flow": null,
            "grid_auto_rows": null,
            "grid_column": null,
            "grid_gap": null,
            "grid_row": null,
            "grid_template_areas": null,
            "grid_template_columns": null,
            "grid_template_rows": null,
            "height": null,
            "justify_content": null,
            "justify_items": null,
            "left": null,
            "margin": null,
            "max_height": null,
            "max_width": null,
            "min_height": null,
            "min_width": null,
            "object_fit": null,
            "object_position": null,
            "order": null,
            "overflow": null,
            "overflow_x": null,
            "overflow_y": null,
            "padding": null,
            "right": null,
            "top": null,
            "visibility": null,
            "width": null
          }
        },
        "965e51934968486f8221e1c8b4dfee96": {
          "model_module": "@jupyter-widgets/controls",
          "model_name": "DescriptionStyleModel",
          "model_module_version": "1.5.0",
          "state": {
            "_model_module": "@jupyter-widgets/controls",
            "_model_module_version": "1.5.0",
            "_model_name": "DescriptionStyleModel",
            "_view_count": null,
            "_view_module": "@jupyter-widgets/base",
            "_view_module_version": "1.2.0",
            "_view_name": "StyleView",
            "description_width": ""
          }
        },
        "436f4c518f7149f18329387885318c6b": {
          "model_module": "@jupyter-widgets/base",
          "model_name": "LayoutModel",
          "model_module_version": "1.2.0",
          "state": {
            "_model_module": "@jupyter-widgets/base",
            "_model_module_version": "1.2.0",
            "_model_name": "LayoutModel",
            "_view_count": null,
            "_view_module": "@jupyter-widgets/base",
            "_view_module_version": "1.2.0",
            "_view_name": "LayoutView",
            "align_content": null,
            "align_items": null,
            "align_self": null,
            "border": null,
            "bottom": null,
            "display": null,
            "flex": null,
            "flex_flow": null,
            "grid_area": null,
            "grid_auto_columns": null,
            "grid_auto_flow": null,
            "grid_auto_rows": null,
            "grid_column": null,
            "grid_gap": null,
            "grid_row": null,
            "grid_template_areas": null,
            "grid_template_columns": null,
            "grid_template_rows": null,
            "height": null,
            "justify_content": null,
            "justify_items": null,
            "left": null,
            "margin": null,
            "max_height": null,
            "max_width": null,
            "min_height": null,
            "min_width": null,
            "object_fit": null,
            "object_position": null,
            "order": null,
            "overflow": null,
            "overflow_x": null,
            "overflow_y": null,
            "padding": null,
            "right": null,
            "top": null,
            "visibility": null,
            "width": null
          }
        },
        "ed3149af2b264be8bbcbaf7eb1e00532": {
          "model_module": "@jupyter-widgets/controls",
          "model_name": "ProgressStyleModel",
          "model_module_version": "1.5.0",
          "state": {
            "_model_module": "@jupyter-widgets/controls",
            "_model_module_version": "1.5.0",
            "_model_name": "ProgressStyleModel",
            "_view_count": null,
            "_view_module": "@jupyter-widgets/base",
            "_view_module_version": "1.2.0",
            "_view_name": "StyleView",
            "bar_color": null,
            "description_width": ""
          }
        },
        "f08b93d2b4824b6591e9d2d255c7a820": {
          "model_module": "@jupyter-widgets/base",
          "model_name": "LayoutModel",
          "model_module_version": "1.2.0",
          "state": {
            "_model_module": "@jupyter-widgets/base",
            "_model_module_version": "1.2.0",
            "_model_name": "LayoutModel",
            "_view_count": null,
            "_view_module": "@jupyter-widgets/base",
            "_view_module_version": "1.2.0",
            "_view_name": "LayoutView",
            "align_content": null,
            "align_items": null,
            "align_self": null,
            "border": null,
            "bottom": null,
            "display": null,
            "flex": null,
            "flex_flow": null,
            "grid_area": null,
            "grid_auto_columns": null,
            "grid_auto_flow": null,
            "grid_auto_rows": null,
            "grid_column": null,
            "grid_gap": null,
            "grid_row": null,
            "grid_template_areas": null,
            "grid_template_columns": null,
            "grid_template_rows": null,
            "height": null,
            "justify_content": null,
            "justify_items": null,
            "left": null,
            "margin": null,
            "max_height": null,
            "max_width": null,
            "min_height": null,
            "min_width": null,
            "object_fit": null,
            "object_position": null,
            "order": null,
            "overflow": null,
            "overflow_x": null,
            "overflow_y": null,
            "padding": null,
            "right": null,
            "top": null,
            "visibility": null,
            "width": null
          }
        },
        "66737fe90f054e3fa961cb5bbcf1812b": {
          "model_module": "@jupyter-widgets/controls",
          "model_name": "DescriptionStyleModel",
          "model_module_version": "1.5.0",
          "state": {
            "_model_module": "@jupyter-widgets/controls",
            "_model_module_version": "1.5.0",
            "_model_name": "DescriptionStyleModel",
            "_view_count": null,
            "_view_module": "@jupyter-widgets/base",
            "_view_module_version": "1.2.0",
            "_view_name": "StyleView",
            "description_width": ""
          }
        }
      }
    }
  },
  "cells": [
    {
      "cell_type": "code",
      "source": [
        "import os, random, math, itertools\n",
        "import numpy as np\n",
        "import tensorflow as tf\n",
        "from tensorflow import keras\n",
        "from tensorflow.keras import layers\n",
        "import matplotlib.pyplot as plt\n",
        "from glob import glob\n",
        "import pandas as pd\n",
        "\n",
        "np.random.seed(42)\n",
        "tf.random.set_seed(42)\n",
        "\n",
        "IMG_HEIGHT, IMG_WIDTH = 64, 256\n",
        "BATCH_SIZE = 32\n",
        "AUTOTUNE = tf.data.AUTOTUNE"
      ],
      "metadata": {
        "id": "v_poYrEJAxQf"
      },
      "execution_count": 21,
      "outputs": []
    },
    {
      "cell_type": "code",
      "source": [
        "from huggingface_hub import snapshot_download\n",
        "import zipfile\n",
        "\n",
        "dataset_dir = snapshot_download(\n",
        "  repo_id=\"YCAI3/HCI_P2\",\n",
        "  repo_type=\"dataset\",\n",
        "  local_dir=\"./HCI_Dataset\",\n",
        "  ignore_patterns=[\".gitattributes\"]\n",
        ")\n",
        "\n",
        "print(\"Dataset downloaded to:\", dataset_dir)\n",
        "\n",
        "zip_path = os.path.join(dataset_dir, \"HCI_Dataset.zip\")\n",
        "extract_dir = os.path.join(dataset_dir, \"unzipped\")\n",
        "\n",
        "# Extract the dataset if not already extracted\n",
        "if not os.path.exists(extract_dir):\n",
        "  with zipfile.ZipFile(zip_path, \"r\") as zip_ref:\n",
        "    zip_ref.extractall(extract_dir)\n",
        "\n",
        "# Base path where the actual images live\n",
        "base_path = \"./HCI_Dataset/unzipped/HCI_Dataset\"\n",
        "assert os.path.exists(base_path), f\"Expected folder not found: {base_path}\"\n"
      ],
      "metadata": {
        "id": "BoQMx7XAAzOu",
        "outputId": "ef497d1a-cdbf-4b6a-af56-f5eb82c8ca0d",
        "colab": {
          "base_uri": "https://localhost:8080/",
          "height": 66,
          "referenced_widgets": [
            "3881f23049f3413f9f4d0ecd3dab8064",
            "bdf1908895d44bbda4eb97e82718a984",
            "39fe3f65d0894586b3f49456b202d5a4",
            "21a394644fa84925bed6026611443b37",
            "5cbd20a6f8ea4d8fb0e0e0164c77855d",
            "7a5e29cd2dc24a89a12a6aedda2498a5",
            "965e51934968486f8221e1c8b4dfee96",
            "436f4c518f7149f18329387885318c6b",
            "ed3149af2b264be8bbcbaf7eb1e00532",
            "f08b93d2b4824b6591e9d2d255c7a820",
            "66737fe90f054e3fa961cb5bbcf1812b"
          ]
        }
      },
      "execution_count": 22,
      "outputs": [
        {
          "output_type": "display_data",
          "data": {
            "text/plain": [
              "Fetching 2 files:   0%|          | 0/2 [00:00<?, ?it/s]"
            ],
            "application/vnd.jupyter.widget-view+json": {
              "version_major": 2,
              "version_minor": 0,
              "model_id": "3881f23049f3413f9f4d0ecd3dab8064"
            }
          },
          "metadata": {}
        },
        {
          "output_type": "stream",
          "name": "stdout",
          "text": [
            "Dataset downloaded to: /content/HCI_Dataset\n"
          ]
        }
      ]
    },
    {
      "cell_type": "code",
      "source": [
        "# Recursively collect *.jpg\n",
        "image_paths = glob(os.path.join(base_path, \"**\", \"*.jpg\"), recursive=True)\n",
        "print(\"Total images found:\", len(image_paths))\n",
        "\n",
        "def get_word_label_from_filename(path):\n",
        "  fname = os.path.basename(path)\n",
        "  parts = fname.split(\"_\")\n",
        "  return parts[1] if len(parts) >= 2 else \"\"\n",
        "\n",
        "data = pd.DataFrame({\n",
        "  \"path\": image_paths,\n",
        "  \"label\": [get_word_label_from_filename(p) for p in image_paths]\n",
        "})\n",
        "\n",
        "# Basic sanity check\n",
        "print(data.sample(5))\n",
        "print(\"Unique sample words:\", data['label'].nunique())\n"
      ],
      "metadata": {
        "id": "GX-elx6iA0Yg",
        "outputId": "e93febac-7c0d-4f28-99d4-bd8802b05ff5",
        "colab": {
          "base_uri": "https://localhost:8080/"
        }
      },
      "execution_count": 23,
      "outputs": [
        {
          "output_type": "stream",
          "name": "stdout",
          "text": [
            "Total images found: 609656\n",
            "                                                     path          label\n",
            "497818  ./HCI_Dataset/unzipped/HCI_Dataset/116/5/213_6...             60\n",
            "180397  ./HCI_Dataset/unzipped/HCI_Dataset/193/3/445_P...          Plaid\n",
            "232696  ./HCI_Dataset/unzipped/HCI_Dataset/59/7/24_For...     Formatting\n",
            "19774   ./HCI_Dataset/unzipped/HCI_Dataset/64/4/161_Na...        Napping\n",
            "244604  ./HCI_Dataset/unzipped/HCI_Dataset/29/3/388_re...  remonstrances\n",
            "Unique sample words: 237485\n"
          ]
        }
      ]
    },
    {
      "cell_type": "code",
      "source": [
        "all_text = \"\".join(data[\"label\"].astype(str).tolist())\n",
        "unique_chars = sorted(list(set(all_text)))\n",
        "print(\"Unique chars ({}):\".format(len(unique_chars)), unique_chars[:80], \"...\")\n",
        "\n",
        "char_to_num = layers.StringLookup(\n",
        "  vocabulary=unique_chars,\n",
        "  num_oov_indices=0,\n",
        "  mask_token=None\n",
        ")\n",
        "\n",
        "num_to_char = layers.StringLookup(\n",
        "  vocabulary=char_to_num.get_vocabulary(),\n",
        "  invert=True,\n",
        "  num_oov_indices=0,\n",
        "  mask_token=None\n",
        ")\n",
        "\n",
        "test_word = data[\"label\"].iloc[0]\n",
        "enc = char_to_num(tf.strings.unicode_split(test_word, \"UTF-8\"))\n",
        "dec = tf.strings.reduce_join(num_to_char(enc)).numpy().decode(\"utf-8\")\n",
        "print(\"Test label:\", test_word, \"| Encoded len:\", enc.shape[0], \"| Decoded:\", dec)\n"
      ],
      "metadata": {
        "id": "OIAlYlX4A1aP",
        "outputId": "e121c813-3082-4f88-f1b9-14b97063daab",
        "colab": {
          "base_uri": "https://localhost:8080/"
        }
      },
      "execution_count": 24,
      "outputs": [
        {
          "output_type": "stream",
          "name": "stdout",
          "text": [
            "Unique chars (62): ['0', '1', '2', '3', '4', '5', '6', '7', '8', '9', 'A', 'B', 'C', 'D', 'E', 'F', 'G', 'H', 'I', 'J', 'K', 'L', 'M', 'N', 'O', 'P', 'Q', 'R', 'S', 'T', 'U', 'V', 'W', 'X', 'Y', 'Z', 'a', 'b', 'c', 'd', 'e', 'f', 'g', 'h', 'i', 'j', 'k', 'l', 'm', 'n', 'o', 'p', 'q', 'r', 's', 't', 'u', 'v', 'w', 'x', 'y', 'z'] ...\n",
            "Test label: Duelists | Encoded len: 8 | Decoded: Duelists\n"
          ]
        }
      ]
    },
    {
      "cell_type": "code",
      "source": [
        "def preprocess_example(path, label_str):\n",
        "  img_bytes = tf.io.read_file(path)\n",
        "  img = tf.image.decode_jpeg(img_bytes, channels=1)\n",
        "  img = tf.image.resize(img, [IMG_HEIGHT, IMG_WIDTH])\n",
        "  img = tf.cast(img, tf.float32) / 255.0\n",
        "\n",
        "  label_chars = tf.strings.unicode_split(label_str, \"UTF-8\")\n",
        "  label_ids = char_to_num(label_chars)\n",
        "\n",
        "  return img, label_ids\n"
      ],
      "metadata": {
        "id": "wg1iATlLA2gf"
      },
      "execution_count": 25,
      "outputs": []
    },
    {
      "cell_type": "code",
      "source": [
        "idx = np.arange(len(data))\n",
        "np.random.shuffle(idx)\n",
        "\n",
        "train_end = int(0.8 * len(idx))\n",
        "val_end   = int(0.9 * len(idx))\n",
        "\n",
        "train_idx = idx[:train_end]\n",
        "val_idx   = idx[train_end:val_end]\n",
        "test_idx  = idx[val_end:]\n",
        "\n",
        "train_paths = data[\"path\"].values[train_idx]\n",
        "train_labels= data[\"label\"].values[train_idx]\n",
        "val_paths   = data[\"path\"].values[val_idx]\n",
        "val_labels  = data[\"label\"].values[val_idx]\n",
        "test_paths  = data[\"path\"].values[test_idx]\n",
        "test_labels = data[\"label\"].values[test_idx]\n",
        "\n",
        "print(\"Splits -> train:\", len(train_paths), \"val:\", len(val_paths), \"test:\", len(test_paths))\n",
        "\n",
        "train_raw = tf.data.Dataset.from_tensor_slices((train_paths, train_labels))\n",
        "val_raw   = tf.data.Dataset.from_tensor_slices((val_paths,   val_labels))\n",
        "test_raw  = tf.data.Dataset.from_tensor_slices((test_paths,  test_labels))\n",
        "\n",
        "train_mapped = train_raw.map(preprocess_example, num_parallel_calls=AUTOTUNE)\n",
        "val_mapped   = val_raw.map(preprocess_example,   num_parallel_calls=AUTOTUNE)\n",
        "test_mapped  = test_raw.map(preprocess_example,  num_parallel_calls=AUTOTUNE)\n"
      ],
      "metadata": {
        "id": "UcoPpapgA3du",
        "outputId": "fe6fa20c-61be-4d4b-c6f7-4945857b5773",
        "colab": {
          "base_uri": "https://localhost:8080/"
        }
      },
      "execution_count": 26,
      "outputs": [
        {
          "output_type": "stream",
          "name": "stdout",
          "text": [
            "Splits -> train: 487724 val: 60966 test: 60966\n"
          ]
        }
      ]
    },
    {
      "cell_type": "code",
      "source": [
        "def _to_dtypes(img, label_ids):\n",
        "  img = tf.cast(img, tf.float32)\n",
        "  label_ids = tf.cast(label_ids, tf.int32)\n",
        "  return img, label_ids\n",
        "\n",
        "train_mapped = train_mapped.map(_to_dtypes, num_parallel_calls=AUTOTUNE)\n",
        "val_mapped   = val_mapped.map(_to_dtypes,   num_parallel_calls=AUTOTUNE)\n",
        "test_mapped  = test_mapped.map(_to_dtypes,  num_parallel_calls=AUTOTUNE)\n",
        "\n",
        "PADDING_VALUES = (\n",
        "  tf.constant(0.0, dtype=tf.float32),\n",
        "  tf.constant(-1,  dtype=tf.int32)\n",
        ")\n",
        "\n",
        "train_ds = (train_mapped.shuffle(8192, reshuffle_each_iteration=True).padded_batch(BATCH_SIZE,padded_shapes=([IMG_HEIGHT, IMG_WIDTH, 1], [None]),padding_values=PADDING_VALUES).prefetch(AUTOTUNE))\n",
        "\n",
        "val_ds = (val_mapped.padded_batch(BATCH_SIZE,padded_shapes=([IMG_HEIGHT, IMG_WIDTH, 1], [None]),padding_values=PADDING_VALUES).prefetch(AUTOTUNE))\n",
        "\n",
        "test_ds = (test_mapped.padded_batch(BATCH_SIZE,padded_shapes=([IMG_HEIGHT, IMG_WIDTH, 1], [None]),padding_values=PADDING_VALUES).prefetch(AUTOTUNE))\n",
        "\n",
        "for imgs, labs in train_ds.take(1):\n",
        "  print(\"Batch images:\", imgs.shape, imgs.dtype)\n",
        "  print(\"Batch labels shape:\", labs.shape, labs.dtype)\n",
        "  print(\"First label (padded ids):\", labs[0][:20].numpy())\n",
        "  break\n"
      ],
      "metadata": {
        "id": "7biChw-GA4pd",
        "outputId": "a7c09d0e-764c-432f-d217-9eb7c47e30b1",
        "colab": {
          "base_uri": "https://localhost:8080/"
        }
      },
      "execution_count": 27,
      "outputs": [
        {
          "output_type": "stream",
          "name": "stdout",
          "text": [
            "Batch images: (32, 64, 256, 1) <dtype: 'float32'>\n",
            "Batch labels shape: (32, 15) <dtype: 'int32'>\n",
            "First label (padded ids): [22 30 21 29 18 25 21 14 28 -1 -1 -1 -1 -1 -1]\n"
          ]
        }
      ]
    },
    {
      "cell_type": "code",
      "source": [
        "def decode_label_ids(label_ids_tensor):\n",
        "  valid = tf.boolean_mask(label_ids_tensor, label_ids_tensor != -1)\n",
        "  chars = num_to_char(valid)\n",
        "  return tf.strings.reduce_join(chars).numpy().decode(\"utf-8\")\n",
        "\n",
        "import matplotlib.pyplot as plt\n",
        "\n",
        "for imgs, labs in train_ds.take(1):\n",
        "  idx = 0\n",
        "  plt.imshow(tf.squeeze(imgs[idx]), cmap='gray')\n",
        "  plt.title(\"Decoded label: \" + decode_label_ids(labs[idx]))\n",
        "  plt.axis('off')\n",
        "  plt.show()\n",
        "  break\n"
      ],
      "metadata": {
        "id": "S9XpUqBqA5z8",
        "outputId": "9311c3a2-9ddb-4495-8cdf-392ccb3b27ee",
        "colab": {
          "base_uri": "https://localhost:8080/",
          "height": 183
        }
      },
      "execution_count": 28,
      "outputs": [
        {
          "output_type": "display_data",
          "data": {
            "text/plain": [
              "<Figure size 640x480 with 1 Axes>"
            ],
            "image/png": "[encoded data removed]"
          },
          "metadata": {}
        }
      ]
    },
    {
      "cell_type": "code",
      "source": [
        "def ctc_loss_func(y_true, y_pred):\n",
        "  y_true = tf.cast(y_true, tf.int32)\n",
        "  y_pred = tf.cast(y_pred, tf.float32)\n",
        "\n",
        "  B = tf.shape(y_true)[0]\n",
        "  T = tf.shape(y_pred)[1]\n",
        "  label_len = tf.reduce_sum(tf.cast(y_true != -1, tf.int32), axis=1)  # (B,)\n",
        "\n",
        "  label_len = tf.minimum(label_len, T)\n",
        "\n",
        "  y_true_fixed = tf.where(y_true < 0, tf.zeros_like(y_true), y_true)\n",
        "\n",
        "  input_len = tf.fill([B, 1], T)\n",
        "  label_len = tf.reshape(label_len, [B, 1])\n",
        "\n",
        "  return tf.keras.backend.ctc_batch_cost(y_true_fixed, y_pred, input_len, label_len)\n"
      ],
      "metadata": {
        "id": "NoCM-sJzA63f"
      },
      "execution_count": 29,
      "outputs": []
    },
    {
      "cell_type": "code",
      "source": [
        "from tensorflow.keras import layers, models\n",
        "\n",
        "def build_crnn_lstm(img_h=IMG_HEIGHT, img_w=IMG_WIDTH, vocab_size=None):\n",
        "  assert vocab_size is not None, \"Pass vocab_size=len(unique_chars)+1 (for CTC blank).\"\n",
        "\n",
        "  inp = layers.Input(shape=(img_h, img_w, 1), name=\"image\")\n",
        "\n",
        "  x = layers.Conv2D(64, (3,3), padding=\"same\", activation=\"relu\")(inp)\n",
        "  x = layers.MaxPooling2D((2,2))(x)\n",
        "\n",
        "  x = layers.Conv2D(128, (3,3), padding=\"same\", activation=\"relu\")(x)\n",
        "  x = layers.MaxPooling2D((2,2))(x)\n",
        "\n",
        "  x = layers.Conv2D(128, (3,3), padding=\"same\", activation=\"relu\")(x)\n",
        "  x = layers.MaxPooling2D((2,2))(x)\n",
        "  x = layers.Dropout(0.2)(x)\n",
        "\n",
        "  Hp = img_h // 8\n",
        "  Wp = img_w // 8\n",
        "  C  = 128\n",
        "\n",
        "  x = layers.Permute((2, 1, 3))(x)\n",
        "  x = layers.Reshape((Wp, Hp * C))(x)\n",
        "\n",
        "  x = layers.Bidirectional(layers.LSTM(128, return_sequences=True))(x)\n",
        "  x = layers.Bidirectional(layers.LSTM(64,  return_sequences=True))(x)\n",
        "\n",
        "  out = layers.Dense(vocab_size, activation=\"softmax\")(x)\n",
        "\n",
        "  return models.Model(inputs=inp, outputs=out, name=\"CRNN_LSTM\")\n",
        "\n",
        "VOCAB_SIZE = len(unique_chars) + 1\n",
        "crnn_lstm = build_crnn_lstm(vocab_size=VOCAB_SIZE)\n",
        "\n",
        "crnn_lstm.summary()\n"
      ],
      "metadata": {
        "id": "B34OryD7A71x",
        "outputId": "089f897b-7f1f-4a65-dc58-1a663287fc1a",
        "colab": {
          "base_uri": "https://localhost:8080/",
          "height": 577
        }
      },
      "execution_count": 30,
      "outputs": [
        {
          "output_type": "display_data",
          "data": {
            "text/plain": [
              "\u001b[1mModel: \"CRNN_LSTM\"\u001b[0m\n"
            ],
            "text/html": [
              "<pre style=\"white-space:pre;overflow-x:auto;line-height:normal;font-family:Menlo,'DejaVu Sans Mono',consolas,'Courier New',monospace\"><span style=\"font-weight: bold\">Model: \"CRNN_LSTM\"</span>\n",
              "</pre>\n"
            ]
          },
          "metadata": {}
        },
        {
          "output_type": "display_data",
          "data": {
            "text/plain": [
              "┏━━━━━━━━━━━━━━━━━━━━━━━━━━━━━━━━━┳━━━━━━━━━━━━━━━━━━━━━━━━┳━━━━━━━━━━━━━━━┓\n",
              "┃\u001b[1m \u001b[0m\u001b[1mLayer (type)                   \u001b[0m\u001b[1m \u001b[0m┃\u001b[1m \u001b[0m\u001b[1mOutput Shape          \u001b[0m\u001b[1m \u001b[0m┃\u001b[1m \u001b[0m\u001b[1m      Param #\u001b[0m\u001b[1m \u001b[0m┃\n",
              "┡━━━━━━━━━━━━━━━━━━━━━━━━━━━━━━━━━╇━━━━━━━━━━━━━━━━━━━━━━━━╇━━━━━━━━━━━━━━━┩\n",
              "│ image (\u001b[38;5;33mInputLayer\u001b[0m)              │ (\u001b[38;5;45mNone\u001b[0m, \u001b[38;5;34m64\u001b[0m, \u001b[38;5;34m256\u001b[0m, \u001b[38;5;34m1\u001b[0m)     │             \u001b[38;5;34m0\u001b[0m │\n",
              "├─────────────────────────────────┼────────────────────────┼───────────────┤\n",
              "│ conv2d_12 (\u001b[38;5;33mConv2D\u001b[0m)              │ (\u001b[38;5;45mNone\u001b[0m, \u001b[38;5;34m64\u001b[0m, \u001b[38;5;34m256\u001b[0m, \u001b[38;5;34m64\u001b[0m)    │           \u001b[38;5;34m640\u001b[0m │\n",
              "├─────────────────────────────────┼────────────────────────┼───────────────┤\n",
              "│ max_pooling2d_12 (\u001b[38;5;33mMaxPooling2D\u001b[0m) │ (\u001b[38;5;45mNone\u001b[0m, \u001b[38;5;34m32\u001b[0m, \u001b[38;5;34m128\u001b[0m, \u001b[38;5;34m64\u001b[0m)    │             \u001b[38;5;34m0\u001b[0m │\n",
              "├─────────────────────────────────┼────────────────────────┼───────────────┤\n",
              "│ conv2d_13 (\u001b[38;5;33mConv2D\u001b[0m)              │ (\u001b[38;5;45mNone\u001b[0m, \u001b[38;5;34m32\u001b[0m, \u001b[38;5;34m128\u001b[0m, \u001b[38;5;34m128\u001b[0m)   │        \u001b[38;5;34m73,856\u001b[0m │\n",
              "├─────────────────────────────────┼────────────────────────┼───────────────┤\n",
              "│ max_pooling2d_13 (\u001b[38;5;33mMaxPooling2D\u001b[0m) │ (\u001b[38;5;45mNone\u001b[0m, \u001b[38;5;34m16\u001b[0m, \u001b[38;5;34m64\u001b[0m, \u001b[38;5;34m128\u001b[0m)    │             \u001b[38;5;34m0\u001b[0m │\n",
              "├─────────────────────────────────┼────────────────────────┼───────────────┤\n",
              "│ conv2d_14 (\u001b[38;5;33mConv2D\u001b[0m)              │ (\u001b[38;5;45mNone\u001b[0m, \u001b[38;5;34m16\u001b[0m, \u001b[38;5;34m64\u001b[0m, \u001b[38;5;34m128\u001b[0m)    │       \u001b[38;5;34m147,584\u001b[0m │\n",
              "├─────────────────────────────────┼────────────────────────┼───────────────┤\n",
              "│ max_pooling2d_14 (\u001b[38;5;33mMaxPooling2D\u001b[0m) │ (\u001b[38;5;45mNone\u001b[0m, \u001b[38;5;34m8\u001b[0m, \u001b[38;5;34m32\u001b[0m, \u001b[38;5;34m128\u001b[0m)     │             \u001b[38;5;34m0\u001b[0m │\n",
              "├─────────────────────────────────┼────────────────────────┼───────────────┤\n",
              "│ dropout_1 (\u001b[38;5;33mDropout\u001b[0m)             │ (\u001b[38;5;45mNone\u001b[0m, \u001b[38;5;34m8\u001b[0m, \u001b[38;5;34m32\u001b[0m, \u001b[38;5;34m128\u001b[0m)     │             \u001b[38;5;34m0\u001b[0m │\n",
              "├─────────────────────────────────┼────────────────────────┼───────────────┤\n",
              "│ permute_5 (\u001b[38;5;33mPermute\u001b[0m)             │ (\u001b[38;5;45mNone\u001b[0m, \u001b[38;5;34m32\u001b[0m, \u001b[38;5;34m8\u001b[0m, \u001b[38;5;34m128\u001b[0m)     │             \u001b[38;5;34m0\u001b[0m │\n",
              "├─────────────────────────────────┼────────────────────────┼───────────────┤\n",
              "│ reshape_5 (\u001b[38;5;33mReshape\u001b[0m)             │ (\u001b[38;5;45mNone\u001b[0m, \u001b[38;5;34m32\u001b[0m, \u001b[38;5;34m1024\u001b[0m)       │             \u001b[38;5;34m0\u001b[0m │\n",
              "├─────────────────────────────────┼────────────────────────┼───────────────┤\n",
              "│ bidirectional_10                │ (\u001b[38;5;45mNone\u001b[0m, \u001b[38;5;34m32\u001b[0m, \u001b[38;5;34m256\u001b[0m)        │     \u001b[38;5;34m1,180,672\u001b[0m │\n",
              "│ (\u001b[38;5;33mBidirectional\u001b[0m)                 │                        │               │\n",
              "├─────────────────────────────────┼────────────────────────┼───────────────┤\n",
              "│ bidirectional_11                │ (\u001b[38;5;45mNone\u001b[0m, \u001b[38;5;34m32\u001b[0m, \u001b[38;5;34m128\u001b[0m)        │       \u001b[38;5;34m164,352\u001b[0m │\n",
              "│ (\u001b[38;5;33mBidirectional\u001b[0m)                 │                        │               │\n",
              "├─────────────────────────────────┼────────────────────────┼───────────────┤\n",
              "│ dense_5 (\u001b[38;5;33mDense\u001b[0m)                 │ (\u001b[38;5;45mNone\u001b[0m, \u001b[38;5;34m32\u001b[0m, \u001b[38;5;34m63\u001b[0m)         │         \u001b[38;5;34m8,127\u001b[0m │\n",
              "└─────────────────────────────────┴────────────────────────┴───────────────┘\n"
            ],
            "text/html": [
              "<pre style=\"white-space:pre;overflow-x:auto;line-height:normal;font-family:Menlo,'DejaVu Sans Mono',consolas,'Courier New',monospace\">┏━━━━━━━━━━━━━━━━━━━━━━━━━━━━━━━━━┳━━━━━━━━━━━━━━━━━━━━━━━━┳━━━━━━━━━━━━━━━┓\n",
              "┃<span style=\"font-weight: bold\"> Layer (type)                    </span>┃<span style=\"font-weight: bold\"> Output Shape           </span>┃<span style=\"font-weight: bold\">       Param # </span>┃\n",
              "┡━━━━━━━━━━━━━━━━━━━━━━━━━━━━━━━━━╇━━━━━━━━━━━━━━━━━━━━━━━━╇━━━━━━━━━━━━━━━┩\n",
              "│ image (<span style=\"color: #0087ff; text-decoration-color: #0087ff\">InputLayer</span>)              │ (<span style=\"color: #00d7ff; text-decoration-color: #00d7ff\">None</span>, <span style=\"color: #00af00; text-decoration-color: #00af00\">64</span>, <span style=\"color: #00af00; text-decoration-color: #00af00\">256</span>, <span style=\"color: #00af00; text-decoration-color: #00af00\">1</span>)     │             <span style=\"color: #00af00; text-decoration-color: #00af00\">0</span> │\n",
              "├─────────────────────────────────┼────────────────────────┼───────────────┤\n",
              "│ conv2d_12 (<span style=\"color: #0087ff; text-decoration-color: #0087ff\">Conv2D</span>)              │ (<span style=\"color: #00d7ff; text-decoration-color: #00d7ff\">None</span>, <span style=\"color: #00af00; text-decoration-color: #00af00\">64</span>, <span style=\"color: #00af00; text-decoration-color: #00af00\">256</span>, <span style=\"color: #00af00; text-decoration-color: #00af00\">64</span>)    │           <span style=\"color: #00af00; text-decoration-color: #00af00\">640</span> │\n",
              "├─────────────────────────────────┼────────────────────────┼───────────────┤\n",
              "│ max_pooling2d_12 (<span style=\"color: #0087ff; text-decoration-color: #0087ff\">MaxPooling2D</span>) │ (<span style=\"color: #00d7ff; text-decoration-color: #00d7ff\">None</span>, <span style=\"color: #00af00; text-decoration-color: #00af00\">32</span>, <span style=\"color: #00af00; text-decoration-color: #00af00\">128</span>, <span style=\"color: #00af00; text-decoration-color: #00af00\">64</span>)    │             <span style=\"color: #00af00; text-decoration-color: #00af00\">0</span> │\n",
              "├─────────────────────────────────┼────────────────────────┼───────────────┤\n",
              "│ conv2d_13 (<span style=\"color: #0087ff; text-decoration-color: #0087ff\">Conv2D</span>)              │ (<span style=\"color: #00d7ff; text-decoration-color: #00d7ff\">None</span>, <span style=\"color: #00af00; text-decoration-color: #00af00\">32</span>, <span style=\"color: #00af00; text-decoration-color: #00af00\">128</span>, <span style=\"color: #00af00; text-decoration-color: #00af00\">128</span>)   │        <span style=\"color: #00af00; text-decoration-color: #00af00\">73,856</span> │\n",
              "├─────────────────────────────────┼────────────────────────┼───────────────┤\n",
              "│ max_pooling2d_13 (<span style=\"color: #0087ff; text-decoration-color: #0087ff\">MaxPooling2D</span>) │ (<span style=\"color: #00d7ff; text-decoration-color: #00d7ff\">None</span>, <span style=\"color: #00af00; text-decoration-color: #00af00\">16</span>, <span style=\"color: #00af00; text-decoration-color: #00af00\">64</span>, <span style=\"color: #00af00; text-decoration-color: #00af00\">128</span>)    │             <span style=\"color: #00af00; text-decoration-color: #00af00\">0</span> │\n",
              "├─────────────────────────────────┼────────────────────────┼───────────────┤\n",
              "│ conv2d_14 (<span style=\"color: #0087ff; text-decoration-color: #0087ff\">Conv2D</span>)              │ (<span style=\"color: #00d7ff; text-decoration-color: #00d7ff\">None</span>, <span style=\"color: #00af00; text-decoration-color: #00af00\">16</span>, <span style=\"color: #00af00; text-decoration-color: #00af00\">64</span>, <span style=\"color: #00af00; text-decoration-color: #00af00\">128</span>)    │       <span style=\"color: #00af00; text-decoration-color: #00af00\">147,584</span> │\n",
              "├─────────────────────────────────┼────────────────────────┼───────────────┤\n",
              "│ max_pooling2d_14 (<span style=\"color: #0087ff; text-decoration-color: #0087ff\">MaxPooling2D</span>) │ (<span style=\"color: #00d7ff; text-decoration-color: #00d7ff\">None</span>, <span style=\"color: #00af00; text-decoration-color: #00af00\">8</span>, <span style=\"color: #00af00; text-decoration-color: #00af00\">32</span>, <span style=\"color: #00af00; text-decoration-color: #00af00\">128</span>)     │             <span style=\"color: #00af00; text-decoration-color: #00af00\">0</span> │\n",
              "├─────────────────────────────────┼────────────────────────┼───────────────┤\n",
              "│ dropout_1 (<span style=\"color: #0087ff; text-decoration-color: #0087ff\">Dropout</span>)             │ (<span style=\"color: #00d7ff; text-decoration-color: #00d7ff\">None</span>, <span style=\"color: #00af00; text-decoration-color: #00af00\">8</span>, <span style=\"color: #00af00; text-decoration-color: #00af00\">32</span>, <span style=\"color: #00af00; text-decoration-color: #00af00\">128</span>)     │             <span style=\"color: #00af00; text-decoration-color: #00af00\">0</span> │\n",
              "├─────────────────────────────────┼────────────────────────┼───────────────┤\n",
              "│ permute_5 (<span style=\"color: #0087ff; text-decoration-color: #0087ff\">Permute</span>)             │ (<span style=\"color: #00d7ff; text-decoration-color: #00d7ff\">None</span>, <span style=\"color: #00af00; text-decoration-color: #00af00\">32</span>, <span style=\"color: #00af00; text-decoration-color: #00af00\">8</span>, <span style=\"color: #00af00; text-decoration-color: #00af00\">128</span>)     │             <span style=\"color: #00af00; text-decoration-color: #00af00\">0</span> │\n",
              "├─────────────────────────────────┼────────────────────────┼───────────────┤\n",
              "│ reshape_5 (<span style=\"color: #0087ff; text-decoration-color: #0087ff\">Reshape</span>)             │ (<span style=\"color: #00d7ff; text-decoration-color: #00d7ff\">None</span>, <span style=\"color: #00af00; text-decoration-color: #00af00\">32</span>, <span style=\"color: #00af00; text-decoration-color: #00af00\">1024</span>)       │             <span style=\"color: #00af00; text-decoration-color: #00af00\">0</span> │\n",
              "├─────────────────────────────────┼────────────────────────┼───────────────┤\n",
              "│ bidirectional_10                │ (<span style=\"color: #00d7ff; text-decoration-color: #00d7ff\">None</span>, <span style=\"color: #00af00; text-decoration-color: #00af00\">32</span>, <span style=\"color: #00af00; text-decoration-color: #00af00\">256</span>)        │     <span style=\"color: #00af00; text-decoration-color: #00af00\">1,180,672</span> │\n",
              "│ (<span style=\"color: #0087ff; text-decoration-color: #0087ff\">Bidirectional</span>)                 │                        │               │\n",
              "├─────────────────────────────────┼────────────────────────┼───────────────┤\n",
              "│ bidirectional_11                │ (<span style=\"color: #00d7ff; text-decoration-color: #00d7ff\">None</span>, <span style=\"color: #00af00; text-decoration-color: #00af00\">32</span>, <span style=\"color: #00af00; text-decoration-color: #00af00\">128</span>)        │       <span style=\"color: #00af00; text-decoration-color: #00af00\">164,352</span> │\n",
              "│ (<span style=\"color: #0087ff; text-decoration-color: #0087ff\">Bidirectional</span>)                 │                        │               │\n",
              "├─────────────────────────────────┼────────────────────────┼───────────────┤\n",
              "│ dense_5 (<span style=\"color: #0087ff; text-decoration-color: #0087ff\">Dense</span>)                 │ (<span style=\"color: #00d7ff; text-decoration-color: #00d7ff\">None</span>, <span style=\"color: #00af00; text-decoration-color: #00af00\">32</span>, <span style=\"color: #00af00; text-decoration-color: #00af00\">63</span>)         │         <span style=\"color: #00af00; text-decoration-color: #00af00\">8,127</span> │\n",
              "└─────────────────────────────────┴────────────────────────┴───────────────┘\n",
              "</pre>\n"
            ]
          },
          "metadata": {}
        },
        {
          "output_type": "display_data",
          "data": {
            "text/plain": [
              "\u001b[1m Total params: \u001b[0m\u001b[38;5;34m1,575,231\u001b[0m (6.01 MB)\n"
            ],
            "text/html": [
              "<pre style=\"white-space:pre;overflow-x:auto;line-height:normal;font-family:Menlo,'DejaVu Sans Mono',consolas,'Courier New',monospace\"><span style=\"font-weight: bold\"> Total params: </span><span style=\"color: #00af00; text-decoration-color: #00af00\">1,575,231</span> (6.01 MB)\n",
              "</pre>\n"
            ]
          },
          "metadata": {}
        },
        {
          "output_type": "display_data",
          "data": {
            "text/plain": [
              "\u001b[1m Trainable params: \u001b[0m\u001b[38;5;34m1,575,231\u001b[0m (6.01 MB)\n"
            ],
            "text/html": [
              "<pre style=\"white-space:pre;overflow-x:auto;line-height:normal;font-family:Menlo,'DejaVu Sans Mono',consolas,'Courier New',monospace\"><span style=\"font-weight: bold\"> Trainable params: </span><span style=\"color: #00af00; text-decoration-color: #00af00\">1,575,231</span> (6.01 MB)\n",
              "</pre>\n"
            ]
          },
          "metadata": {}
        },
        {
          "output_type": "display_data",
          "data": {
            "text/plain": [
              "\u001b[1m Non-trainable params: \u001b[0m\u001b[38;5;34m0\u001b[0m (0.00 B)\n"
            ],
            "text/html": [
              "<pre style=\"white-space:pre;overflow-x:auto;line-height:normal;font-family:Menlo,'DejaVu Sans Mono',consolas,'Courier New',monospace\"><span style=\"font-weight: bold\"> Non-trainable params: </span><span style=\"color: #00af00; text-decoration-color: #00af00\">0</span> (0.00 B)\n",
              "</pre>\n"
            ]
          },
          "metadata": {}
        }
      ]
    },
    {
      "cell_type": "code",
      "source": [
        "# Peek at one batch\n",
        "imgs, labs = next(iter(train_ds))\n",
        "print(\"Batch images:\", imgs.shape, imgs.dtype)\n",
        "print(\"Batch labels:\", labs.shape, labs.dtype)\n",
        "\n",
        "probe = crnn_lstm(imgs[:1])\n",
        "print(\"Model output shape (B, T, C):\", probe.shape)\n"
      ],
      "metadata": {
        "id": "irn1mAQBONBj",
        "outputId": "43a3191e-5387-48d1-80cc-95fd6b2faa72",
        "colab": {
          "base_uri": "https://localhost:8080/"
        }
      },
      "execution_count": 31,
      "outputs": [
        {
          "output_type": "stream",
          "name": "stdout",
          "text": [
            "Batch images: (32, 64, 256, 1) <dtype: 'float32'>\n",
            "Batch labels: (32, 13) <dtype: 'int32'>\n",
            "Model output shape (B, T, C): (1, 32, 63)\n"
          ]
        }
      ]
    },
    {
      "cell_type": "code",
      "source": [
        "SUB_TRAIN = 20000\n",
        "SUB_VAL   = 4000\n",
        "\n",
        "subset_train = (\n",
        "  train_ds\n",
        "  .unbatch()\n",
        "  .take(SUB_TRAIN)\n",
        "  .batch(BATCH_SIZE)\n",
        "  .repeat()\n",
        "  .prefetch(tf.data.AUTOTUNE)\n",
        ")\n",
        "subset_val = (\n",
        "  val_ds\n",
        "  .unbatch()\n",
        "  .take(SUB_VAL)\n",
        "  .batch(BATCH_SIZE)\n",
        "  .repeat()\n",
        "  .prefetch(tf.data.AUTOTUNE)\n",
        ")\n",
        "\n",
        "steps_per_epoch  = (SUB_TRAIN + BATCH_SIZE - 1) // BATCH_SIZE\n",
        "validation_steps = (SUB_VAL   + BATCH_SIZE - 1) // BATCH_SIZE\n",
        "\n",
        "crnn_lstm.compile(\n",
        "  optimizer=tf.keras.optimizers.Adam(learning_rate=1e-4),\n",
        "  loss=ctc_loss_func\n",
        ")\n",
        "\n",
        "callbacks = [\n",
        "  keras.callbacks.EarlyStopping(monitor=\"val_loss\", patience=5, restore_best_weights=True),\n",
        "  keras.callbacks.ReduceLROnPlateau(monitor=\"val_loss\", factor=0.5, patience=2, min_lr=1e-6),\n",
        "]\n",
        "\n",
        "history_lstm_adam = crnn_lstm.fit(\n",
        "  subset_train,\n",
        "  validation_data=subset_val,\n",
        "  epochs=10,\n",
        "  steps_per_epoch=steps_per_epoch,\n",
        "  validation_steps=validation_steps,\n",
        "  verbose=1\n",
        ")\n"
      ],
      "metadata": {
        "id": "pYo4IyR6A9nR",
        "outputId": "7bd0189c-a055-4d38-dd90-6a7401f30e81",
        "colab": {
          "base_uri": "https://localhost:8080/"
        }
      },
      "execution_count": 32,
      "outputs": [
        {
          "output_type": "stream",
          "name": "stdout",
          "text": [
            "Epoch 1/10\n",
            "\u001b[1m625/625\u001b[0m \u001b[32m━━━━━━━━━━━━━━━━━━━━\u001b[0m\u001b[37m\u001b[0m \u001b[1m46s\u001b[0m 66ms/step - loss: 41.5026 - val_loss: 30.9441\n",
            "Epoch 2/10\n",
            "\u001b[1m625/625\u001b[0m \u001b[32m━━━━━━━━━━━━━━━━━━━━\u001b[0m\u001b[37m\u001b[0m \u001b[1m41s\u001b[0m 66ms/step - loss: 30.7357 - val_loss: 30.4084\n",
            "Epoch 3/10\n",
            "\u001b[1m625/625\u001b[0m \u001b[32m━━━━━━━━━━━━━━━━━━━━\u001b[0m\u001b[37m\u001b[0m \u001b[1m41s\u001b[0m 66ms/step - loss: 30.2053 - val_loss: 29.7618\n",
            "Epoch 4/10\n",
            "\u001b[1m625/625\u001b[0m \u001b[32m━━━━━━━━━━━━━━━━━━━━\u001b[0m\u001b[37m\u001b[0m \u001b[1m41s\u001b[0m 66ms/step - loss: 29.5923 - val_loss: 29.0970\n",
            "Epoch 5/10\n",
            "\u001b[1m625/625\u001b[0m \u001b[32m━━━━━━━━━━━━━━━━━━━━\u001b[0m\u001b[37m\u001b[0m \u001b[1m41s\u001b[0m 66ms/step - loss: 28.9004 - val_loss: 28.6698\n",
            "Epoch 6/10\n",
            "\u001b[1m625/625\u001b[0m \u001b[32m━━━━━━━━━━━━━━━━━━━━\u001b[0m\u001b[37m\u001b[0m \u001b[1m41s\u001b[0m 66ms/step - loss: 28.4452 - val_loss: 28.0915\n",
            "Epoch 7/10\n",
            "\u001b[1m625/625\u001b[0m \u001b[32m━━━━━━━━━━━━━━━━━━━━\u001b[0m\u001b[37m\u001b[0m \u001b[1m41s\u001b[0m 66ms/step - loss: 28.1194 - val_loss: 27.9202\n",
            "Epoch 8/10\n",
            "\u001b[1m625/625\u001b[0m \u001b[32m━━━━━━━━━━━━━━━━━━━━\u001b[0m\u001b[37m\u001b[0m \u001b[1m41s\u001b[0m 66ms/step - loss: 27.6393 - val_loss: 27.7846\n",
            "Epoch 9/10\n",
            "\u001b[1m625/625\u001b[0m \u001b[32m━━━━━━━━━━━━━━━━━━━━\u001b[0m\u001b[37m\u001b[0m \u001b[1m41s\u001b[0m 66ms/step - loss: 27.3070 - val_loss: 27.2042\n",
            "Epoch 10/10\n",
            "\u001b[1m625/625\u001b[0m \u001b[32m━━━━━━━━━━━━━━━━━━━━\u001b[0m\u001b[37m\u001b[0m \u001b[1m41s\u001b[0m 66ms/step - loss: 27.0383 - val_loss: 27.0149\n"
          ]
        }
      ]
    },
    {
      "cell_type": "code",
      "source": [
        "SUB_TRAIN = 20000\n",
        "SUB_VAL   = 4000\n",
        "\n",
        "subset_train = (\n",
        "  train_ds\n",
        "  .unbatch()\n",
        "  .take(SUB_TRAIN)\n",
        "  .batch(BATCH_SIZE)\n",
        "  .repeat()\n",
        "  .prefetch(tf.data.AUTOTUNE)\n",
        ")\n",
        "subset_val = (\n",
        "  val_ds\n",
        "  .unbatch()\n",
        "  .take(SUB_VAL)\n",
        "  .batch(BATCH_SIZE)\n",
        "  .repeat()\n",
        "  .prefetch(tf.data.AUTOTUNE)\n",
        ")\n",
        "\n",
        "steps_per_epoch  = (SUB_TRAIN + BATCH_SIZE - 1) // BATCH_SIZE\n",
        "validation_steps = (SUB_VAL   + BATCH_SIZE - 1) // BATCH_SIZE\n",
        "\n",
        "crnn_lstm.compile(\n",
        "  optimizer=tf.keras.optimizers.SGD(learning_rate=1e-5),\n",
        "  loss=ctc_loss_func\n",
        ")\n",
        "\n",
        "callbacks = [\n",
        "  keras.callbacks.EarlyStopping(monitor=\"val_loss\", patience=5, restore_best_weights=True),\n",
        "  keras.callbacks.ReduceLROnPlateau(monitor=\"val_loss\", factor=0.5, patience=2, min_lr=1e-6),\n",
        "]\n",
        "\n",
        "history_lstm_sgd = crnn_lstm.fit(\n",
        "  subset_train,\n",
        "  validation_data=subset_val,\n",
        "  epochs=10,\n",
        "  steps_per_epoch=steps_per_epoch,\n",
        "  validation_steps=validation_steps,\n",
        "  verbose=1\n",
        ")"
      ],
      "metadata": {
        "id": "00ffdAOUYixc",
        "outputId": "ef77c911-559e-4a41-98fe-87b883b0dc8f",
        "colab": {
          "base_uri": "https://localhost:8080/"
        }
      },
      "execution_count": 33,
      "outputs": [
        {
          "output_type": "stream",
          "name": "stdout",
          "text": [
            "Epoch 1/10\n",
            "\u001b[1m625/625\u001b[0m \u001b[32m━━━━━━━━━━━━━━━━━━━━\u001b[0m\u001b[37m\u001b[0m \u001b[1m43s\u001b[0m 65ms/step - loss: 26.7854 - val_loss: 26.7883\n",
            "Epoch 2/10\n",
            "\u001b[1m625/625\u001b[0m \u001b[32m━━━━━━━━━━━━━━━━━━━━\u001b[0m\u001b[37m\u001b[0m \u001b[1m41s\u001b[0m 65ms/step - loss: 26.6638 - val_loss: 26.7699\n",
            "Epoch 3/10\n",
            "\u001b[1m625/625\u001b[0m \u001b[32m━━━━━━━━━━━━━━━━━━━━\u001b[0m\u001b[37m\u001b[0m \u001b[1m40s\u001b[0m 65ms/step - loss: 26.5576 - val_loss: 26.7399\n",
            "Epoch 4/10\n",
            "\u001b[1m625/625\u001b[0m \u001b[32m━━━━━━━━━━━━━━━━━━━━\u001b[0m\u001b[37m\u001b[0m \u001b[1m40s\u001b[0m 65ms/step - loss: 26.5426 - val_loss: 26.7251\n",
            "Epoch 5/10\n",
            "\u001b[1m625/625\u001b[0m \u001b[32m━━━━━━━━━━━━━━━━━━━━\u001b[0m\u001b[37m\u001b[0m \u001b[1m41s\u001b[0m 65ms/step - loss: 26.6713 - val_loss: 26.7117\n",
            "Epoch 6/10\n",
            "\u001b[1m625/625\u001b[0m \u001b[32m━━━━━━━━━━━━━━━━━━━━\u001b[0m\u001b[37m\u001b[0m \u001b[1m41s\u001b[0m 65ms/step - loss: 26.4685 - val_loss: 26.7104\n",
            "Epoch 7/10\n",
            "\u001b[1m625/625\u001b[0m \u001b[32m━━━━━━━━━━━━━━━━━━━━\u001b[0m\u001b[37m\u001b[0m \u001b[1m40s\u001b[0m 65ms/step - loss: 26.6439 - val_loss: 26.7051\n",
            "Epoch 8/10\n",
            "\u001b[1m625/625\u001b[0m \u001b[32m━━━━━━━━━━━━━━━━━━━━\u001b[0m\u001b[37m\u001b[0m \u001b[1m40s\u001b[0m 65ms/step - loss: 26.5294 - val_loss: 26.6909\n",
            "Epoch 9/10\n",
            "\u001b[1m625/625\u001b[0m \u001b[32m━━━━━━━━━━━━━━━━━━━━\u001b[0m\u001b[37m\u001b[0m \u001b[1m40s\u001b[0m 65ms/step - loss: 26.5263 - val_loss: 26.6848\n",
            "Epoch 10/10\n",
            "\u001b[1m625/625\u001b[0m \u001b[32m━━━━━━━━━━━━━━━━━━━━\u001b[0m\u001b[37m\u001b[0m \u001b[1m40s\u001b[0m 65ms/step - loss: 26.6533 - val_loss: 26.7057\n"
          ]
        }
      ]
    },
    {
      "cell_type": "code",
      "source": [
        "best_val = min(history_lstm_adam.history['val_loss'])\n",
        "print(f\"Best val_loss: {best_val:.4f}\")\n"
      ],
      "metadata": {
        "id": "WCDNUZfcQ3Lq",
        "outputId": "d0a40eda-08cc-4017-eac3-9e102132f601",
        "colab": {
          "base_uri": "https://localhost:8080/"
        }
      },
      "execution_count": 34,
      "outputs": [
        {
          "output_type": "stream",
          "name": "stdout",
          "text": [
            "Best val_loss: 27.0149\n"
          ]
        }
      ]
    },
    {
      "cell_type": "code",
      "source": [
        "def build_crnn_gru(img_h=IMG_HEIGHT, img_w=IMG_WIDTH, vocab_size=None):\n",
        "  assert vocab_size is not None\n",
        "\n",
        "  inp = layers.Input(shape=(img_h, img_w, 1), name=\"image\")\n",
        "  x = layers.Conv2D(64, 3, padding=\"same\", activation=\"relu\")(inp); x = layers.MaxPooling2D(2)(x)\n",
        "  x = layers.Conv2D(128,3, padding=\"same\", activation=\"relu\")(x);   x = layers.MaxPooling2D(2)(x)\n",
        "  x = layers.Conv2D(128,3, padding=\"same\", activation=\"relu\")(x);   x = layers.MaxPooling2D(2)(x)\n",
        "\n",
        "  Hp = img_h // 8; Wp = img_w // 8; C = 128\n",
        "  x = layers.Permute((2,1,3))(x)\n",
        "  x = layers.Reshape((Wp, Hp*C))(x)\n",
        "\n",
        "  x = layers.Bidirectional(layers.GRU(128, return_sequences=True))(x)\n",
        "  x = layers.Bidirectional(layers.GRU(64,  return_sequences=True))(x)\n",
        "\n",
        "  out = layers.Dense(vocab_size, activation=\"softmax\")(x)\n",
        "  return models.Model(inp, out, name=\"CRNN_GRU\")\n",
        "\n",
        "VOCAB_SIZE = len(unique_chars) + 1\n",
        "crnn_gru = build_crnn_gru(vocab_size=VOCAB_SIZE)\n",
        "\n",
        "crnn_gru.summary()"
      ],
      "metadata": {
        "id": "1AEdQ_kQcGqk",
        "outputId": "a96638b1-ad0b-4a17-d73d-7239f852c8ba",
        "colab": {
          "base_uri": "https://localhost:8080/",
          "height": 545
        }
      },
      "execution_count": 35,
      "outputs": [
        {
          "output_type": "display_data",
          "data": {
            "text/plain": [
              "\u001b[1mModel: \"CRNN_GRU\"\u001b[0m\n"
            ],
            "text/html": [
              "<pre style=\"white-space:pre;overflow-x:auto;line-height:normal;font-family:Menlo,'DejaVu Sans Mono',consolas,'Courier New',monospace\"><span style=\"font-weight: bold\">Model: \"CRNN_GRU\"</span>\n",
              "</pre>\n"
            ]
          },
          "metadata": {}
        },
        {
          "output_type": "display_data",
          "data": {
            "text/plain": [
              "┏━━━━━━━━━━━━━━━━━━━━━━━━━━━━━━━━━┳━━━━━━━━━━━━━━━━━━━━━━━━┳━━━━━━━━━━━━━━━┓\n",
              "┃\u001b[1m \u001b[0m\u001b[1mLayer (type)                   \u001b[0m\u001b[1m \u001b[0m┃\u001b[1m \u001b[0m\u001b[1mOutput Shape          \u001b[0m\u001b[1m \u001b[0m┃\u001b[1m \u001b[0m\u001b[1m      Param #\u001b[0m\u001b[1m \u001b[0m┃\n",
              "┡━━━━━━━━━━━━━━━━━━━━━━━━━━━━━━━━━╇━━━━━━━━━━━━━━━━━━━━━━━━╇━━━━━━━━━━━━━━━┩\n",
              "│ image (\u001b[38;5;33mInputLayer\u001b[0m)              │ (\u001b[38;5;45mNone\u001b[0m, \u001b[38;5;34m64\u001b[0m, \u001b[38;5;34m256\u001b[0m, \u001b[38;5;34m1\u001b[0m)     │             \u001b[38;5;34m0\u001b[0m │\n",
              "├─────────────────────────────────┼────────────────────────┼───────────────┤\n",
              "│ conv2d_15 (\u001b[38;5;33mConv2D\u001b[0m)              │ (\u001b[38;5;45mNone\u001b[0m, \u001b[38;5;34m64\u001b[0m, \u001b[38;5;34m256\u001b[0m, \u001b[38;5;34m64\u001b[0m)    │           \u001b[38;5;34m640\u001b[0m │\n",
              "├─────────────────────────────────┼────────────────────────┼───────────────┤\n",
              "│ max_pooling2d_15 (\u001b[38;5;33mMaxPooling2D\u001b[0m) │ (\u001b[38;5;45mNone\u001b[0m, \u001b[38;5;34m32\u001b[0m, \u001b[38;5;34m128\u001b[0m, \u001b[38;5;34m64\u001b[0m)    │             \u001b[38;5;34m0\u001b[0m │\n",
              "├─────────────────────────────────┼────────────────────────┼───────────────┤\n",
              "│ conv2d_16 (\u001b[38;5;33mConv2D\u001b[0m)              │ (\u001b[38;5;45mNone\u001b[0m, \u001b[38;5;34m32\u001b[0m, \u001b[38;5;34m128\u001b[0m, \u001b[38;5;34m128\u001b[0m)   │        \u001b[38;5;34m73,856\u001b[0m │\n",
              "├─────────────────────────────────┼────────────────────────┼───────────────┤\n",
              "│ max_pooling2d_16 (\u001b[38;5;33mMaxPooling2D\u001b[0m) │ (\u001b[38;5;45mNone\u001b[0m, \u001b[38;5;34m16\u001b[0m, \u001b[38;5;34m64\u001b[0m, \u001b[38;5;34m128\u001b[0m)    │             \u001b[38;5;34m0\u001b[0m │\n",
              "├─────────────────────────────────┼────────────────────────┼───────────────┤\n",
              "│ conv2d_17 (\u001b[38;5;33mConv2D\u001b[0m)              │ (\u001b[38;5;45mNone\u001b[0m, \u001b[38;5;34m16\u001b[0m, \u001b[38;5;34m64\u001b[0m, \u001b[38;5;34m128\u001b[0m)    │       \u001b[38;5;34m147,584\u001b[0m │\n",
              "├─────────────────────────────────┼────────────────────────┼───────────────┤\n",
              "│ max_pooling2d_17 (\u001b[38;5;33mMaxPooling2D\u001b[0m) │ (\u001b[38;5;45mNone\u001b[0m, \u001b[38;5;34m8\u001b[0m, \u001b[38;5;34m32\u001b[0m, \u001b[38;5;34m128\u001b[0m)     │             \u001b[38;5;34m0\u001b[0m │\n",
              "├─────────────────────────────────┼────────────────────────┼───────────────┤\n",
              "│ permute_6 (\u001b[38;5;33mPermute\u001b[0m)             │ (\u001b[38;5;45mNone\u001b[0m, \u001b[38;5;34m32\u001b[0m, \u001b[38;5;34m8\u001b[0m, \u001b[38;5;34m128\u001b[0m)     │             \u001b[38;5;34m0\u001b[0m │\n",
              "├─────────────────────────────────┼────────────────────────┼───────────────┤\n",
              "│ reshape_6 (\u001b[38;5;33mReshape\u001b[0m)             │ (\u001b[38;5;45mNone\u001b[0m, \u001b[38;5;34m32\u001b[0m, \u001b[38;5;34m1024\u001b[0m)       │             \u001b[38;5;34m0\u001b[0m │\n",
              "├─────────────────────────────────┼────────────────────────┼───────────────┤\n",
              "│ bidirectional_12                │ (\u001b[38;5;45mNone\u001b[0m, \u001b[38;5;34m32\u001b[0m, \u001b[38;5;34m256\u001b[0m)        │       \u001b[38;5;34m886,272\u001b[0m │\n",
              "│ (\u001b[38;5;33mBidirectional\u001b[0m)                 │                        │               │\n",
              "├─────────────────────────────────┼────────────────────────┼───────────────┤\n",
              "│ bidirectional_13                │ (\u001b[38;5;45mNone\u001b[0m, \u001b[38;5;34m32\u001b[0m, \u001b[38;5;34m128\u001b[0m)        │       \u001b[38;5;34m123,648\u001b[0m │\n",
              "│ (\u001b[38;5;33mBidirectional\u001b[0m)                 │                        │               │\n",
              "├─────────────────────────────────┼────────────────────────┼───────────────┤\n",
              "│ dense_6 (\u001b[38;5;33mDense\u001b[0m)                 │ (\u001b[38;5;45mNone\u001b[0m, \u001b[38;5;34m32\u001b[0m, \u001b[38;5;34m63\u001b[0m)         │         \u001b[38;5;34m8,127\u001b[0m │\n",
              "└─────────────────────────────────┴────────────────────────┴───────────────┘\n"
            ],
            "text/html": [
              "<pre style=\"white-space:pre;overflow-x:auto;line-height:normal;font-family:Menlo,'DejaVu Sans Mono',consolas,'Courier New',monospace\">┏━━━━━━━━━━━━━━━━━━━━━━━━━━━━━━━━━┳━━━━━━━━━━━━━━━━━━━━━━━━┳━━━━━━━━━━━━━━━┓\n",
              "┃<span style=\"font-weight: bold\"> Layer (type)                    </span>┃<span style=\"font-weight: bold\"> Output Shape           </span>┃<span style=\"font-weight: bold\">       Param # </span>┃\n",
              "┡━━━━━━━━━━━━━━━━━━━━━━━━━━━━━━━━━╇━━━━━━━━━━━━━━━━━━━━━━━━╇━━━━━━━━━━━━━━━┩\n",
              "│ image (<span style=\"color: #0087ff; text-decoration-color: #0087ff\">InputLayer</span>)              │ (<span style=\"color: #00d7ff; text-decoration-color: #00d7ff\">None</span>, <span style=\"color: #00af00; text-decoration-color: #00af00\">64</span>, <span style=\"color: #00af00; text-decoration-color: #00af00\">256</span>, <span style=\"color: #00af00; text-decoration-color: #00af00\">1</span>)     │             <span style=\"color: #00af00; text-decoration-color: #00af00\">0</span> │\n",
              "├─────────────────────────────────┼────────────────────────┼───────────────┤\n",
              "│ conv2d_15 (<span style=\"color: #0087ff; text-decoration-color: #0087ff\">Conv2D</span>)              │ (<span style=\"color: #00d7ff; text-decoration-color: #00d7ff\">None</span>, <span style=\"color: #00af00; text-decoration-color: #00af00\">64</span>, <span style=\"color: #00af00; text-decoration-color: #00af00\">256</span>, <span style=\"color: #00af00; text-decoration-color: #00af00\">64</span>)    │           <span style=\"color: #00af00; text-decoration-color: #00af00\">640</span> │\n",
              "├─────────────────────────────────┼────────────────────────┼───────────────┤\n",
              "│ max_pooling2d_15 (<span style=\"color: #0087ff; text-decoration-color: #0087ff\">MaxPooling2D</span>) │ (<span style=\"color: #00d7ff; text-decoration-color: #00d7ff\">None</span>, <span style=\"color: #00af00; text-decoration-color: #00af00\">32</span>, <span style=\"color: #00af00; text-decoration-color: #00af00\">128</span>, <span style=\"color: #00af00; text-decoration-color: #00af00\">64</span>)    │             <span style=\"color: #00af00; text-decoration-color: #00af00\">0</span> │\n",
              "├─────────────────────────────────┼────────────────────────┼───────────────┤\n",
              "│ conv2d_16 (<span style=\"color: #0087ff; text-decoration-color: #0087ff\">Conv2D</span>)              │ (<span style=\"color: #00d7ff; text-decoration-color: #00d7ff\">None</span>, <span style=\"color: #00af00; text-decoration-color: #00af00\">32</span>, <span style=\"color: #00af00; text-decoration-color: #00af00\">128</span>, <span style=\"color: #00af00; text-decoration-color: #00af00\">128</span>)   │        <span style=\"color: #00af00; text-decoration-color: #00af00\">73,856</span> │\n",
              "├─────────────────────────────────┼────────────────────────┼───────────────┤\n",
              "│ max_pooling2d_16 (<span style=\"color: #0087ff; text-decoration-color: #0087ff\">MaxPooling2D</span>) │ (<span style=\"color: #00d7ff; text-decoration-color: #00d7ff\">None</span>, <span style=\"color: #00af00; text-decoration-color: #00af00\">16</span>, <span style=\"color: #00af00; text-decoration-color: #00af00\">64</span>, <span style=\"color: #00af00; text-decoration-color: #00af00\">128</span>)    │             <span style=\"color: #00af00; text-decoration-color: #00af00\">0</span> │\n",
              "├─────────────────────────────────┼────────────────────────┼───────────────┤\n",
              "│ conv2d_17 (<span style=\"color: #0087ff; text-decoration-color: #0087ff\">Conv2D</span>)              │ (<span style=\"color: #00d7ff; text-decoration-color: #00d7ff\">None</span>, <span style=\"color: #00af00; text-decoration-color: #00af00\">16</span>, <span style=\"color: #00af00; text-decoration-color: #00af00\">64</span>, <span style=\"color: #00af00; text-decoration-color: #00af00\">128</span>)    │       <span style=\"color: #00af00; text-decoration-color: #00af00\">147,584</span> │\n",
              "├─────────────────────────────────┼────────────────────────┼───────────────┤\n",
              "│ max_pooling2d_17 (<span style=\"color: #0087ff; text-decoration-color: #0087ff\">MaxPooling2D</span>) │ (<span style=\"color: #00d7ff; text-decoration-color: #00d7ff\">None</span>, <span style=\"color: #00af00; text-decoration-color: #00af00\">8</span>, <span style=\"color: #00af00; text-decoration-color: #00af00\">32</span>, <span style=\"color: #00af00; text-decoration-color: #00af00\">128</span>)     │             <span style=\"color: #00af00; text-decoration-color: #00af00\">0</span> │\n",
              "├─────────────────────────────────┼────────────────────────┼───────────────┤\n",
              "│ permute_6 (<span style=\"color: #0087ff; text-decoration-color: #0087ff\">Permute</span>)             │ (<span style=\"color: #00d7ff; text-decoration-color: #00d7ff\">None</span>, <span style=\"color: #00af00; text-decoration-color: #00af00\">32</span>, <span style=\"color: #00af00; text-decoration-color: #00af00\">8</span>, <span style=\"color: #00af00; text-decoration-color: #00af00\">128</span>)     │             <span style=\"color: #00af00; text-decoration-color: #00af00\">0</span> │\n",
              "├─────────────────────────────────┼────────────────────────┼───────────────┤\n",
              "│ reshape_6 (<span style=\"color: #0087ff; text-decoration-color: #0087ff\">Reshape</span>)             │ (<span style=\"color: #00d7ff; text-decoration-color: #00d7ff\">None</span>, <span style=\"color: #00af00; text-decoration-color: #00af00\">32</span>, <span style=\"color: #00af00; text-decoration-color: #00af00\">1024</span>)       │             <span style=\"color: #00af00; text-decoration-color: #00af00\">0</span> │\n",
              "├─────────────────────────────────┼────────────────────────┼───────────────┤\n",
              "│ bidirectional_12                │ (<span style=\"color: #00d7ff; text-decoration-color: #00d7ff\">None</span>, <span style=\"color: #00af00; text-decoration-color: #00af00\">32</span>, <span style=\"color: #00af00; text-decoration-color: #00af00\">256</span>)        │       <span style=\"color: #00af00; text-decoration-color: #00af00\">886,272</span> │\n",
              "│ (<span style=\"color: #0087ff; text-decoration-color: #0087ff\">Bidirectional</span>)                 │                        │               │\n",
              "├─────────────────────────────────┼────────────────────────┼───────────────┤\n",
              "│ bidirectional_13                │ (<span style=\"color: #00d7ff; text-decoration-color: #00d7ff\">None</span>, <span style=\"color: #00af00; text-decoration-color: #00af00\">32</span>, <span style=\"color: #00af00; text-decoration-color: #00af00\">128</span>)        │       <span style=\"color: #00af00; text-decoration-color: #00af00\">123,648</span> │\n",
              "│ (<span style=\"color: #0087ff; text-decoration-color: #0087ff\">Bidirectional</span>)                 │                        │               │\n",
              "├─────────────────────────────────┼────────────────────────┼───────────────┤\n",
              "│ dense_6 (<span style=\"color: #0087ff; text-decoration-color: #0087ff\">Dense</span>)                 │ (<span style=\"color: #00d7ff; text-decoration-color: #00d7ff\">None</span>, <span style=\"color: #00af00; text-decoration-color: #00af00\">32</span>, <span style=\"color: #00af00; text-decoration-color: #00af00\">63</span>)         │         <span style=\"color: #00af00; text-decoration-color: #00af00\">8,127</span> │\n",
              "└─────────────────────────────────┴────────────────────────┴───────────────┘\n",
              "</pre>\n"
            ]
          },
          "metadata": {}
        },
        {
          "output_type": "display_data",
          "data": {
            "text/plain": [
              "\u001b[1m Total params: \u001b[0m\u001b[38;5;34m1,240,127\u001b[0m (4.73 MB)\n"
            ],
            "text/html": [
              "<pre style=\"white-space:pre;overflow-x:auto;line-height:normal;font-family:Menlo,'DejaVu Sans Mono',consolas,'Courier New',monospace\"><span style=\"font-weight: bold\"> Total params: </span><span style=\"color: #00af00; text-decoration-color: #00af00\">1,240,127</span> (4.73 MB)\n",
              "</pre>\n"
            ]
          },
          "metadata": {}
        },
        {
          "output_type": "display_data",
          "data": {
            "text/plain": [
              "\u001b[1m Trainable params: \u001b[0m\u001b[38;5;34m1,240,127\u001b[0m (4.73 MB)\n"
            ],
            "text/html": [
              "<pre style=\"white-space:pre;overflow-x:auto;line-height:normal;font-family:Menlo,'DejaVu Sans Mono',consolas,'Courier New',monospace\"><span style=\"font-weight: bold\"> Trainable params: </span><span style=\"color: #00af00; text-decoration-color: #00af00\">1,240,127</span> (4.73 MB)\n",
              "</pre>\n"
            ]
          },
          "metadata": {}
        },
        {
          "output_type": "display_data",
          "data": {
            "text/plain": [
              "\u001b[1m Non-trainable params: \u001b[0m\u001b[38;5;34m0\u001b[0m (0.00 B)\n"
            ],
            "text/html": [
              "<pre style=\"white-space:pre;overflow-x:auto;line-height:normal;font-family:Menlo,'DejaVu Sans Mono',consolas,'Courier New',monospace\"><span style=\"font-weight: bold\"> Non-trainable params: </span><span style=\"color: #00af00; text-decoration-color: #00af00\">0</span> (0.00 B)\n",
              "</pre>\n"
            ]
          },
          "metadata": {}
        }
      ]
    },
    {
      "cell_type": "code",
      "source": [
        "VOCAB_SIZE = len(unique_chars) + 1  # if not already defined\n",
        "\n",
        "crnn_gru_adam = build_crnn_gru(img_h=IMG_HEIGHT, img_w=IMG_WIDTH, vocab_size=VOCAB_SIZE)\n",
        "crnn_gru_adam.compile(\n",
        "  optimizer=keras.optimizers.Adam(learning_rate=1e-4),\n",
        "  loss=ctc_loss_func\n",
        ")\n",
        "\n",
        "history_gru_adam = crnn_gru_adam.fit(\n",
        "  subset_train,\n",
        "  validation_data=subset_val,\n",
        "  epochs=10,\n",
        "  steps_per_epoch=steps_per_epoch,\n",
        "  validation_steps=validation_steps,\n",
        "  verbose=1\n",
        ")"
      ],
      "metadata": {
        "id": "7IoAlvm8ckzk",
        "outputId": "c6d32af0-b9c2-42c9-9d8d-9e03b291f83a",
        "colab": {
          "base_uri": "https://localhost:8080/"
        }
      },
      "execution_count": 36,
      "outputs": [
        {
          "output_type": "stream",
          "name": "stdout",
          "text": [
            "Epoch 1/10\n",
            "\u001b[1m625/625\u001b[0m \u001b[32m━━━━━━━━━━━━━━━━━━━━\u001b[0m\u001b[37m\u001b[0m \u001b[1m37s\u001b[0m 53ms/step - loss: 41.6973 - val_loss: 30.5885\n",
            "Epoch 2/10\n",
            "\u001b[1m625/625\u001b[0m \u001b[32m━━━━━━━━━━━━━━━━━━━━\u001b[0m\u001b[37m\u001b[0m \u001b[1m33s\u001b[0m 52ms/step - loss: 30.4584 - val_loss: 30.0638\n",
            "Epoch 3/10\n",
            "\u001b[1m625/625\u001b[0m \u001b[32m━━━━━━━━━━━━━━━━━━━━\u001b[0m\u001b[37m\u001b[0m \u001b[1m32s\u001b[0m 52ms/step - loss: 29.8859 - val_loss: 29.3839\n",
            "Epoch 4/10\n",
            "\u001b[1m625/625\u001b[0m \u001b[32m━━━━━━━━━━━━━━━━━━━━\u001b[0m\u001b[37m\u001b[0m \u001b[1m33s\u001b[0m 53ms/step - loss: 29.1673 - val_loss: 28.8123\n",
            "Epoch 5/10\n",
            "\u001b[1m625/625\u001b[0m \u001b[32m━━━━━━━━━━━━━━━━━━━━\u001b[0m\u001b[37m\u001b[0m \u001b[1m33s\u001b[0m 52ms/step - loss: 28.5773 - val_loss: 28.3586\n",
            "Epoch 6/10\n",
            "\u001b[1m625/625\u001b[0m \u001b[32m━━━━━━━━━━━━━━━━━━━━\u001b[0m\u001b[37m\u001b[0m \u001b[1m33s\u001b[0m 52ms/step - loss: 28.1171 - val_loss: 27.8551\n",
            "Epoch 7/10\n",
            "\u001b[1m625/625\u001b[0m \u001b[32m━━━━━━━━━━━━━━━━━━━━\u001b[0m\u001b[37m\u001b[0m \u001b[1m33s\u001b[0m 52ms/step - loss: 27.6454 - val_loss: 27.2972\n",
            "Epoch 8/10\n",
            "\u001b[1m625/625\u001b[0m \u001b[32m━━━━━━━━━━━━━━━━━━━━\u001b[0m\u001b[37m\u001b[0m \u001b[1m33s\u001b[0m 52ms/step - loss: 26.9454 - val_loss: 26.8601\n",
            "Epoch 9/10\n",
            "\u001b[1m625/625\u001b[0m \u001b[32m━━━━━━━━━━━━━━━━━━━━\u001b[0m\u001b[37m\u001b[0m \u001b[1m32s\u001b[0m 52ms/step - loss: 26.4188 - val_loss: 26.0113\n",
            "Epoch 10/10\n",
            "\u001b[1m625/625\u001b[0m \u001b[32m━━━━━━━━━━━━━━━━━━━━\u001b[0m\u001b[37m\u001b[0m \u001b[1m33s\u001b[0m 52ms/step - loss: 25.6392 - val_loss: 25.2546\n"
          ]
        }
      ]
    },
    {
      "cell_type": "code",
      "source": [
        "VOCAB_SIZE = len(unique_chars) + 1  # if not already defined\n",
        "\n",
        "crnn_gru_sgd = build_crnn_gru(img_h=IMG_HEIGHT, img_w=IMG_WIDTH, vocab_size=VOCAB_SIZE)\n",
        "crnn_gru_sgd.compile(\n",
        "  optimizer=keras.optimizers.SGD(learning_rate=1e-2),\n",
        "  loss=ctc_loss_func\n",
        ")\n",
        "\n",
        "history_gru_sgd = crnn_gru_sgd.fit(\n",
        "  subset_train,\n",
        "  validation_data=subset_val,\n",
        "  epochs=10,\n",
        "  steps_per_epoch=steps_per_epoch,\n",
        "  validation_steps=validation_steps,\n",
        "  verbose=1\n",
        ")"
      ],
      "metadata": {
        "id": "Y_umJWweeiTU",
        "outputId": "384f4e59-4d99-4b0b-c8ec-6ea9f9940c52",
        "colab": {
          "base_uri": "https://localhost:8080/"
        }
      },
      "execution_count": 37,
      "outputs": [
        {
          "output_type": "stream",
          "name": "stdout",
          "text": [
            "Epoch 1/10\n",
            "\u001b[1m625/625\u001b[0m \u001b[32m━━━━━━━━━━━━━━━━━━━━\u001b[0m\u001b[37m\u001b[0m \u001b[1m34s\u001b[0m 51ms/step - loss: 37.6051 - val_loss: 31.2061\n",
            "Epoch 2/10\n",
            "\u001b[1m625/625\u001b[0m \u001b[32m━━━━━━━━━━━━━━━━━━━━\u001b[0m\u001b[37m\u001b[0m \u001b[1m31s\u001b[0m 49ms/step - loss: 31.1508 - val_loss: 30.8396\n",
            "Epoch 3/10\n",
            "\u001b[1m625/625\u001b[0m \u001b[32m━━━━━━━━━━━━━━━━━━━━\u001b[0m\u001b[37m\u001b[0m \u001b[1m30s\u001b[0m 49ms/step - loss: 31.0254 - val_loss: 30.7234\n",
            "Epoch 4/10\n",
            "\u001b[1m625/625\u001b[0m \u001b[32m━━━━━━━━━━━━━━━━━━━━\u001b[0m\u001b[37m\u001b[0m \u001b[1m31s\u001b[0m 49ms/step - loss: 30.6334 - val_loss: 30.7065\n",
            "Epoch 5/10\n",
            "\u001b[1m625/625\u001b[0m \u001b[32m━━━━━━━━━━━━━━━━━━━━\u001b[0m\u001b[37m\u001b[0m \u001b[1m31s\u001b[0m 49ms/step - loss: 30.4408 - val_loss: 30.1050\n",
            "Epoch 6/10\n",
            "\u001b[1m625/625\u001b[0m \u001b[32m━━━━━━━━━━━━━━━━━━━━\u001b[0m\u001b[37m\u001b[0m \u001b[1m31s\u001b[0m 49ms/step - loss: 30.0999 - val_loss: 29.7368\n",
            "Epoch 7/10\n",
            "\u001b[1m625/625\u001b[0m \u001b[32m━━━━━━━━━━━━━━━━━━━━\u001b[0m\u001b[37m\u001b[0m \u001b[1m31s\u001b[0m 49ms/step - loss: 29.6414 - val_loss: 29.1372\n",
            "Epoch 8/10\n",
            "\u001b[1m625/625\u001b[0m \u001b[32m━━━━━━━━━━━━━━━━━━━━\u001b[0m\u001b[37m\u001b[0m \u001b[1m31s\u001b[0m 49ms/step - loss: 29.2937 - val_loss: 28.7603\n",
            "Epoch 9/10\n",
            "\u001b[1m625/625\u001b[0m \u001b[32m━━━━━━━━━━━━━━━━━━━━\u001b[0m\u001b[37m\u001b[0m \u001b[1m31s\u001b[0m 49ms/step - loss: 28.4637 - val_loss: 27.6778\n",
            "Epoch 10/10\n",
            "\u001b[1m625/625\u001b[0m \u001b[32m━━━━━━━━━━━━━━━━━━━━\u001b[0m\u001b[37m\u001b[0m \u001b[1m31s\u001b[0m 49ms/step - loss: 27.4413 - val_loss: 26.3984\n"
          ]
        }
      ]
    },
    {
      "cell_type": "code",
      "source": [
        "from tensorflow.keras import layers, models, applications\n",
        "import tensorflow as tf\n",
        "import math\n",
        "\n",
        "inp = layers.Input(shape=(IMG_HEIGHT, IMG_WIDTH, 1), name=\"image\")\n",
        "\n",
        "x = layers.Conv2D(3, (1,1), padding='same', name='to_rgb')(inp)\n",
        "\n",
        "base = applications.ResNet50(\n",
        "    include_top=False,\n",
        "    weights='imagenet',\n",
        "    input_shape=(IMG_HEIGHT, IMG_WIDTH, 3)\n",
        ")\n",
        "\n",
        "conv3_model = models.Model(\n",
        "    inputs=base.input,\n",
        "    outputs=base.get_layer('conv3_block4_out').output,\n",
        "    name='ResNet50_conv3_trunk'\n",
        ")\n",
        "\n",
        "feat = conv3_model(x)\n",
        "\n",
        "unfreeze = False\n",
        "for layer in conv3_model.layers:\n",
        "    if layer.name.startswith('conv3_block1'):\n",
        "        unfreeze = True\n",
        "    layer.trainable = unfreeze\n",
        "\n",
        "Hp = IMG_HEIGHT // 8\n",
        "Wp = IMG_WIDTH  // 8\n",
        "C  = int(feat.shape[-1])\n",
        "\n",
        "y = layers.Permute((2, 1, 3))(feat)\n",
        "y = layers.Reshape((Wp, Hp * C))(y)\n",
        "\n",
        "y = layers.Bidirectional(layers.LSTM(256, return_sequences=True))(y)\n",
        "y = layers.Bidirectional(layers.LSTM(128, return_sequences=True))(y)\n",
        "\n",
        "out = layers.Dense(VOCAB_SIZE, activation='softmax')(y)\n",
        "\n",
        "crnn_resnet_lstm = models.Model(inputs=inp, outputs=out, name=\"CRNN_ResNet50_LSTM\")\n",
        "\n",
        "crnn_resnet_lstm.compile(optimizer=tf.keras.optimizers.Adam(1e-4), loss=ctc_loss_func)\n",
        "\n",
        "SUB_TRAIN = 20000\n",
        "SUB_VAL   = 4000\n",
        "\n",
        "subset_train = (\n",
        "    train_ds.unbatch().take(SUB_TRAIN).batch(BATCH_SIZE).repeat().prefetch(tf.data.AUTOTUNE)\n",
        ")\n",
        "subset_val = (\n",
        "    val_ds.unbatch().take(SUB_VAL).batch(BATCH_SIZE).repeat().prefetch(tf.data.AUTOTUNE)\n",
        ")\n",
        "\n",
        "steps_per_epoch  = (SUB_TRAIN + BATCH_SIZE - 1) // BATCH_SIZE\n",
        "validation_steps = (SUB_VAL   + BATCH_SIZE - 1) // BATCH_SIZE\n",
        "\n",
        "history_resnet_lstm_adam = crnn_resnet_lstm.fit(\n",
        "    subset_train,\n",
        "    validation_data=subset_val,\n",
        "    epochs=10,\n",
        "    steps_per_epoch=steps_per_epoch,\n",
        "    validation_steps=validation_steps,\n",
        "    verbose=1\n",
        ")\n"
      ],
      "metadata": {
        "id": "FdoFMh91Ff_x"
      },
      "execution_count": null,
      "outputs": []
    },
    {
      "cell_type": "code",
      "source": [
        "import json\n",
        "\n",
        "crnn_lstm.save(\"crnn_lstm_adam.keras\")\n",
        "\n",
        "with open(\"vocab.json\", \"w\") as f:\n",
        "  json.dump(unique_chars, f)\n",
        "\n",
        "with open (\"history_lstm_adam.json\", \"w\") as f:\n",
        "  json.dump(history_lstm_adam.history, f)\n"
      ],
      "metadata": {
        "id": "VEemQs1nEL8t"
      },
      "execution_count": 39,
      "outputs": []
    },
    {
      "cell_type": "code",
      "source": [
        "  with open(\"vocab.json\", \"r\") as f:\n",
        "    vocab = json.load(f)\n",
        "\n",
        "  char_to_num = layers.StringLookup(\n",
        "    vocabulary=vocab,\n",
        "    num_oov_indices=0,\n",
        "    mask_token=None\n",
        "  )\n",
        "  num_to_char = layers.StringLookup(\n",
        "    vocabulary=char_to_num.get_vocabulary(),\n",
        "    invert=True,\n",
        "    num_oov_indices=0,\n",
        "    mask_token=None\n",
        "  )\n",
        "  # The CTC blank is the last index by construction (len(vocab))\n",
        "  blank_index = len(vocab)\n",
        "\n",
        "inference_model = keras.models.load_model(\"crnn_lstm_adam.keras\", compile=False)"
      ],
      "metadata": {
        "id": "bnycqvlS2xT2"
      },
      "execution_count": 41,
      "outputs": []
    },
    {
      "cell_type": "code",
      "source": [
        "import numpy as np\n",
        "import tensorflow as tf\n",
        "\n",
        "def ctc_decoder(y_pred, blank_id):\n",
        "  # Argmax over classes (C)\n",
        "  best_path = np.argmax(y_pred, axis=-1)  # (B, T)\n",
        "\n",
        "  decoded_texts = []\n",
        "  for seq in best_path:\n",
        "    prev = -1\n",
        "    chars = []\n",
        "    for idx in seq:\n",
        "      if idx != prev and idx != blank_id:\n",
        "        # map idx -> char via num_to_char layer\n",
        "        ch = num_to_char(tf.constant([idx]))[0].numpy().decode(\"utf-8\")\n",
        "        chars.append(ch)\n",
        "        prev = idx\n",
        "    decoded_texts.append(\"\".join(chars))\n",
        "  return decoded_texts\n"
      ],
      "metadata": {
        "id": "aZNxYzfQ37BE"
      },
      "execution_count": 42,
      "outputs": []
    }
  ]
}