{
  "nbformat": 4,
  "nbformat_minor": 0,
  "metadata": {
    "colab": {
      "provenance": [],
      "gpuType": "T4"
    },
    "kernelspec": {
      "name": "python3",
      "display_name": "Python 3"
    },
    "language_info": {
      "name": "python"
    },
    "accelerator": "GPU",
    "widgets": {
      "application/vnd.jupyter.widget-state+json": {
        "47fa7d1dc7bf4b50b0400c9841013f34": {
          "model_module": "@jupyter-widgets/controls",
          "model_name": "HBoxModel",
          "model_module_version": "1.5.0",
          "state": {
            "_dom_classes": [],
            "_model_module": "@jupyter-widgets/controls",
            "_model_module_version": "1.5.0",
            "_model_name": "HBoxModel",
            "_view_count": null,
            "_view_module": "@jupyter-widgets/controls",
            "_view_module_version": "1.5.0",
            "_view_name": "HBoxView",
            "box_style": "",
            "children": [
              "IPY_MODEL_cd33bf936efb46c6b0fe84a2b37d5bfb",
              "IPY_MODEL_518572654c3a4957a4cfb6a892bb00c2",
              "IPY_MODEL_32fa7490d94e4766be2df9823602e76e"
            ],
            "layout": "IPY_MODEL_176dd391ebaa48538c6a73730c6aea5f"
          }
        },
        "cd33bf936efb46c6b0fe84a2b37d5bfb": {
          "model_module": "@jupyter-widgets/controls",
          "model_name": "HTMLModel",
          "model_module_version": "1.5.0",
          "state": {
            "_dom_classes": [],
            "_model_module": "@jupyter-widgets/controls",
            "_model_module_version": "1.5.0",
            "_model_name": "HTMLModel",
            "_view_count": null,
            "_view_module": "@jupyter-widgets/controls",
            "_view_module_version": "1.5.0",
            "_view_name": "HTMLView",
            "description": "",
            "description_tooltip": null,
            "layout": "IPY_MODEL_b7b7f0ec6fd24a909326774bec8fbb33",
            "placeholder": "​",
            "style": "IPY_MODEL_9603065ffb1340ee8609df318fd25481",
            "value": "Fetching 2 files: 100%"
          }
        },
        "518572654c3a4957a4cfb6a892bb00c2": {
          "model_module": "@jupyter-widgets/controls",
          "model_name": "FloatProgressModel",
          "model_module_version": "1.5.0",
          "state": {
            "_dom_classes": [],
            "_model_module": "@jupyter-widgets/controls",
            "_model_module_version": "1.5.0",
            "_model_name": "FloatProgressModel",
            "_view_count": null,
            "_view_module": "@jupyter-widgets/controls",
            "_view_module_version": "1.5.0",
            "_view_name": "ProgressView",
            "bar_style": "success",
            "description": "",
            "description_tooltip": null,
            "layout": "IPY_MODEL_a4114028d70c41caa2030b029b7c121e",
            "max": 2,
            "min": 0,
            "orientation": "horizontal",
            "style": "IPY_MODEL_4641bf15fe7e4e8cbd416eb96a8f315e",
            "value": 2
          }
        },
        "32fa7490d94e4766be2df9823602e76e": {
          "model_module": "@jupyter-widgets/controls",
          "model_name": "HTMLModel",
          "model_module_version": "1.5.0",
          "state": {
            "_dom_classes": [],
            "_model_module": "@jupyter-widgets/controls",
            "_model_module_version": "1.5.0",
            "_model_name": "HTMLModel",
            "_view_count": null,
            "_view_module": "@jupyter-widgets/controls",
            "_view_module_version": "1.5.0",
            "_view_name": "HTMLView",
            "description": "",
            "description_tooltip": null,
            "layout": "IPY_MODEL_f5125116836e457ba0f41d27fa1485bb",
            "placeholder": "​",
            "style": "IPY_MODEL_4d4433a4516843cbad0697d6c296ab7c",
            "value": " 2/2 [00:25&lt;00:00, 25.93s/it]"
          }
        },
        "176dd391ebaa48538c6a73730c6aea5f": {
          "model_module": "@jupyter-widgets/base",
          "model_name": "LayoutModel",
          "model_module_version": "1.2.0",
          "state": {
            "_model_module": "@jupyter-widgets/base",
            "_model_module_version": "1.2.0",
            "_model_name": "LayoutModel",
            "_view_count": null,
            "_view_module": "@jupyter-widgets/base",
            "_view_module_version": "1.2.0",
            "_view_name": "LayoutView",
            "align_content": null,
            "align_items": null,
            "align_self": null,
            "border": null,
            "bottom": null,
            "display": null,
            "flex": null,
            "flex_flow": null,
            "grid_area": null,
            "grid_auto_columns": null,
            "grid_auto_flow": null,
            "grid_auto_rows": null,
            "grid_column": null,
            "grid_gap": null,
            "grid_row": null,
            "grid_template_areas": null,
            "grid_template_columns": null,
            "grid_template_rows": null,
            "height": null,
            "justify_content": null,
            "justify_items": null,
            "left": null,
            "margin": null,
            "max_height": null,
            "max_width": null,
            "min_height": null,
            "min_width": null,
            "object_fit": null,
            "object_position": null,
            "order": null,
            "overflow": null,
            "overflow_x": null,
            "overflow_y": null,
            "padding": null,
            "right": null,
            "top": null,
            "visibility": null,
            "width": null
          }
        },
        "b7b7f0ec6fd24a909326774bec8fbb33": {
          "model_module": "@jupyter-widgets/base",
          "model_name": "LayoutModel",
          "model_module_version": "1.2.0",
          "state": {
            "_model_module": "@jupyter-widgets/base",
            "_model_module_version": "1.2.0",
            "_model_name": "LayoutModel",
            "_view_count": null,
            "_view_module": "@jupyter-widgets/base",
            "_view_module_version": "1.2.0",
            "_view_name": "LayoutView",
            "align_content": null,
            "align_items": null,
            "align_self": null,
            "border": null,
            "bottom": null,
            "display": null,
            "flex": null,
            "flex_flow": null,
            "grid_area": null,
            "grid_auto_columns": null,
            "grid_auto_flow": null,
            "grid_auto_rows": null,
            "grid_column": null,
            "grid_gap": null,
            "grid_row": null,
            "grid_template_areas": null,
            "grid_template_columns": null,
            "grid_template_rows": null,
            "height": null,
            "justify_content": null,
            "justify_items": null,
            "left": null,
            "margin": null,
            "max_height": null,
            "max_width": null,
            "min_height": null,
            "min_width": null,
            "object_fit": null,
            "object_position": null,
            "order": null,
            "overflow": null,
            "overflow_x": null,
            "overflow_y": null,
            "padding": null,
            "right": null,
            "top": null,
            "visibility": null,
            "width": null
          }
        },
        "9603065ffb1340ee8609df318fd25481": {
          "model_module": "@jupyter-widgets/controls",
          "model_name": "DescriptionStyleModel",
          "model_module_version": "1.5.0",
          "state": {
            "_model_module": "@jupyter-widgets/controls",
            "_model_module_version": "1.5.0",
            "_model_name": "DescriptionStyleModel",
            "_view_count": null,
            "_view_module": "@jupyter-widgets/base",
            "_view_module_version": "1.2.0",
            "_view_name": "StyleView",
            "description_width": ""
          }
        },
        "a4114028d70c41caa2030b029b7c121e": {
          "model_module": "@jupyter-widgets/base",
          "model_name": "LayoutModel",
          "model_module_version": "1.2.0",
          "state": {
            "_model_module": "@jupyter-widgets/base",
            "_model_module_version": "1.2.0",
            "_model_name": "LayoutModel",
            "_view_count": null,
            "_view_module": "@jupyter-widgets/base",
            "_view_module_version": "1.2.0",
            "_view_name": "LayoutView",
            "align_content": null,
            "align_items": null,
            "align_self": null,
            "border": null,
            "bottom": null,
            "display": null,
            "flex": null,
            "flex_flow": null,
            "grid_area": null,
            "grid_auto_columns": null,
            "grid_auto_flow": null,
            "grid_auto_rows": null,
            "grid_column": null,
            "grid_gap": null,
            "grid_row": null,
            "grid_template_areas": null,
            "grid_template_columns": null,
            "grid_template_rows": null,
            "height": null,
            "justify_content": null,
            "justify_items": null,
            "left": null,
            "margin": null,
            "max_height": null,
            "max_width": null,
            "min_height": null,
            "min_width": null,
            "object_fit": null,
            "object_position": null,
            "order": null,
            "overflow": null,
            "overflow_x": null,
            "overflow_y": null,
            "padding": null,
            "right": null,
            "top": null,
            "visibility": null,
            "width": null
          }
        },
        "4641bf15fe7e4e8cbd416eb96a8f315e": {
          "model_module": "@jupyter-widgets/controls",
          "model_name": "ProgressStyleModel",
          "model_module_version": "1.5.0",
          "state": {
            "_model_module": "@jupyter-widgets/controls",
            "_model_module_version": "1.5.0",
            "_model_name": "ProgressStyleModel",
            "_view_count": null,
            "_view_module": "@jupyter-widgets/base",
            "_view_module_version": "1.2.0",
            "_view_name": "StyleView",
            "bar_color": null,
            "description_width": ""
          }
        },
        "f5125116836e457ba0f41d27fa1485bb": {
          "model_module": "@jupyter-widgets/base",
          "model_name": "LayoutModel",
          "model_module_version": "1.2.0",
          "state": {
            "_model_module": "@jupyter-widgets/base",
            "_model_module_version": "1.2.0",
            "_model_name": "LayoutModel",
            "_view_count": null,
            "_view_module": "@jupyter-widgets/base",
            "_view_module_version": "1.2.0",
            "_view_name": "LayoutView",
            "align_content": null,
            "align_items": null,
            "align_self": null,
            "border": null,
            "bottom": null,
            "display": null,
            "flex": null,
            "flex_flow": null,
            "grid_area": null,
            "grid_auto_columns": null,
            "grid_auto_flow": null,
            "grid_auto_rows": null,
            "grid_column": null,
            "grid_gap": null,
            "grid_row": null,
            "grid_template_areas": null,
            "grid_template_columns": null,
            "grid_template_rows": null,
            "height": null,
            "justify_content": null,
            "justify_items": null,
            "left": null,
            "margin": null,
            "max_height": null,
            "max_width": null,
            "min_height": null,
            "min_width": null,
            "object_fit": null,
            "object_position": null,
            "order": null,
            "overflow": null,
            "overflow_x": null,
            "overflow_y": null,
            "padding": null,
            "right": null,
            "top": null,
            "visibility": null,
            "width": null
          }
        },
        "4d4433a4516843cbad0697d6c296ab7c": {
          "model_module": "@jupyter-widgets/controls",
          "model_name": "DescriptionStyleModel",
          "model_module_version": "1.5.0",
          "state": {
            "_model_module": "@jupyter-widgets/controls",
            "_model_module_version": "1.5.0",
            "_model_name": "DescriptionStyleModel",
            "_view_count": null,
            "_view_module": "@jupyter-widgets/base",
            "_view_module_version": "1.2.0",
            "_view_name": "StyleView",
            "description_width": ""
          }
        },
        "ab20c73cbf224597a351a442225be6c0": {
          "model_module": "@jupyter-widgets/controls",
          "model_name": "HBoxModel",
          "model_module_version": "1.5.0",
          "state": {
            "_dom_classes": [],
            "_model_module": "@jupyter-widgets/controls",
            "_model_module_version": "1.5.0",
            "_model_name": "HBoxModel",
            "_view_count": null,
            "_view_module": "@jupyter-widgets/controls",
            "_view_module_version": "1.5.0",
            "_view_name": "HBoxView",
            "box_style": "",
            "children": [
              "IPY_MODEL_3d04398872c241108b04fc45080130a2",
              "IPY_MODEL_6639e2cef2654cefafe49bb91df5eecd",
              "IPY_MODEL_446e0cc881c84da7986e7b0c7d4370a3"
            ],
            "layout": "IPY_MODEL_481e9ef754ea4e1abcb3208c0190bb2a"
          }
        },
        "3d04398872c241108b04fc45080130a2": {
          "model_module": "@jupyter-widgets/controls",
          "model_name": "HTMLModel",
          "model_module_version": "1.5.0",
          "state": {
            "_dom_classes": [],
            "_model_module": "@jupyter-widgets/controls",
            "_model_module_version": "1.5.0",
            "_model_name": "HTMLModel",
            "_view_count": null,
            "_view_module": "@jupyter-widgets/controls",
            "_view_module_version": "1.5.0",
            "_view_name": "HTMLView",
            "description": "",
            "description_tooltip": null,
            "layout": "IPY_MODEL_f8428a910e314f0fa3a130a2989d4d99",
            "placeholder": "​",
            "style": "IPY_MODEL_d78d588dabc04cbc9181b80b41c128f5",
            "value": "README.md: 100%"
          }
        },
        "6639e2cef2654cefafe49bb91df5eecd": {
          "model_module": "@jupyter-widgets/controls",
          "model_name": "FloatProgressModel",
          "model_module_version": "1.5.0",
          "state": {
            "_dom_classes": [],
            "_model_module": "@jupyter-widgets/controls",
            "_model_module_version": "1.5.0",
            "_model_name": "FloatProgressModel",
            "_view_count": null,
            "_view_module": "@jupyter-widgets/controls",
            "_view_module_version": "1.5.0",
            "_view_name": "ProgressView",
            "bar_style": "success",
            "description": "",
            "description_tooltip": null,
            "layout": "IPY_MODEL_dfebdd88eb584facb64207afce7486df",
            "max": 971,
            "min": 0,
            "orientation": "horizontal",
            "style": "IPY_MODEL_d4fd5676e2e346cd83b48329d6c99100",
            "value": 971
          }
        },
        "446e0cc881c84da7986e7b0c7d4370a3": {
          "model_module": "@jupyter-widgets/controls",
          "model_name": "HTMLModel",
          "model_module_version": "1.5.0",
          "state": {
            "_dom_classes": [],
            "_model_module": "@jupyter-widgets/controls",
            "_model_module_version": "1.5.0",
            "_model_name": "HTMLModel",
            "_view_count": null,
            "_view_module": "@jupyter-widgets/controls",
            "_view_module_version": "1.5.0",
            "_view_name": "HTMLView",
            "description": "",
            "description_tooltip": null,
            "layout": "IPY_MODEL_6651c06c87f54ea4b1bd10174ffacfd7",
            "placeholder": "​",
            "style": "IPY_MODEL_a13381645fab4ce1a5fe3d3e712c32ce",
            "value": " 971/971 [00:00&lt;00:00, 77.8kB/s]"
          }
        },
        "481e9ef754ea4e1abcb3208c0190bb2a": {
          "model_module": "@jupyter-widgets/base",
          "model_name": "LayoutModel",
          "model_module_version": "1.2.0",
          "state": {
            "_model_module": "@jupyter-widgets/base",
            "_model_module_version": "1.2.0",
            "_model_name": "LayoutModel",
            "_view_count": null,
            "_view_module": "@jupyter-widgets/base",
            "_view_module_version": "1.2.0",
            "_view_name": "LayoutView",
            "align_content": null,
            "align_items": null,
            "align_self": null,
            "border": null,
            "bottom": null,
            "display": null,
            "flex": null,
            "flex_flow": null,
            "grid_area": null,
            "grid_auto_columns": null,
            "grid_auto_flow": null,
            "grid_auto_rows": null,
            "grid_column": null,
            "grid_gap": null,
            "grid_row": null,
            "grid_template_areas": null,
            "grid_template_columns": null,
            "grid_template_rows": null,
            "height": null,
            "justify_content": null,
            "justify_items": null,
            "left": null,
            "margin": null,
            "max_height": null,
            "max_width": null,
            "min_height": null,
            "min_width": null,
            "object_fit": null,
            "object_position": null,
            "order": null,
            "overflow": null,
            "overflow_x": null,
            "overflow_y": null,
            "padding": null,
            "right": null,
            "top": null,
            "visibility": null,
            "width": null
          }
        },
        "f8428a910e314f0fa3a130a2989d4d99": {
          "model_module": "@jupyter-widgets/base",
          "model_name": "LayoutModel",
          "model_module_version": "1.2.0",
          "state": {
            "_model_module": "@jupyter-widgets/base",
            "_model_module_version": "1.2.0",
            "_model_name": "LayoutModel",
            "_view_count": null,
            "_view_module": "@jupyter-widgets/base",
            "_view_module_version": "1.2.0",
            "_view_name": "LayoutView",
            "align_content": null,
            "align_items": null,
            "align_self": null,
            "border": null,
            "bottom": null,
            "display": null,
            "flex": null,
            "flex_flow": null,
            "grid_area": null,
            "grid_auto_columns": null,
            "grid_auto_flow": null,
            "grid_auto_rows": null,
            "grid_column": null,
            "grid_gap": null,
            "grid_row": null,
            "grid_template_areas": null,
            "grid_template_columns": null,
            "grid_template_rows": null,
            "height": null,
            "justify_content": null,
            "justify_items": null,
            "left": null,
            "margin": null,
            "max_height": null,
            "max_width": null,
            "min_height": null,
            "min_width": null,
            "object_fit": null,
            "object_position": null,
            "order": null,
            "overflow": null,
            "overflow_x": null,
            "overflow_y": null,
            "padding": null,
            "right": null,
            "top": null,
            "visibility": null,
            "width": null
          }
        },
        "d78d588dabc04cbc9181b80b41c128f5": {
          "model_module": "@jupyter-widgets/controls",
          "model_name": "DescriptionStyleModel",
          "model_module_version": "1.5.0",
          "state": {
            "_model_module": "@jupyter-widgets/controls",
            "_model_module_version": "1.5.0",
            "_model_name": "DescriptionStyleModel",
            "_view_count": null,
            "_view_module": "@jupyter-widgets/base",
            "_view_module_version": "1.2.0",
            "_view_name": "StyleView",
            "description_width": ""
          }
        },
        "dfebdd88eb584facb64207afce7486df": {
          "model_module": "@jupyter-widgets/base",
          "model_name": "LayoutModel",
          "model_module_version": "1.2.0",
          "state": {
            "_model_module": "@jupyter-widgets/base",
            "_model_module_version": "1.2.0",
            "_model_name": "LayoutModel",
            "_view_count": null,
            "_view_module": "@jupyter-widgets/base",
            "_view_module_version": "1.2.0",
            "_view_name": "LayoutView",
            "align_content": null,
            "align_items": null,
            "align_self": null,
            "border": null,
            "bottom": null,
            "display": null,
            "flex": null,
            "flex_flow": null,
            "grid_area": null,
            "grid_auto_columns": null,
            "grid_auto_flow": null,
            "grid_auto_rows": null,
            "grid_column": null,
            "grid_gap": null,
            "grid_row": null,
            "grid_template_areas": null,
            "grid_template_columns": null,
            "grid_template_rows": null,
            "height": null,
            "justify_content": null,
            "justify_items": null,
            "left": null,
            "margin": null,
            "max_height": null,
            "max_width": null,
            "min_height": null,
            "min_width": null,
            "object_fit": null,
            "object_position": null,
            "order": null,
            "overflow": null,
            "overflow_x": null,
            "overflow_y": null,
            "padding": null,
            "right": null,
            "top": null,
            "visibility": null,
            "width": null
          }
        },
        "d4fd5676e2e346cd83b48329d6c99100": {
          "model_module": "@jupyter-widgets/controls",
          "model_name": "ProgressStyleModel",
          "model_module_version": "1.5.0",
          "state": {
            "_model_module": "@jupyter-widgets/controls",
            "_model_module_version": "1.5.0",
            "_model_name": "ProgressStyleModel",
            "_view_count": null,
            "_view_module": "@jupyter-widgets/base",
            "_view_module_version": "1.2.0",
            "_view_name": "StyleView",
            "bar_color": null,
            "description_width": ""
          }
        },
        "6651c06c87f54ea4b1bd10174ffacfd7": {
          "model_module": "@jupyter-widgets/base",
          "model_name": "LayoutModel",
          "model_module_version": "1.2.0",
          "state": {
            "_model_module": "@jupyter-widgets/base",
            "_model_module_version": "1.2.0",
            "_model_name": "LayoutModel",
            "_view_count": null,
            "_view_module": "@jupyter-widgets/base",
            "_view_module_version": "1.2.0",
            "_view_name": "LayoutView",
            "align_content": null,
            "align_items": null,
            "align_self": null,
            "border": null,
            "bottom": null,
            "display": null,
            "flex": null,
            "flex_flow": null,
            "grid_area": null,
            "grid_auto_columns": null,
            "grid_auto_flow": null,
            "grid_auto_rows": null,
            "grid_column": null,
            "grid_gap": null,
            "grid_row": null,
            "grid_template_areas": null,
            "grid_template_columns": null,
            "grid_template_rows": null,
            "height": null,
            "justify_content": null,
            "justify_items": null,
            "left": null,
            "margin": null,
            "max_height": null,
            "max_width": null,
            "min_height": null,
            "min_width": null,
            "object_fit": null,
            "object_position": null,
            "order": null,
            "overflow": null,
            "overflow_x": null,
            "overflow_y": null,
            "padding": null,
            "right": null,
            "top": null,
            "visibility": null,
            "width": null
          }
        },
        "a13381645fab4ce1a5fe3d3e712c32ce": {
          "model_module": "@jupyter-widgets/controls",
          "model_name": "DescriptionStyleModel",
          "model_module_version": "1.5.0",
          "state": {
            "_model_module": "@jupyter-widgets/controls",
            "_model_module_version": "1.5.0",
            "_model_name": "DescriptionStyleModel",
            "_view_count": null,
            "_view_module": "@jupyter-widgets/base",
            "_view_module_version": "1.2.0",
            "_view_name": "StyleView",
            "description_width": ""
          }
        },
        "e368f4b082a94e639adc70b038760a97": {
          "model_module": "@jupyter-widgets/controls",
          "model_name": "HBoxModel",
          "model_module_version": "1.5.0",
          "state": {
            "_dom_classes": [],
            "_model_module": "@jupyter-widgets/controls",
            "_model_module_version": "1.5.0",
            "_model_name": "HBoxModel",
            "_view_count": null,
            "_view_module": "@jupyter-widgets/controls",
            "_view_module_version": "1.5.0",
            "_view_name": "HBoxView",
            "box_style": "",
            "children": [
              "IPY_MODEL_52427da7bec847a4a070c6715cbc0ffb",
              "IPY_MODEL_a047d9f51c9443b5af9cb4dd15eca772",
              "IPY_MODEL_f9e6841b8ea64735934f17edcabe71bc"
            ],
            "layout": "IPY_MODEL_c5ff43c08bb84b17a0943dbb7ac266a6"
          }
        },
        "52427da7bec847a4a070c6715cbc0ffb": {
          "model_module": "@jupyter-widgets/controls",
          "model_name": "HTMLModel",
          "model_module_version": "1.5.0",
          "state": {
            "_dom_classes": [],
            "_model_module": "@jupyter-widgets/controls",
            "_model_module_version": "1.5.0",
            "_model_name": "HTMLModel",
            "_view_count": null,
            "_view_module": "@jupyter-widgets/controls",
            "_view_module_version": "1.5.0",
            "_view_name": "HTMLView",
            "description": "",
            "description_tooltip": null,
            "layout": "IPY_MODEL_223c0f9a22f64cc98d68cbc08a049292",
            "placeholder": "​",
            "style": "IPY_MODEL_4f6984f62789494e82cde415199d3287",
            "value": "HCI_Dataset.zip: 100%"
          }
        },
        "a047d9f51c9443b5af9cb4dd15eca772": {
          "model_module": "@jupyter-widgets/controls",
          "model_name": "FloatProgressModel",
          "model_module_version": "1.5.0",
          "state": {
            "_dom_classes": [],
            "_model_module": "@jupyter-widgets/controls",
            "_model_module_version": "1.5.0",
            "_model_name": "FloatProgressModel",
            "_view_count": null,
            "_view_module": "@jupyter-widgets/controls",
            "_view_module_version": "1.5.0",
            "_view_name": "ProgressView",
            "bar_style": "success",
            "description": "",
            "description_tooltip": null,
            "layout": "IPY_MODEL_555f3afef65849eebe6d190646d93554",
            "max": 1290869403,
            "min": 0,
            "orientation": "horizontal",
            "style": "IPY_MODEL_da2ef12a0eb3481d82b9d0c4a4851485",
            "value": 1290869403
          }
        },
        "f9e6841b8ea64735934f17edcabe71bc": {
          "model_module": "@jupyter-widgets/controls",
          "model_name": "HTMLModel",
          "model_module_version": "1.5.0",
          "state": {
            "_dom_classes": [],
            "_model_module": "@jupyter-widgets/controls",
            "_model_module_version": "1.5.0",
            "_model_name": "HTMLModel",
            "_view_count": null,
            "_view_module": "@jupyter-widgets/controls",
            "_view_module_version": "1.5.0",
            "_view_name": "HTMLView",
            "description": "",
            "description_tooltip": null,
            "layout": "IPY_MODEL_1a0d14940bce460385e51d0a8f9ea147",
            "placeholder": "​",
            "style": "IPY_MODEL_58891b546ade429189a7a817d4c8d2f7",
            "value": " 1.29G/1.29G [00:25&lt;00:00, 85.9MB/s]"
          }
        },
        "c5ff43c08bb84b17a0943dbb7ac266a6": {
          "model_module": "@jupyter-widgets/base",
          "model_name": "LayoutModel",
          "model_module_version": "1.2.0",
          "state": {
            "_model_module": "@jupyter-widgets/base",
            "_model_module_version": "1.2.0",
            "_model_name": "LayoutModel",
            "_view_count": null,
            "_view_module": "@jupyter-widgets/base",
            "_view_module_version": "1.2.0",
            "_view_name": "LayoutView",
            "align_content": null,
            "align_items": null,
            "align_self": null,
            "border": null,
            "bottom": null,
            "display": null,
            "flex": null,
            "flex_flow": null,
            "grid_area": null,
            "grid_auto_columns": null,
            "grid_auto_flow": null,
            "grid_auto_rows": null,
            "grid_column": null,
            "grid_gap": null,
            "grid_row": null,
            "grid_template_areas": null,
            "grid_template_columns": null,
            "grid_template_rows": null,
            "height": null,
            "justify_content": null,
            "justify_items": null,
            "left": null,
            "margin": null,
            "max_height": null,
            "max_width": null,
            "min_height": null,
            "min_width": null,
            "object_fit": null,
            "object_position": null,
            "order": null,
            "overflow": null,
            "overflow_x": null,
            "overflow_y": null,
            "padding": null,
            "right": null,
            "top": null,
            "visibility": null,
            "width": null
          }
        },
        "223c0f9a22f64cc98d68cbc08a049292": {
          "model_module": "@jupyter-widgets/base",
          "model_name": "LayoutModel",
          "model_module_version": "1.2.0",
          "state": {
            "_model_module": "@jupyter-widgets/base",
            "_model_module_version": "1.2.0",
            "_model_name": "LayoutModel",
            "_view_count": null,
            "_view_module": "@jupyter-widgets/base",
            "_view_module_version": "1.2.0",
            "_view_name": "LayoutView",
            "align_content": null,
            "align_items": null,
            "align_self": null,
            "border": null,
            "bottom": null,
            "display": null,
            "flex": null,
            "flex_flow": null,
            "grid_area": null,
            "grid_auto_columns": null,
            "grid_auto_flow": null,
            "grid_auto_rows": null,
            "grid_column": null,
            "grid_gap": null,
            "grid_row": null,
            "grid_template_areas": null,
            "grid_template_columns": null,
            "grid_template_rows": null,
            "height": null,
            "justify_content": null,
            "justify_items": null,
            "left": null,
            "margin": null,
            "max_height": null,
            "max_width": null,
            "min_height": null,
            "min_width": null,
            "object_fit": null,
            "object_position": null,
            "order": null,
            "overflow": null,
            "overflow_x": null,
            "overflow_y": null,
            "padding": null,
            "right": null,
            "top": null,
            "visibility": null,
            "width": null
          }
        },
        "4f6984f62789494e82cde415199d3287": {
          "model_module": "@jupyter-widgets/controls",
          "model_name": "DescriptionStyleModel",
          "model_module_version": "1.5.0",
          "state": {
            "_model_module": "@jupyter-widgets/controls",
            "_model_module_version": "1.5.0",
            "_model_name": "DescriptionStyleModel",
            "_view_count": null,
            "_view_module": "@jupyter-widgets/base",
            "_view_module_version": "1.2.0",
            "_view_name": "StyleView",
            "description_width": ""
          }
        },
        "555f3afef65849eebe6d190646d93554": {
          "model_module": "@jupyter-widgets/base",
          "model_name": "LayoutModel",
          "model_module_version": "1.2.0",
          "state": {
            "_model_module": "@jupyter-widgets/base",
            "_model_module_version": "1.2.0",
            "_model_name": "LayoutModel",
            "_view_count": null,
            "_view_module": "@jupyter-widgets/base",
            "_view_module_version": "1.2.0",
            "_view_name": "LayoutView",
            "align_content": null,
            "align_items": null,
            "align_self": null,
            "border": null,
            "bottom": null,
            "display": null,
            "flex": null,
            "flex_flow": null,
            "grid_area": null,
            "grid_auto_columns": null,
            "grid_auto_flow": null,
            "grid_auto_rows": null,
            "grid_column": null,
            "grid_gap": null,
            "grid_row": null,
            "grid_template_areas": null,
            "grid_template_columns": null,
            "grid_template_rows": null,
            "height": null,
            "justify_content": null,
            "justify_items": null,
            "left": null,
            "margin": null,
            "max_height": null,
            "max_width": null,
            "min_height": null,
            "min_width": null,
            "object_fit": null,
            "object_position": null,
            "order": null,
            "overflow": null,
            "overflow_x": null,
            "overflow_y": null,
            "padding": null,
            "right": null,
            "top": null,
            "visibility": null,
            "width": null
          }
        },
        "da2ef12a0eb3481d82b9d0c4a4851485": {
          "model_module": "@jupyter-widgets/controls",
          "model_name": "ProgressStyleModel",
          "model_module_version": "1.5.0",
          "state": {
            "_model_module": "@jupyter-widgets/controls",
            "_model_module_version": "1.5.0",
            "_model_name": "ProgressStyleModel",
            "_view_count": null,
            "_view_module": "@jupyter-widgets/base",
            "_view_module_version": "1.2.0",
            "_view_name": "StyleView",
            "bar_color": null,
            "description_width": ""
          }
        },
        "1a0d14940bce460385e51d0a8f9ea147": {
          "model_module": "@jupyter-widgets/base",
          "model_name": "LayoutModel",
          "model_module_version": "1.2.0",
          "state": {
            "_model_module": "@jupyter-widgets/base",
            "_model_module_version": "1.2.0",
            "_model_name": "LayoutModel",
            "_view_count": null,
            "_view_module": "@jupyter-widgets/base",
            "_view_module_version": "1.2.0",
            "_view_name": "LayoutView",
            "align_content": null,
            "align_items": null,
            "align_self": null,
            "border": null,
            "bottom": null,
            "display": null,
            "flex": null,
            "flex_flow": null,
            "grid_area": null,
            "grid_auto_columns": null,
            "grid_auto_flow": null,
            "grid_auto_rows": null,
            "grid_column": null,
            "grid_gap": null,
            "grid_row": null,
            "grid_template_areas": null,
            "grid_template_columns": null,
            "grid_template_rows": null,
            "height": null,
            "justify_content": null,
            "justify_items": null,
            "left": null,
            "margin": null,
            "max_height": null,
            "max_width": null,
            "min_height": null,
            "min_width": null,
            "object_fit": null,
            "object_position": null,
            "order": null,
            "overflow": null,
            "overflow_x": null,
            "overflow_y": null,
            "padding": null,
            "right": null,
            "top": null,
            "visibility": null,
            "width": null
          }
        },
        "58891b546ade429189a7a817d4c8d2f7": {
          "model_module": "@jupyter-widgets/controls",
          "model_name": "DescriptionStyleModel",
          "model_module_version": "1.5.0",
          "state": {
            "_model_module": "@jupyter-widgets/controls",
            "_model_module_version": "1.5.0",
            "_model_name": "DescriptionStyleModel",
            "_view_count": null,
            "_view_module": "@jupyter-widgets/base",
            "_view_module_version": "1.2.0",
            "_view_name": "StyleView",
            "description_width": ""
          }
        }
      }
    }
  },
  "cells": [
    {
      "cell_type": "code",
      "source": [
        "# --- Cell 1: Install (if needed) & imports, constants, seeds ---\n",
        "\n",
        "# If you need these in a fresh runtime, uncomment:\n",
        "# !pip install -q tensorflow matplotlib pandas huggingface_hub\n",
        "\n",
        "import os, random, math, itertools\n",
        "import numpy as np\n",
        "import tensorflow as tf\n",
        "from tensorflow import keras\n",
        "from tensorflow.keras import layers\n",
        "import matplotlib.pyplot as plt\n",
        "from glob import glob\n",
        "import pandas as pd\n",
        "\n",
        "np.random.seed(42)\n",
        "tf.random.set_seed(42)\n",
        "\n",
        "# Image size chosen to be OCR-friendly and fast\n",
        "IMG_HEIGHT, IMG_WIDTH = 32, 128   # (H, W)\n",
        "BATCH_SIZE = 32\n",
        "AUTOTUNE = tf.data.AUTOTUNE\n",
        "\n",
        "print(\"TensorFlow:\", tf.__version__)\n",
        "print(\"GPU:\", tf.config.list_physical_devices('GPU'))\n"
      ],
      "metadata": {
        "id": "v_poYrEJAxQf",
        "outputId": "5c729ec6-c9ad-445e-d6ad-8c593cdb3e0c",
        "colab": {
          "base_uri": "https://localhost:8080/"
        }
      },
      "execution_count": 1,
      "outputs": [
        {
          "output_type": "stream",
          "name": "stdout",
          "text": [
            "TensorFlow: 2.19.0\n",
            "GPU: [PhysicalDevice(name='/physical_device:GPU:0', device_type='GPU')]\n"
          ]
        }
      ]
    },
    {
      "cell_type": "code",
      "source": [
        "# --- Cell 2: Download dataset repo with huggingface_hub & unzip ---\n",
        "\n",
        "from huggingface_hub import snapshot_download\n",
        "import zipfile\n",
        "\n",
        "dataset_dir = snapshot_download(\n",
        "    repo_id=\"YCAI3/HCI_P2\",\n",
        "    repo_type=\"dataset\",\n",
        "    local_dir=\"./HCI_Dataset\",\n",
        "    ignore_patterns=[\".gitattributes\"]\n",
        ")\n",
        "\n",
        "print(\"Dataset downloaded to:\", dataset_dir)\n",
        "\n",
        "zip_path = os.path.join(dataset_dir, \"HCI_Dataset.zip\")\n",
        "extract_dir = os.path.join(dataset_dir, \"unzipped\")\n",
        "\n",
        "# Extract the dataset if not already extracted\n",
        "if not os.path.exists(extract_dir):\n",
        "    with zipfile.ZipFile(zip_path, \"r\") as zip_ref:\n",
        "        zip_ref.extractall(extract_dir)\n",
        "\n",
        "print(\"✅ Extracted to:\", extract_dir)\n",
        "print(\"Top-level in 'unzipped':\", os.listdir(extract_dir))\n",
        "\n",
        "# Base path where the actual images live\n",
        "base_path = \"./HCI_Dataset/unzipped/HCI_Dataset\"\n",
        "assert os.path.exists(base_path), f\"Expected folder not found: {base_path}\"\n"
      ],
      "metadata": {
        "id": "BoQMx7XAAzOu",
        "outputId": "6b68503b-77b5-4d20-bb10-4b238557a51f",
        "colab": {
          "base_uri": "https://localhost:8080/",
          "height": 289,
          "referenced_widgets": [
            "47fa7d1dc7bf4b50b0400c9841013f34",
            "cd33bf936efb46c6b0fe84a2b37d5bfb",
            "518572654c3a4957a4cfb6a892bb00c2",
            "32fa7490d94e4766be2df9823602e76e",
            "176dd391ebaa48538c6a73730c6aea5f",
            "b7b7f0ec6fd24a909326774bec8fbb33",
            "9603065ffb1340ee8609df318fd25481",
            "a4114028d70c41caa2030b029b7c121e",
            "4641bf15fe7e4e8cbd416eb96a8f315e",
            "f5125116836e457ba0f41d27fa1485bb",
            "4d4433a4516843cbad0697d6c296ab7c",
            "ab20c73cbf224597a351a442225be6c0",
            "3d04398872c241108b04fc45080130a2",
            "6639e2cef2654cefafe49bb91df5eecd",
            "446e0cc881c84da7986e7b0c7d4370a3",
            "481e9ef754ea4e1abcb3208c0190bb2a",
            "f8428a910e314f0fa3a130a2989d4d99",
            "d78d588dabc04cbc9181b80b41c128f5",
            "dfebdd88eb584facb64207afce7486df",
            "d4fd5676e2e346cd83b48329d6c99100",
            "6651c06c87f54ea4b1bd10174ffacfd7",
            "a13381645fab4ce1a5fe3d3e712c32ce",
            "e368f4b082a94e639adc70b038760a97",
            "52427da7bec847a4a070c6715cbc0ffb",
            "a047d9f51c9443b5af9cb4dd15eca772",
            "f9e6841b8ea64735934f17edcabe71bc",
            "c5ff43c08bb84b17a0943dbb7ac266a6",
            "223c0f9a22f64cc98d68cbc08a049292",
            "4f6984f62789494e82cde415199d3287",
            "555f3afef65849eebe6d190646d93554",
            "da2ef12a0eb3481d82b9d0c4a4851485",
            "1a0d14940bce460385e51d0a8f9ea147",
            "58891b546ade429189a7a817d4c8d2f7"
          ]
        }
      },
      "execution_count": 2,
      "outputs": [
        {
          "output_type": "stream",
          "name": "stderr",
          "text": [
            "/usr/local/lib/python3.12/dist-packages/huggingface_hub/utils/_auth.py:94: UserWarning: \n",
            "The secret `HF_TOKEN` does not exist in your Colab secrets.\n",
            "To authenticate with the Hugging Face Hub, create a token in your settings tab (https://huggingface.co/settings/tokens), set it as secret in your Google Colab and restart your session.\n",
            "You will be able to reuse this secret in all of your notebooks.\n",
            "Please note that authentication is recommended but still optional to access public models or datasets.\n",
            "  warnings.warn(\n"
          ]
        },
        {
          "output_type": "display_data",
          "data": {
            "text/plain": [
              "Fetching 2 files:   0%|          | 0/2 [00:00<?, ?it/s]"
            ],
            "application/vnd.jupyter.widget-view+json": {
              "version_major": 2,
              "version_minor": 0,
              "model_id": "47fa7d1dc7bf4b50b0400c9841013f34"
            }
          },
          "metadata": {}
        },
        {
          "output_type": "display_data",
          "data": {
            "text/plain": [
              "README.md:   0%|          | 0.00/971 [00:00<?, ?B/s]"
            ],
            "application/vnd.jupyter.widget-view+json": {
              "version_major": 2,
              "version_minor": 0,
              "model_id": "ab20c73cbf224597a351a442225be6c0"
            }
          },
          "metadata": {}
        },
        {
          "output_type": "display_data",
          "data": {
            "text/plain": [
              "HCI_Dataset.zip:   0%|          | 0.00/1.29G [00:00<?, ?B/s]"
            ],
            "application/vnd.jupyter.widget-view+json": {
              "version_major": 2,
              "version_minor": 0,
              "model_id": "e368f4b082a94e639adc70b038760a97"
            }
          },
          "metadata": {}
        },
        {
          "output_type": "stream",
          "name": "stdout",
          "text": [
            "Dataset downloaded to: /content/HCI_Dataset\n",
            "✅ Extracted to: /content/HCI_Dataset/unzipped\n",
            "Top-level in 'unzipped': ['__MACOSX', 'HCI_Dataset']\n"
          ]
        }
      ]
    },
    {
      "cell_type": "code",
      "source": [
        "# --- Cell 3: Gather image paths and word labels from filenames ---\n",
        "\n",
        "# Recursively collect *.jpg\n",
        "image_paths = glob(os.path.join(base_path, \"**\", \"*.jpg\"), recursive=True)\n",
        "print(\"Total images found:\", len(image_paths))\n",
        "\n",
        "def get_word_label_from_filename(path):\n",
        "    \"\"\"\n",
        "    Filenames look like:  100_Classmates_13942.jpg\n",
        "    We want the 'Classmates' portion (case-sensitive).\n",
        "    \"\"\"\n",
        "    fname = os.path.basename(path)\n",
        "    parts = fname.split(\"_\")\n",
        "    return parts[1] if len(parts) >= 2 else \"\"\n",
        "\n",
        "data = pd.DataFrame({\n",
        "    \"path\": image_paths,\n",
        "    \"label\": [get_word_label_from_filename(p) for p in image_paths]\n",
        "})\n",
        "\n",
        "# Basic sanity check\n",
        "print(data.sample(5))\n",
        "print(\"Unique sample words:\", data['label'].nunique())\n"
      ],
      "metadata": {
        "id": "GX-elx6iA0Yg",
        "outputId": "2669221b-09f0-4887-97b1-c115e17625cc",
        "colab": {
          "base_uri": "https://localhost:8080/"
        }
      },
      "execution_count": 3,
      "outputs": [
        {
          "output_type": "stream",
          "name": "stdout",
          "text": [
            "Total images found: 609656\n",
            "                                                     path          label\n",
            "497818  ./HCI_Dataset/unzipped/HCI_Dataset/184/6/369_g...   gatecrashing\n",
            "180397  ./HCI_Dataset/unzipped/HCI_Dataset/23/3/418_re...     reasserted\n",
            "232696  ./HCI_Dataset/unzipped/HCI_Dataset/148/3/354_R...           RUHR\n",
            "19774   ./HCI_Dataset/unzipped/HCI_Dataset/131/6/344_f...         fluxed\n",
            "244604  ./HCI_Dataset/unzipped/HCI_Dataset/12/1/242_CI...  CIVILIZATIONS\n",
            "Unique sample words: 237485\n"
          ]
        }
      ]
    },
    {
      "cell_type": "code",
      "source": [
        "# --- Cell 4 (fixed): Build character vocabulary and lookup layers ---\n",
        "\n",
        "# Build charset from all labels (case-sensitive; includes digits + letters)\n",
        "all_text = \"\".join(data[\"label\"].astype(str).tolist())\n",
        "unique_chars = sorted(list(set(all_text)))\n",
        "print(\"Unique chars ({}):\".format(len(unique_chars)), unique_chars[:80], \"...\")\n",
        "\n",
        "# No OOV, no mask; both layers must match\n",
        "char_to_num = layers.StringLookup(\n",
        "    vocabulary=unique_chars,\n",
        "    num_oov_indices=0,\n",
        "    mask_token=None\n",
        ")\n",
        "\n",
        "num_to_char = layers.StringLookup(\n",
        "    vocabulary=char_to_num.get_vocabulary(),\n",
        "    invert=True,\n",
        "    num_oov_indices=0,\n",
        "    mask_token=None\n",
        ")\n",
        "\n",
        "# Quick encode/decode test\n",
        "test_word = data[\"label\"].iloc[0]\n",
        "enc = char_to_num(tf.strings.unicode_split(test_word, \"UTF-8\"))\n",
        "dec = tf.strings.reduce_join(num_to_char(enc)).numpy().decode(\"utf-8\")\n",
        "print(\"Test label:\", test_word, \"| Encoded len:\", enc.shape[0], \"| Decoded:\", dec)\n"
      ],
      "metadata": {
        "id": "OIAlYlX4A1aP",
        "outputId": "26c9b7a9-3c8a-41f1-955a-7711e530e938",
        "colab": {
          "base_uri": "https://localhost:8080/"
        }
      },
      "execution_count": 5,
      "outputs": [
        {
          "output_type": "stream",
          "name": "stdout",
          "text": [
            "Unique chars (62): ['0', '1', '2', '3', '4', '5', '6', '7', '8', '9', 'A', 'B', 'C', 'D', 'E', 'F', 'G', 'H', 'I', 'J', 'K', 'L', 'M', 'N', 'O', 'P', 'Q', 'R', 'S', 'T', 'U', 'V', 'W', 'X', 'Y', 'Z', 'a', 'b', 'c', 'd', 'e', 'f', 'g', 'h', 'i', 'j', 'k', 'l', 'm', 'n', 'o', 'p', 'q', 'r', 's', 't', 'u', 'v', 'w', 'x', 'y', 'z'] ...\n",
            "Test label: Deescalate | Encoded len: 10 | Decoded: Deescalate\n"
          ]
        }
      ]
    },
    {
      "cell_type": "code",
      "source": [
        "# --- Cell 5: Preprocessing functions (image, label) ---\n",
        "\n",
        "def preprocess_example(path, label_str):\n",
        "    # Image: grayscale, resize to (H, W), normalize 0..1\n",
        "    img_bytes = tf.io.read_file(path)\n",
        "    img = tf.image.decode_jpeg(img_bytes, channels=1)\n",
        "    img = tf.image.resize(img, [IMG_HEIGHT, IMG_WIDTH])\n",
        "    img = tf.cast(img, tf.float32) / 255.0\n",
        "\n",
        "    # Label: string -> list of characters -> int ids\n",
        "    label_chars = tf.strings.unicode_split(label_str, \"UTF-8\")\n",
        "    label_ids = char_to_num(label_chars)  # int32 tensor of shape [seq_len]\n",
        "\n",
        "    return img, label_ids\n"
      ],
      "metadata": {
        "id": "wg1iATlLA2gf"
      },
      "execution_count": 6,
      "outputs": []
    },
    {
      "cell_type": "code",
      "source": [
        "# --- Cell 6: Split datasets and map preprocess (no batching yet) ---\n",
        "\n",
        "# Shuffle deterministically, then split 80/10/10\n",
        "idx = np.arange(len(data))\n",
        "np.random.shuffle(idx)\n",
        "\n",
        "train_end = int(0.8 * len(idx))\n",
        "val_end   = int(0.9 * len(idx))\n",
        "\n",
        "train_idx = idx[:train_end]\n",
        "val_idx   = idx[train_end:val_end]\n",
        "test_idx  = idx[val_end:]\n",
        "\n",
        "train_paths = data[\"path\"].values[train_idx]\n",
        "train_labels= data[\"label\"].values[train_idx]\n",
        "val_paths   = data[\"path\"].values[val_idx]\n",
        "val_labels  = data[\"label\"].values[val_idx]\n",
        "test_paths  = data[\"path\"].values[test_idx]\n",
        "test_labels = data[\"label\"].values[test_idx]\n",
        "\n",
        "print(\"Splits -> train:\", len(train_paths), \"val:\", len(val_paths), \"test:\", len(test_paths))\n",
        "\n",
        "# TF datasets (path, label_string) -> map to (image, label_ids)\n",
        "train_raw = tf.data.Dataset.from_tensor_slices((train_paths, train_labels))\n",
        "val_raw   = tf.data.Dataset.from_tensor_slices((val_paths,   val_labels))\n",
        "test_raw  = tf.data.Dataset.from_tensor_slices((test_paths,  test_labels))\n",
        "\n",
        "train_mapped = train_raw.map(preprocess_example, num_parallel_calls=AUTOTUNE)\n",
        "val_mapped   = val_raw.map(preprocess_example,   num_parallel_calls=AUTOTUNE)\n",
        "test_mapped  = test_raw.map(preprocess_example,  num_parallel_calls=AUTOTUNE)\n"
      ],
      "metadata": {
        "id": "UcoPpapgA3du",
        "outputId": "791b20fc-7779-4f27-9b94-c5276a2c6500",
        "colab": {
          "base_uri": "https://localhost:8080/"
        }
      },
      "execution_count": 7,
      "outputs": [
        {
          "output_type": "stream",
          "name": "stdout",
          "text": [
            "Splits -> train: 487724 val: 60966 test: 60966\n"
          ]
        }
      ]
    },
    {
      "cell_type": "code",
      "source": [
        "# --- Cell 7: Batch & pad datasets ---\n",
        "\n",
        "# Map to ensure precise dtypes for padding later\n",
        "def _to_dtypes(img, label_ids):\n",
        "    # img already float32 in [0,1]; label_ids currently int32 from StringLookup\n",
        "    img = tf.cast(img, tf.float32)\n",
        "    label_ids = tf.cast(label_ids, tf.int32)\n",
        "    return img, label_ids\n",
        "\n",
        "train_mapped = train_mapped.map(_to_dtypes, num_parallel_calls=AUTOTUNE)\n",
        "val_mapped   = val_mapped.map(_to_dtypes,   num_parallel_calls=AUTOTUNE)\n",
        "test_mapped  = test_mapped.map(_to_dtypes,  num_parallel_calls=AUTOTUNE)\n",
        "\n",
        "# Padding values must match dtypes exactly:\n",
        "PADDING_VALUES = (\n",
        "    tf.constant(0.0, dtype=tf.float32),  # image pad\n",
        "    tf.constant(-1,  dtype=tf.int32)     # label pad with -1\n",
        ")\n",
        "\n",
        "train_ds = (train_mapped\n",
        "            .shuffle(8192, reshuffle_each_iteration=True)\n",
        "            .padded_batch(\n",
        "                BATCH_SIZE,\n",
        "                padded_shapes=([IMG_HEIGHT, IMG_WIDTH, 1], [None]),\n",
        "                padding_values=PADDING_VALUES\n",
        "            )\n",
        "            .prefetch(AUTOTUNE))\n",
        "\n",
        "val_ds = (val_mapped\n",
        "          .padded_batch(\n",
        "              BATCH_SIZE,\n",
        "              padded_shapes=([IMG_HEIGHT, IMG_WIDTH, 1], [None]),\n",
        "              padding_values=PADDING_VALUES\n",
        "          )\n",
        "          .prefetch(AUTOTUNE))\n",
        "\n",
        "test_ds = (test_mapped\n",
        "           .padded_batch(\n",
        "               BATCH_SIZE,\n",
        "               padded_shapes=([IMG_HEIGHT, IMG_WIDTH, 1], [None]),\n",
        "               padding_values=PADDING_VALUES\n",
        "           )\n",
        "           .prefetch(AUTOTUNE))\n",
        "\n",
        "# Quick sanity check (one batch)\n",
        "for imgs, labs in train_ds.take(1):\n",
        "    print(\"Batch images:\", imgs.shape, imgs.dtype)\n",
        "    print(\"Batch labels shape:\", labs.shape, labs.dtype)\n",
        "    print(\"First label (padded ids):\", labs[0][:20].numpy())\n",
        "    break\n"
      ],
      "metadata": {
        "id": "7biChw-GA4pd",
        "outputId": "0530be3a-bba2-424a-9ddf-ead64c1b6f17",
        "colab": {
          "base_uri": "https://localhost:8080/"
        }
      },
      "execution_count": 13,
      "outputs": [
        {
          "output_type": "stream",
          "name": "stdout",
          "text": [
            "Batch images: (32, 64, 256, 1) <dtype: 'float32'>\n",
            "Batch labels shape: (32, 17) <dtype: 'int32'>\n",
            "First label (padded ids): [58 44 55 43 43 50 47 39 54 -1 -1 -1 -1 -1 -1 -1 -1]\n"
          ]
        }
      ]
    },
    {
      "cell_type": "code",
      "source": [
        "# --- Cell 8: Visualize & decode one example from a batch ---\n",
        "\n",
        "def decode_label_ids(label_ids_tensor):\n",
        "    # Remove padding (-1), then map ids -> chars, join\n",
        "    valid = tf.boolean_mask(label_ids_tensor, label_ids_tensor != -1)\n",
        "    chars = num_to_char(valid)  # vector of strings\n",
        "    return tf.strings.reduce_join(chars).numpy().decode(\"utf-8\")\n",
        "\n",
        "import matplotlib.pyplot as plt\n",
        "\n",
        "for imgs, labs in train_ds.take(1):\n",
        "    idx = 0\n",
        "    plt.imshow(tf.squeeze(imgs[idx]), cmap='gray')\n",
        "    plt.title(\"Decoded label: \" + decode_label_ids(labs[idx]))\n",
        "    plt.axis('off')\n",
        "    plt.show()\n",
        "    break\n"
      ],
      "metadata": {
        "id": "S9XpUqBqA5z8",
        "outputId": "91abd125-9bd6-4261-bf83-77fa1ac49144",
        "colab": {
          "base_uri": "https://localhost:8080/",
          "height": 183
        }
      },
      "execution_count": 15,
      "outputs": [
        {
          "output_type": "display_data",
          "data": {
            "text/plain": [
              "<Figure size 640x480 with 1 Axes>"
            ],
            "image/png": "[encoded data removed]"
          },
          "metadata": {}
        }
      ]
    },
    {
      "cell_type": "code",
      "source": [
        "# Robust CTC loss that handles -1 padding and (B,1) length tensors\n",
        "def ctc_loss_func(y_true, y_pred):\n",
        "    \"\"\"\n",
        "    y_true: (B, L) int32 with -1 padding\n",
        "    y_pred: (B, T, C) float (probabilities or logits); T = time steps\n",
        "    \"\"\"\n",
        "    y_true = tf.cast(y_true, tf.int32)\n",
        "    y_pred = tf.cast(y_pred, tf.float32)\n",
        "\n",
        "    # lengths\n",
        "    B = tf.shape(y_true)[0]\n",
        "    T = tf.shape(y_pred)[1]                        # time steps from the network\n",
        "    label_len = tf.reduce_sum(tf.cast(y_true != -1, tf.int32), axis=1)  # (B,)\n",
        "\n",
        "    # Clip label lengths so they never exceed T (prevents CTC length errors)\n",
        "    label_len = tf.minimum(label_len, T)\n",
        "\n",
        "    # Replace -1 padding with 0 (won't be read past label_len)\n",
        "    y_true_fixed = tf.where(y_true < 0, tf.zeros_like(y_true), y_true)\n",
        "\n",
        "    # ctc_batch_cost expects shape (B, 1) for lengths\n",
        "    input_len = tf.fill([B, 1], T)\n",
        "    label_len = tf.reshape(label_len, [B, 1])\n",
        "\n",
        "    return tf.keras.backend.ctc_batch_cost(y_true_fixed, y_pred, input_len, label_len)\n"
      ],
      "metadata": {
        "id": "NoCM-sJzA63f"
      },
      "execution_count": 25,
      "outputs": []
    },
    {
      "cell_type": "code",
      "source": [
        "# --- Cell 10: Build CRNN (CNN -> BiLSTM) ---\n",
        "\n",
        "from tensorflow.keras import layers, models\n",
        "\n",
        "def build_crnn_lstm(img_h=IMG_HEIGHT, img_w=IMG_WIDTH, vocab_size=None):\n",
        "    assert vocab_size is not None, \"Pass vocab_size=len(unique_chars)+1 (for CTC blank).\"\n",
        "\n",
        "    inp = layers.Input(shape=(img_h, img_w, 1), name=\"image\")  # (H, W, 1)\n",
        "\n",
        "    # --- CNN feature extractor (≥3 conv layers as required) ---\n",
        "    x = layers.Conv2D(64, (3,3), padding=\"same\", activation=\"relu\")(inp)\n",
        "    x = layers.MaxPooling2D((2,2))(x)  # -> (H/2, W/2)\n",
        "\n",
        "    x = layers.Conv2D(128, (3,3), padding=\"same\", activation=\"relu\")(x)\n",
        "    x = layers.MaxPooling2D((2,2))(x)  # -> (H/4, W/4)\n",
        "\n",
        "    x = layers.Conv2D(128, (3,3), padding=\"same\", activation=\"relu\")(x)\n",
        "    x = layers.MaxPooling2D((2,2))(x)  # -> (H/8, W/8)\n",
        "\n",
        "    # We know these sizes statically from the constants + pooling:\n",
        "    Hp = img_h // 8        # time features height-collapsed dimension\n",
        "    Wp = img_w // 8        # time steps along width\n",
        "    C  = 128               # last conv channels\n",
        "\n",
        "    # Make width the \"time\" axis and flatten (H', C) into features\n",
        "    x = layers.Permute((2, 1, 3))(x)           # (batch, W', H', C)\n",
        "    x = layers.Reshape((Wp, Hp * C))(x)        # (batch, T=Wp, features=Hp*C)\n",
        "\n",
        "    # --- BiLSTM stack ---\n",
        "    x = layers.Bidirectional(layers.LSTM(128, return_sequences=True))(x)\n",
        "    x = layers.Bidirectional(layers.LSTM(64,  return_sequences=True))(x)\n",
        "\n",
        "    # --- Classification (num classes + 1 blank) ---\n",
        "    out = layers.Dense(vocab_size, activation=\"softmax\")(x)  # (B, T, C)\n",
        "\n",
        "    return models.Model(inputs=inp, outputs=out, name=\"CRNN_LSTM\")\n",
        "\n",
        "# vocab size = unique chars + 1 for CTC blank\n",
        "VOCAB_SIZE = len(unique_chars) + 1\n",
        "crnn_lstm = build_crnn_lstm(vocab_size=VOCAB_SIZE)\n",
        "\n",
        "crnn_lstm.summary()\n"
      ],
      "metadata": {
        "id": "B34OryD7A71x",
        "outputId": "9e593d28-f6bb-4e7f-d606-6b87ce2a5b66",
        "colab": {
          "base_uri": "https://localhost:8080/",
          "height": 537
        }
      },
      "execution_count": 26,
      "outputs": [
        {
          "output_type": "display_data",
          "data": {
            "text/plain": [
              "\u001b[1mModel: \"CRNN_LSTM\"\u001b[0m\n"
            ],
            "text/html": [
              "<pre style=\"white-space:pre;overflow-x:auto;line-height:normal;font-family:Menlo,'DejaVu Sans Mono',consolas,'Courier New',monospace\"><span style=\"font-weight: bold\">Model: \"CRNN_LSTM\"</span>\n",
              "</pre>\n"
            ]
          },
          "metadata": {}
        },
        {
          "output_type": "display_data",
          "data": {
            "text/plain": [
              "┏━━━━━━━━━━━━━━━━━━━━━━━━━━━━━━━━━┳━━━━━━━━━━━━━━━━━━━━━━━━┳━━━━━━━━━━━━━━━┓\n",
              "┃\u001b[1m \u001b[0m\u001b[1mLayer (type)                   \u001b[0m\u001b[1m \u001b[0m┃\u001b[1m \u001b[0m\u001b[1mOutput Shape          \u001b[0m\u001b[1m \u001b[0m┃\u001b[1m \u001b[0m\u001b[1m      Param #\u001b[0m\u001b[1m \u001b[0m┃\n",
              "┡━━━━━━━━━━━━━━━━━━━━━━━━━━━━━━━━━╇━━━━━━━━━━━━━━━━━━━━━━━━╇━━━━━━━━━━━━━━━┩\n",
              "│ image (\u001b[38;5;33mInputLayer\u001b[0m)              │ (\u001b[38;5;45mNone\u001b[0m, \u001b[38;5;34m64\u001b[0m, \u001b[38;5;34m256\u001b[0m, \u001b[38;5;34m1\u001b[0m)     │             \u001b[38;5;34m0\u001b[0m │\n",
              "├─────────────────────────────────┼────────────────────────┼───────────────┤\n",
              "│ conv2d_9 (\u001b[38;5;33mConv2D\u001b[0m)               │ (\u001b[38;5;45mNone\u001b[0m, \u001b[38;5;34m64\u001b[0m, \u001b[38;5;34m256\u001b[0m, \u001b[38;5;34m64\u001b[0m)    │           \u001b[38;5;34m640\u001b[0m │\n",
              "├─────────────────────────────────┼────────────────────────┼───────────────┤\n",
              "│ max_pooling2d_9 (\u001b[38;5;33mMaxPooling2D\u001b[0m)  │ (\u001b[38;5;45mNone\u001b[0m, \u001b[38;5;34m32\u001b[0m, \u001b[38;5;34m128\u001b[0m, \u001b[38;5;34m64\u001b[0m)    │             \u001b[38;5;34m0\u001b[0m │\n",
              "├─────────────────────────────────┼────────────────────────┼───────────────┤\n",
              "│ conv2d_10 (\u001b[38;5;33mConv2D\u001b[0m)              │ (\u001b[38;5;45mNone\u001b[0m, \u001b[38;5;34m32\u001b[0m, \u001b[38;5;34m128\u001b[0m, \u001b[38;5;34m128\u001b[0m)   │        \u001b[38;5;34m73,856\u001b[0m │\n",
              "├─────────────────────────────────┼────────────────────────┼───────────────┤\n",
              "│ max_pooling2d_10 (\u001b[38;5;33mMaxPooling2D\u001b[0m) │ (\u001b[38;5;45mNone\u001b[0m, \u001b[38;5;34m16\u001b[0m, \u001b[38;5;34m64\u001b[0m, \u001b[38;5;34m128\u001b[0m)    │             \u001b[38;5;34m0\u001b[0m │\n",
              "├─────────────────────────────────┼────────────────────────┼───────────────┤\n",
              "│ conv2d_11 (\u001b[38;5;33mConv2D\u001b[0m)              │ (\u001b[38;5;45mNone\u001b[0m, \u001b[38;5;34m16\u001b[0m, \u001b[38;5;34m64\u001b[0m, \u001b[38;5;34m128\u001b[0m)    │       \u001b[38;5;34m147,584\u001b[0m │\n",
              "├─────────────────────────────────┼────────────────────────┼───────────────┤\n",
              "│ max_pooling2d_11 (\u001b[38;5;33mMaxPooling2D\u001b[0m) │ (\u001b[38;5;45mNone\u001b[0m, \u001b[38;5;34m8\u001b[0m, \u001b[38;5;34m32\u001b[0m, \u001b[38;5;34m128\u001b[0m)     │             \u001b[38;5;34m0\u001b[0m │\n",
              "├─────────────────────────────────┼────────────────────────┼───────────────┤\n",
              "│ permute_2 (\u001b[38;5;33mPermute\u001b[0m)             │ (\u001b[38;5;45mNone\u001b[0m, \u001b[38;5;34m32\u001b[0m, \u001b[38;5;34m8\u001b[0m, \u001b[38;5;34m128\u001b[0m)     │             \u001b[38;5;34m0\u001b[0m │\n",
              "├─────────────────────────────────┼────────────────────────┼───────────────┤\n",
              "│ reshape_2 (\u001b[38;5;33mReshape\u001b[0m)             │ (\u001b[38;5;45mNone\u001b[0m, \u001b[38;5;34m32\u001b[0m, \u001b[38;5;34m1024\u001b[0m)       │             \u001b[38;5;34m0\u001b[0m │\n",
              "├─────────────────────────────────┼────────────────────────┼───────────────┤\n",
              "│ bidirectional_4 (\u001b[38;5;33mBidirectional\u001b[0m) │ (\u001b[38;5;45mNone\u001b[0m, \u001b[38;5;34m32\u001b[0m, \u001b[38;5;34m256\u001b[0m)        │     \u001b[38;5;34m1,180,672\u001b[0m │\n",
              "├─────────────────────────────────┼────────────────────────┼───────────────┤\n",
              "│ bidirectional_5 (\u001b[38;5;33mBidirectional\u001b[0m) │ (\u001b[38;5;45mNone\u001b[0m, \u001b[38;5;34m32\u001b[0m, \u001b[38;5;34m128\u001b[0m)        │       \u001b[38;5;34m164,352\u001b[0m │\n",
              "├─────────────────────────────────┼────────────────────────┼───────────────┤\n",
              "│ dense_2 (\u001b[38;5;33mDense\u001b[0m)                 │ (\u001b[38;5;45mNone\u001b[0m, \u001b[38;5;34m32\u001b[0m, \u001b[38;5;34m63\u001b[0m)         │         \u001b[38;5;34m8,127\u001b[0m │\n",
              "└─────────────────────────────────┴────────────────────────┴───────────────┘\n"
            ],
            "text/html": [
              "<pre style=\"white-space:pre;overflow-x:auto;line-height:normal;font-family:Menlo,'DejaVu Sans Mono',consolas,'Courier New',monospace\">┏━━━━━━━━━━━━━━━━━━━━━━━━━━━━━━━━━┳━━━━━━━━━━━━━━━━━━━━━━━━┳━━━━━━━━━━━━━━━┓\n",
              "┃<span style=\"font-weight: bold\"> Layer (type)                    </span>┃<span style=\"font-weight: bold\"> Output Shape           </span>┃<span style=\"font-weight: bold\">       Param # </span>┃\n",
              "┡━━━━━━━━━━━━━━━━━━━━━━━━━━━━━━━━━╇━━━━━━━━━━━━━━━━━━━━━━━━╇━━━━━━━━━━━━━━━┩\n",
              "│ image (<span style=\"color: #0087ff; text-decoration-color: #0087ff\">InputLayer</span>)              │ (<span style=\"color: #00d7ff; text-decoration-color: #00d7ff\">None</span>, <span style=\"color: #00af00; text-decoration-color: #00af00\">64</span>, <span style=\"color: #00af00; text-decoration-color: #00af00\">256</span>, <span style=\"color: #00af00; text-decoration-color: #00af00\">1</span>)     │             <span style=\"color: #00af00; text-decoration-color: #00af00\">0</span> │\n",
              "├─────────────────────────────────┼────────────────────────┼───────────────┤\n",
              "│ conv2d_9 (<span style=\"color: #0087ff; text-decoration-color: #0087ff\">Conv2D</span>)               │ (<span style=\"color: #00d7ff; text-decoration-color: #00d7ff\">None</span>, <span style=\"color: #00af00; text-decoration-color: #00af00\">64</span>, <span style=\"color: #00af00; text-decoration-color: #00af00\">256</span>, <span style=\"color: #00af00; text-decoration-color: #00af00\">64</span>)    │           <span style=\"color: #00af00; text-decoration-color: #00af00\">640</span> │\n",
              "├─────────────────────────────────┼────────────────────────┼───────────────┤\n",
              "│ max_pooling2d_9 (<span style=\"color: #0087ff; text-decoration-color: #0087ff\">MaxPooling2D</span>)  │ (<span style=\"color: #00d7ff; text-decoration-color: #00d7ff\">None</span>, <span style=\"color: #00af00; text-decoration-color: #00af00\">32</span>, <span style=\"color: #00af00; text-decoration-color: #00af00\">128</span>, <span style=\"color: #00af00; text-decoration-color: #00af00\">64</span>)    │             <span style=\"color: #00af00; text-decoration-color: #00af00\">0</span> │\n",
              "├─────────────────────────────────┼────────────────────────┼───────────────┤\n",
              "│ conv2d_10 (<span style=\"color: #0087ff; text-decoration-color: #0087ff\">Conv2D</span>)              │ (<span style=\"color: #00d7ff; text-decoration-color: #00d7ff\">None</span>, <span style=\"color: #00af00; text-decoration-color: #00af00\">32</span>, <span style=\"color: #00af00; text-decoration-color: #00af00\">128</span>, <span style=\"color: #00af00; text-decoration-color: #00af00\">128</span>)   │        <span style=\"color: #00af00; text-decoration-color: #00af00\">73,856</span> │\n",
              "├─────────────────────────────────┼────────────────────────┼───────────────┤\n",
              "│ max_pooling2d_10 (<span style=\"color: #0087ff; text-decoration-color: #0087ff\">MaxPooling2D</span>) │ (<span style=\"color: #00d7ff; text-decoration-color: #00d7ff\">None</span>, <span style=\"color: #00af00; text-decoration-color: #00af00\">16</span>, <span style=\"color: #00af00; text-decoration-color: #00af00\">64</span>, <span style=\"color: #00af00; text-decoration-color: #00af00\">128</span>)    │             <span style=\"color: #00af00; text-decoration-color: #00af00\">0</span> │\n",
              "├─────────────────────────────────┼────────────────────────┼───────────────┤\n",
              "│ conv2d_11 (<span style=\"color: #0087ff; text-decoration-color: #0087ff\">Conv2D</span>)              │ (<span style=\"color: #00d7ff; text-decoration-color: #00d7ff\">None</span>, <span style=\"color: #00af00; text-decoration-color: #00af00\">16</span>, <span style=\"color: #00af00; text-decoration-color: #00af00\">64</span>, <span style=\"color: #00af00; text-decoration-color: #00af00\">128</span>)    │       <span style=\"color: #00af00; text-decoration-color: #00af00\">147,584</span> │\n",
              "├─────────────────────────────────┼────────────────────────┼───────────────┤\n",
              "│ max_pooling2d_11 (<span style=\"color: #0087ff; text-decoration-color: #0087ff\">MaxPooling2D</span>) │ (<span style=\"color: #00d7ff; text-decoration-color: #00d7ff\">None</span>, <span style=\"color: #00af00; text-decoration-color: #00af00\">8</span>, <span style=\"color: #00af00; text-decoration-color: #00af00\">32</span>, <span style=\"color: #00af00; text-decoration-color: #00af00\">128</span>)     │             <span style=\"color: #00af00; text-decoration-color: #00af00\">0</span> │\n",
              "├─────────────────────────────────┼────────────────────────┼───────────────┤\n",
              "│ permute_2 (<span style=\"color: #0087ff; text-decoration-color: #0087ff\">Permute</span>)             │ (<span style=\"color: #00d7ff; text-decoration-color: #00d7ff\">None</span>, <span style=\"color: #00af00; text-decoration-color: #00af00\">32</span>, <span style=\"color: #00af00; text-decoration-color: #00af00\">8</span>, <span style=\"color: #00af00; text-decoration-color: #00af00\">128</span>)     │             <span style=\"color: #00af00; text-decoration-color: #00af00\">0</span> │\n",
              "├─────────────────────────────────┼────────────────────────┼───────────────┤\n",
              "│ reshape_2 (<span style=\"color: #0087ff; text-decoration-color: #0087ff\">Reshape</span>)             │ (<span style=\"color: #00d7ff; text-decoration-color: #00d7ff\">None</span>, <span style=\"color: #00af00; text-decoration-color: #00af00\">32</span>, <span style=\"color: #00af00; text-decoration-color: #00af00\">1024</span>)       │             <span style=\"color: #00af00; text-decoration-color: #00af00\">0</span> │\n",
              "├─────────────────────────────────┼────────────────────────┼───────────────┤\n",
              "│ bidirectional_4 (<span style=\"color: #0087ff; text-decoration-color: #0087ff\">Bidirectional</span>) │ (<span style=\"color: #00d7ff; text-decoration-color: #00d7ff\">None</span>, <span style=\"color: #00af00; text-decoration-color: #00af00\">32</span>, <span style=\"color: #00af00; text-decoration-color: #00af00\">256</span>)        │     <span style=\"color: #00af00; text-decoration-color: #00af00\">1,180,672</span> │\n",
              "├─────────────────────────────────┼────────────────────────┼───────────────┤\n",
              "│ bidirectional_5 (<span style=\"color: #0087ff; text-decoration-color: #0087ff\">Bidirectional</span>) │ (<span style=\"color: #00d7ff; text-decoration-color: #00d7ff\">None</span>, <span style=\"color: #00af00; text-decoration-color: #00af00\">32</span>, <span style=\"color: #00af00; text-decoration-color: #00af00\">128</span>)        │       <span style=\"color: #00af00; text-decoration-color: #00af00\">164,352</span> │\n",
              "├─────────────────────────────────┼────────────────────────┼───────────────┤\n",
              "│ dense_2 (<span style=\"color: #0087ff; text-decoration-color: #0087ff\">Dense</span>)                 │ (<span style=\"color: #00d7ff; text-decoration-color: #00d7ff\">None</span>, <span style=\"color: #00af00; text-decoration-color: #00af00\">32</span>, <span style=\"color: #00af00; text-decoration-color: #00af00\">63</span>)         │         <span style=\"color: #00af00; text-decoration-color: #00af00\">8,127</span> │\n",
              "└─────────────────────────────────┴────────────────────────┴───────────────┘\n",
              "</pre>\n"
            ]
          },
          "metadata": {}
        },
        {
          "output_type": "display_data",
          "data": {
            "text/plain": [
              "\u001b[1m Total params: \u001b[0m\u001b[38;5;34m1,575,231\u001b[0m (6.01 MB)\n"
            ],
            "text/html": [
              "<pre style=\"white-space:pre;overflow-x:auto;line-height:normal;font-family:Menlo,'DejaVu Sans Mono',consolas,'Courier New',monospace\"><span style=\"font-weight: bold\"> Total params: </span><span style=\"color: #00af00; text-decoration-color: #00af00\">1,575,231</span> (6.01 MB)\n",
              "</pre>\n"
            ]
          },
          "metadata": {}
        },
        {
          "output_type": "display_data",
          "data": {
            "text/plain": [
              "\u001b[1m Trainable params: \u001b[0m\u001b[38;5;34m1,575,231\u001b[0m (6.01 MB)\n"
            ],
            "text/html": [
              "<pre style=\"white-space:pre;overflow-x:auto;line-height:normal;font-family:Menlo,'DejaVu Sans Mono',consolas,'Courier New',monospace\"><span style=\"font-weight: bold\"> Trainable params: </span><span style=\"color: #00af00; text-decoration-color: #00af00\">1,575,231</span> (6.01 MB)\n",
              "</pre>\n"
            ]
          },
          "metadata": {}
        },
        {
          "output_type": "display_data",
          "data": {
            "text/plain": [
              "\u001b[1m Non-trainable params: \u001b[0m\u001b[38;5;34m0\u001b[0m (0.00 B)\n"
            ],
            "text/html": [
              "<pre style=\"white-space:pre;overflow-x:auto;line-height:normal;font-family:Menlo,'DejaVu Sans Mono',consolas,'Courier New',monospace\"><span style=\"font-weight: bold\"> Non-trainable params: </span><span style=\"color: #00af00; text-decoration-color: #00af00\">0</span> (0.00 B)\n",
              "</pre>\n"
            ]
          },
          "metadata": {}
        }
      ]
    },
    {
      "cell_type": "code",
      "source": [
        "# Peek at one batch\n",
        "imgs, labs = next(iter(train_ds))\n",
        "print(\"Batch images:\", imgs.shape, imgs.dtype)\n",
        "print(\"Batch labels:\", labs.shape, labs.dtype)\n",
        "\n",
        "# Check model output time steps T\n",
        "probe = crnn_lstm(imgs[:1])        # forward pass a single image\n",
        "print(\"Model output shape (B, T, C):\", probe.shape)\n"
      ],
      "metadata": {
        "id": "irn1mAQBONBj",
        "outputId": "b7dd8a66-86fb-4111-df7d-05e438c4ace3",
        "colab": {
          "base_uri": "https://localhost:8080/"
        }
      },
      "execution_count": 27,
      "outputs": [
        {
          "output_type": "stream",
          "name": "stdout",
          "text": [
            "Batch images: (32, 64, 256, 1) <dtype: 'float32'>\n",
            "Batch labels: (32, 14) <dtype: 'int32'>\n",
            "Model output shape (B, T, C): (1, 32, 63)\n"
          ]
        }
      ]
    },
    {
      "cell_type": "code",
      "source": [
        "import math\n",
        "from tensorflow import keras\n",
        "import tensorflow as tf\n",
        "\n",
        "# --- Make small, clean subsets (500 train, 100 val) ---\n",
        "SUB_TRAIN = 500\n",
        "SUB_VAL   = 100\n",
        "\n",
        "subset_train = (\n",
        "    train_ds\n",
        "    .unbatch()                 # go back to single examples\n",
        "    .take(SUB_TRAIN)           # keep only 500\n",
        "    .batch(BATCH_SIZE)         # re-batch\n",
        "    .prefetch(tf.data.AUTOTUNE)\n",
        ")\n",
        "\n",
        "subset_val = (\n",
        "    val_ds\n",
        "    .unbatch()\n",
        "    .take(SUB_VAL)\n",
        "    .batch(BATCH_SIZE)\n",
        "    .prefetch(tf.data.AUTOTUNE)\n",
        ")\n",
        "\n",
        "steps_per_epoch  = math.ceil(SUB_TRAIN / BATCH_SIZE)\n",
        "validation_steps = math.ceil(SUB_VAL   / BATCH_SIZE)\n",
        "\n",
        "# --- Recompile (use your working CTC loss) ---\n",
        "crnn_lstm.compile(\n",
        "    optimizer=keras.optimizers.Adam(learning_rate=1e-4),\n",
        "    loss=ctc_loss_func\n",
        ")\n",
        "\n",
        "# --- Quick smoke test training run ---\n",
        "callbacks = [\n",
        "    keras.callbacks.EarlyStopping(monitor=\"val_loss\", patience=3, restore_best_weights=True),\n",
        "    keras.callbacks.ReduceLROnPlateau(monitor=\"val_loss\", factor=0.5, patience=2, min_lr=1e-6),\n",
        "]\n",
        "\n",
        "history_lstm_adam = crnn_lstm.fit(\n",
        "    subset_train,\n",
        "    validation_data=subset_val,\n",
        "    epochs=10,                      # just to confirm it fully runs\n",
        "    steps_per_epoch=steps_per_epoch,\n",
        "    validation_steps=validation_steps,\n",
        "    verbose=1\n",
        ")\n"
      ],
      "metadata": {
        "id": "pYo4IyR6A9nR",
        "outputId": "3e235717-451e-4767-b8c3-d01b6b89fe1e",
        "colab": {
          "base_uri": "https://localhost:8080/"
        }
      },
      "execution_count": 30,
      "outputs": [
        {
          "output_type": "stream",
          "name": "stdout",
          "text": [
            "Epoch 1/10\n",
            "\u001b[1m16/16\u001b[0m \u001b[32m━━━━━━━━━━━━━━━━━━━━\u001b[0m\u001b[37m\u001b[0m \u001b[1m9s\u001b[0m 116ms/step - loss: 31.5159 - val_loss: 32.1803\n",
            "Epoch 2/10\n",
            "\u001b[1m16/16\u001b[0m \u001b[32m━━━━━━━━━━━━━━━━━━━━\u001b[0m\u001b[37m\u001b[0m \u001b[1m0s\u001b[0m 10ms/step - loss: 0.0000e+00 - val_loss: 32.1803\n",
            "Epoch 3/10\n",
            "\u001b[1m16/16\u001b[0m \u001b[32m━━━━━━━━━━━━━━━━━━━━\u001b[0m\u001b[37m\u001b[0m \u001b[1m3s\u001b[0m 73ms/step - loss: 31.0658 - val_loss: 32.0779\n",
            "Epoch 4/10\n",
            "\u001b[1m16/16\u001b[0m \u001b[32m━━━━━━━━━━━━━━━━━━━━\u001b[0m\u001b[37m\u001b[0m \u001b[1m0s\u001b[0m 11ms/step - loss: 0.0000e+00 - val_loss: 32.0779\n",
            "Epoch 5/10\n",
            "\u001b[1m16/16\u001b[0m \u001b[32m━━━━━━━━━━━━━━━━━━━━\u001b[0m\u001b[37m\u001b[0m \u001b[1m3s\u001b[0m 70ms/step - loss: 31.2898 - val_loss: 31.9672\n",
            "Epoch 6/10\n",
            "\u001b[1m16/16\u001b[0m \u001b[32m━━━━━━━━━━━━━━━━━━━━\u001b[0m\u001b[37m\u001b[0m \u001b[1m0s\u001b[0m 10ms/step - loss: 0.0000e+00 - val_loss: 31.9672\n",
            "Epoch 7/10\n",
            "\u001b[1m16/16\u001b[0m \u001b[32m━━━━━━━━━━━━━━━━━━━━\u001b[0m\u001b[37m\u001b[0m \u001b[1m3s\u001b[0m 92ms/step - loss: 31.2636 - val_loss: 31.9176\n",
            "Epoch 8/10\n",
            "\u001b[1m16/16\u001b[0m \u001b[32m━━━━━━━━━━━━━━━━━━━━\u001b[0m\u001b[37m\u001b[0m \u001b[1m0s\u001b[0m 16ms/step - loss: 0.0000e+00 - val_loss: 31.9176\n",
            "Epoch 9/10\n",
            "\u001b[1m16/16\u001b[0m \u001b[32m━━━━━━━━━━━━━━━━━━━━\u001b[0m\u001b[37m\u001b[0m \u001b[1m3s\u001b[0m 70ms/step - loss: 30.7797 - val_loss: 31.8593\n",
            "Epoch 10/10\n",
            "\u001b[1m16/16\u001b[0m \u001b[32m━━━━━━━━━━━━━━━━━━━━\u001b[0m\u001b[37m\u001b[0m \u001b[1m0s\u001b[0m 10ms/step - loss: 0.0000e+00 - val_loss: 31.8593\n"
          ]
        }
      ]
    },
    {
      "cell_type": "code",
      "source": [
        "# Peek at a few labels from the subset to make sure they aren't empty\n",
        "for imgs, labs in subset_train.take(1):\n",
        "    lens = tf.cast(tf.reduce_sum(tf.cast(labs != -1, tf.int32), axis=1), tf.int32)  # count non -1 tokens\n",
        "    print(\"Label lengths:\", lens.numpy()[:32])\n",
        "    # Optional: decode the first few to human-readable\n",
        "    for i in range(min(5, labs.shape[0])):\n",
        "        valid = tf.boolean_mask(labs[i], labs[i] != -1)\n",
        "        print(i, tf.strings.reduce_join(num_to_char(valid)).numpy().decode(\"utf-8\"))\n"
      ],
      "metadata": {
        "id": "k6b0ayVXRFzH",
        "outputId": "04d29ca2-a11d-430a-faa9-2745679a0219",
        "colab": {
          "base_uri": "https://localhost:8080/"
        }
      },
      "execution_count": 31,
      "outputs": [
        {
          "output_type": "stream",
          "name": "stdout",
          "text": [
            "Label lengths: [ 8 13  8  8  7 13  8 14  8  5  8  6  8  6  4  5  6  7 11  6  8  6  8  7\n",
            "  7  8  9 12  8 10 11  9]\n",
            "0 TANZANIA\n",
            "1 Geriatricians\n",
            "2 Heretics\n",
            "3 Arranges\n",
            "4 Nodules\n"
          ]
        }
      ]
    }
  ]
}