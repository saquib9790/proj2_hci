{
  "nbformat": 4,
  "nbformat_minor": 0,
  "metadata": {
    "colab": {
      "provenance": [],
      "gpuType": "T4"
    },
    "kernelspec": {
      "name": "python3",
      "display_name": "Python 3"
    },
    "language_info": {
      "name": "python"
    },
    "accelerator": "GPU",
    "widgets": {
      "application/vnd.jupyter.widget-state+json": {
        "5a9040755704461a8a1b95c5ec70d124": {
          "model_module": "@jupyter-widgets/controls",
          "model_name": "HBoxModel",
          "model_module_version": "1.5.0",
          "state": {
            "_dom_classes": [],
            "_model_module": "@jupyter-widgets/controls",
            "_model_module_version": "1.5.0",
            "_model_name": "HBoxModel",
            "_view_count": null,
            "_view_module": "@jupyter-widgets/controls",
            "_view_module_version": "1.5.0",
            "_view_name": "HBoxView",
            "box_style": "",
            "children": [
              "IPY_MODEL_849598144bb24acebc2c1c5bc830f56a",
              "IPY_MODEL_4e5d31106fbe4e86be38f1d2b692078f",
              "IPY_MODEL_7a1d48ec69214d60968270d0615db678"
            ],
            "layout": "IPY_MODEL_870d345de97f41dfb5e2c443a4f5d365"
          }
        },
        "849598144bb24acebc2c1c5bc830f56a": {
          "model_module": "@jupyter-widgets/controls",
          "model_name": "HTMLModel",
          "model_module_version": "1.5.0",
          "state": {
            "_dom_classes": [],
            "_model_module": "@jupyter-widgets/controls",
            "_model_module_version": "1.5.0",
            "_model_name": "HTMLModel",
            "_view_count": null,
            "_view_module": "@jupyter-widgets/controls",
            "_view_module_version": "1.5.0",
            "_view_name": "HTMLView",
            "description": "",
            "description_tooltip": null,
            "layout": "IPY_MODEL_3c63fb31d9194332bbd0d004b8b9b7d8",
            "placeholder": "​",
            "style": "IPY_MODEL_bf6e59b817b34714a3a9cc1be301ce8f",
            "value": "Fetching 2 files: 100%"
          }
        },
        "4e5d31106fbe4e86be38f1d2b692078f": {
          "model_module": "@jupyter-widgets/controls",
          "model_name": "FloatProgressModel",
          "model_module_version": "1.5.0",
          "state": {
            "_dom_classes": [],
            "_model_module": "@jupyter-widgets/controls",
            "_model_module_version": "1.5.0",
            "_model_name": "FloatProgressModel",
            "_view_count": null,
            "_view_module": "@jupyter-widgets/controls",
            "_view_module_version": "1.5.0",
            "_view_name": "ProgressView",
            "bar_style": "success",
            "description": "",
            "description_tooltip": null,
            "layout": "IPY_MODEL_c67162055e0c4182a3cb8e9c6c969c9c",
            "max": 2,
            "min": 0,
            "orientation": "horizontal",
            "style": "IPY_MODEL_2033fcd6dc6a400fbec1a0be3a19b019",
            "value": 2
          }
        },
        "7a1d48ec69214d60968270d0615db678": {
          "model_module": "@jupyter-widgets/controls",
          "model_name": "HTMLModel",
          "model_module_version": "1.5.0",
          "state": {
            "_dom_classes": [],
            "_model_module": "@jupyter-widgets/controls",
            "_model_module_version": "1.5.0",
            "_model_name": "HTMLModel",
            "_view_count": null,
            "_view_module": "@jupyter-widgets/controls",
            "_view_module_version": "1.5.0",
            "_view_name": "HTMLView",
            "description": "",
            "description_tooltip": null,
            "layout": "IPY_MODEL_f9189355361c4441bc4e63d6a40ac9dc",
            "placeholder": "​",
            "style": "IPY_MODEL_7ef92bf758a7455099e67ff2eff5fc50",
            "value": " 2/2 [00:34&lt;00:00, 34.09s/it]"
          }
        },
        "870d345de97f41dfb5e2c443a4f5d365": {
          "model_module": "@jupyter-widgets/base",
          "model_name": "LayoutModel",
          "model_module_version": "1.2.0",
          "state": {
            "_model_module": "@jupyter-widgets/base",
            "_model_module_version": "1.2.0",
            "_model_name": "LayoutModel",
            "_view_count": null,
            "_view_module": "@jupyter-widgets/base",
            "_view_module_version": "1.2.0",
            "_view_name": "LayoutView",
            "align_content": null,
            "align_items": null,
            "align_self": null,
            "border": null,
            "bottom": null,
            "display": null,
            "flex": null,
            "flex_flow": null,
            "grid_area": null,
            "grid_auto_columns": null,
            "grid_auto_flow": null,
            "grid_auto_rows": null,
            "grid_column": null,
            "grid_gap": null,
            "grid_row": null,
            "grid_template_areas": null,
            "grid_template_columns": null,
            "grid_template_rows": null,
            "height": null,
            "justify_content": null,
            "justify_items": null,
            "left": null,
            "margin": null,
            "max_height": null,
            "max_width": null,
            "min_height": null,
            "min_width": null,
            "object_fit": null,
            "object_position": null,
            "order": null,
            "overflow": null,
            "overflow_x": null,
            "overflow_y": null,
            "padding": null,
            "right": null,
            "top": null,
            "visibility": null,
            "width": null
          }
        },
        "3c63fb31d9194332bbd0d004b8b9b7d8": {
          "model_module": "@jupyter-widgets/base",
          "model_name": "LayoutModel",
          "model_module_version": "1.2.0",
          "state": {
            "_model_module": "@jupyter-widgets/base",
            "_model_module_version": "1.2.0",
            "_model_name": "LayoutModel",
            "_view_count": null,
            "_view_module": "@jupyter-widgets/base",
            "_view_module_version": "1.2.0",
            "_view_name": "LayoutView",
            "align_content": null,
            "align_items": null,
            "align_self": null,
            "border": null,
            "bottom": null,
            "display": null,
            "flex": null,
            "flex_flow": null,
            "grid_area": null,
            "grid_auto_columns": null,
            "grid_auto_flow": null,
            "grid_auto_rows": null,
            "grid_column": null,
            "grid_gap": null,
            "grid_row": null,
            "grid_template_areas": null,
            "grid_template_columns": null,
            "grid_template_rows": null,
            "height": null,
            "justify_content": null,
            "justify_items": null,
            "left": null,
            "margin": null,
            "max_height": null,
            "max_width": null,
            "min_height": null,
            "min_width": null,
            "object_fit": null,
            "object_position": null,
            "order": null,
            "overflow": null,
            "overflow_x": null,
            "overflow_y": null,
            "padding": null,
            "right": null,
            "top": null,
            "visibility": null,
            "width": null
          }
        },
        "bf6e59b817b34714a3a9cc1be301ce8f": {
          "model_module": "@jupyter-widgets/controls",
          "model_name": "DescriptionStyleModel",
          "model_module_version": "1.5.0",
          "state": {
            "_model_module": "@jupyter-widgets/controls",
            "_model_module_version": "1.5.0",
            "_model_name": "DescriptionStyleModel",
            "_view_count": null,
            "_view_module": "@jupyter-widgets/base",
            "_view_module_version": "1.2.0",
            "_view_name": "StyleView",
            "description_width": ""
          }
        },
        "c67162055e0c4182a3cb8e9c6c969c9c": {
          "model_module": "@jupyter-widgets/base",
          "model_name": "LayoutModel",
          "model_module_version": "1.2.0",
          "state": {
            "_model_module": "@jupyter-widgets/base",
            "_model_module_version": "1.2.0",
            "_model_name": "LayoutModel",
            "_view_count": null,
            "_view_module": "@jupyter-widgets/base",
            "_view_module_version": "1.2.0",
            "_view_name": "LayoutView",
            "align_content": null,
            "align_items": null,
            "align_self": null,
            "border": null,
            "bottom": null,
            "display": null,
            "flex": null,
            "flex_flow": null,
            "grid_area": null,
            "grid_auto_columns": null,
            "grid_auto_flow": null,
            "grid_auto_rows": null,
            "grid_column": null,
            "grid_gap": null,
            "grid_row": null,
            "grid_template_areas": null,
            "grid_template_columns": null,
            "grid_template_rows": null,
            "height": null,
            "justify_content": null,
            "justify_items": null,
            "left": null,
            "margin": null,
            "max_height": null,
            "max_width": null,
            "min_height": null,
            "min_width": null,
            "object_fit": null,
            "object_position": null,
            "order": null,
            "overflow": null,
            "overflow_x": null,
            "overflow_y": null,
            "padding": null,
            "right": null,
            "top": null,
            "visibility": null,
            "width": null
          }
        },
        "2033fcd6dc6a400fbec1a0be3a19b019": {
          "model_module": "@jupyter-widgets/controls",
          "model_name": "ProgressStyleModel",
          "model_module_version": "1.5.0",
          "state": {
            "_model_module": "@jupyter-widgets/controls",
            "_model_module_version": "1.5.0",
            "_model_name": "ProgressStyleModel",
            "_view_count": null,
            "_view_module": "@jupyter-widgets/base",
            "_view_module_version": "1.2.0",
            "_view_name": "StyleView",
            "bar_color": null,
            "description_width": ""
          }
        },
        "f9189355361c4441bc4e63d6a40ac9dc": {
          "model_module": "@jupyter-widgets/base",
          "model_name": "LayoutModel",
          "model_module_version": "1.2.0",
          "state": {
            "_model_module": "@jupyter-widgets/base",
            "_model_module_version": "1.2.0",
            "_model_name": "LayoutModel",
            "_view_count": null,
            "_view_module": "@jupyter-widgets/base",
            "_view_module_version": "1.2.0",
            "_view_name": "LayoutView",
            "align_content": null,
            "align_items": null,
            "align_self": null,
            "border": null,
            "bottom": null,
            "display": null,
            "flex": null,
            "flex_flow": null,
            "grid_area": null,
            "grid_auto_columns": null,
            "grid_auto_flow": null,
            "grid_auto_rows": null,
            "grid_column": null,
            "grid_gap": null,
            "grid_row": null,
            "grid_template_areas": null,
            "grid_template_columns": null,
            "grid_template_rows": null,
            "height": null,
            "justify_content": null,
            "justify_items": null,
            "left": null,
            "margin": null,
            "max_height": null,
            "max_width": null,
            "min_height": null,
            "min_width": null,
            "object_fit": null,
            "object_position": null,
            "order": null,
            "overflow": null,
            "overflow_x": null,
            "overflow_y": null,
            "padding": null,
            "right": null,
            "top": null,
            "visibility": null,
            "width": null
          }
        },
        "7ef92bf758a7455099e67ff2eff5fc50": {
          "model_module": "@jupyter-widgets/controls",
          "model_name": "DescriptionStyleModel",
          "model_module_version": "1.5.0",
          "state": {
            "_model_module": "@jupyter-widgets/controls",
            "_model_module_version": "1.5.0",
            "_model_name": "DescriptionStyleModel",
            "_view_count": null,
            "_view_module": "@jupyter-widgets/base",
            "_view_module_version": "1.2.0",
            "_view_name": "StyleView",
            "description_width": ""
          }
        },
        "ac324208fbda480ebd848f4675b3c5f0": {
          "model_module": "@jupyter-widgets/controls",
          "model_name": "HBoxModel",
          "model_module_version": "1.5.0",
          "state": {
            "_dom_classes": [],
            "_model_module": "@jupyter-widgets/controls",
            "_model_module_version": "1.5.0",
            "_model_name": "HBoxModel",
            "_view_count": null,
            "_view_module": "@jupyter-widgets/controls",
            "_view_module_version": "1.5.0",
            "_view_name": "HBoxView",
            "box_style": "",
            "children": [
              "IPY_MODEL_ef699d6a9caf438fa5fbf23f908404ae",
              "IPY_MODEL_14cfef4cfa464079909e423a3861c7cf",
              "IPY_MODEL_60db9e29dc62400faabbfd935e163223"
            ],
            "layout": "IPY_MODEL_e41608eea3914b0f90c3a7eecea39f44"
          }
        },
        "ef699d6a9caf438fa5fbf23f908404ae": {
          "model_module": "@jupyter-widgets/controls",
          "model_name": "HTMLModel",
          "model_module_version": "1.5.0",
          "state": {
            "_dom_classes": [],
            "_model_module": "@jupyter-widgets/controls",
            "_model_module_version": "1.5.0",
            "_model_name": "HTMLModel",
            "_view_count": null,
            "_view_module": "@jupyter-widgets/controls",
            "_view_module_version": "1.5.0",
            "_view_name": "HTMLView",
            "description": "",
            "description_tooltip": null,
            "layout": "IPY_MODEL_82f663349cb24ebaa73a9495545a5402",
            "placeholder": "​",
            "style": "IPY_MODEL_f19625f715a240b281e4100f9df27b3d",
            "value": "README.md: 100%"
          }
        },
        "14cfef4cfa464079909e423a3861c7cf": {
          "model_module": "@jupyter-widgets/controls",
          "model_name": "FloatProgressModel",
          "model_module_version": "1.5.0",
          "state": {
            "_dom_classes": [],
            "_model_module": "@jupyter-widgets/controls",
            "_model_module_version": "1.5.0",
            "_model_name": "FloatProgressModel",
            "_view_count": null,
            "_view_module": "@jupyter-widgets/controls",
            "_view_module_version": "1.5.0",
            "_view_name": "ProgressView",
            "bar_style": "success",
            "description": "",
            "description_tooltip": null,
            "layout": "IPY_MODEL_ebd565d001244bd7b5d95d959997582f",
            "max": 971,
            "min": 0,
            "orientation": "horizontal",
            "style": "IPY_MODEL_d32b66cbb90e491ca9113a2733a4c9d5",
            "value": 971
          }
        },
        "60db9e29dc62400faabbfd935e163223": {
          "model_module": "@jupyter-widgets/controls",
          "model_name": "HTMLModel",
          "model_module_version": "1.5.0",
          "state": {
            "_dom_classes": [],
            "_model_module": "@jupyter-widgets/controls",
            "_model_module_version": "1.5.0",
            "_model_name": "HTMLModel",
            "_view_count": null,
            "_view_module": "@jupyter-widgets/controls",
            "_view_module_version": "1.5.0",
            "_view_name": "HTMLView",
            "description": "",
            "description_tooltip": null,
            "layout": "IPY_MODEL_26974607742e43e79c61c58fecf89f33",
            "placeholder": "​",
            "style": "IPY_MODEL_5961ad0901df46f2bede5720e625a130",
            "value": " 971/971 [00:00&lt;00:00, 108kB/s]"
          }
        },
        "e41608eea3914b0f90c3a7eecea39f44": {
          "model_module": "@jupyter-widgets/base",
          "model_name": "LayoutModel",
          "model_module_version": "1.2.0",
          "state": {
            "_model_module": "@jupyter-widgets/base",
            "_model_module_version": "1.2.0",
            "_model_name": "LayoutModel",
            "_view_count": null,
            "_view_module": "@jupyter-widgets/base",
            "_view_module_version": "1.2.0",
            "_view_name": "LayoutView",
            "align_content": null,
            "align_items": null,
            "align_self": null,
            "border": null,
            "bottom": null,
            "display": null,
            "flex": null,
            "flex_flow": null,
            "grid_area": null,
            "grid_auto_columns": null,
            "grid_auto_flow": null,
            "grid_auto_rows": null,
            "grid_column": null,
            "grid_gap": null,
            "grid_row": null,
            "grid_template_areas": null,
            "grid_template_columns": null,
            "grid_template_rows": null,
            "height": null,
            "justify_content": null,
            "justify_items": null,
            "left": null,
            "margin": null,
            "max_height": null,
            "max_width": null,
            "min_height": null,
            "min_width": null,
            "object_fit": null,
            "object_position": null,
            "order": null,
            "overflow": null,
            "overflow_x": null,
            "overflow_y": null,
            "padding": null,
            "right": null,
            "top": null,
            "visibility": null,
            "width": null
          }
        },
        "82f663349cb24ebaa73a9495545a5402": {
          "model_module": "@jupyter-widgets/base",
          "model_name": "LayoutModel",
          "model_module_version": "1.2.0",
          "state": {
            "_model_module": "@jupyter-widgets/base",
            "_model_module_version": "1.2.0",
            "_model_name": "LayoutModel",
            "_view_count": null,
            "_view_module": "@jupyter-widgets/base",
            "_view_module_version": "1.2.0",
            "_view_name": "LayoutView",
            "align_content": null,
            "align_items": null,
            "align_self": null,
            "border": null,
            "bottom": null,
            "display": null,
            "flex": null,
            "flex_flow": null,
            "grid_area": null,
            "grid_auto_columns": null,
            "grid_auto_flow": null,
            "grid_auto_rows": null,
            "grid_column": null,
            "grid_gap": null,
            "grid_row": null,
            "grid_template_areas": null,
            "grid_template_columns": null,
            "grid_template_rows": null,
            "height": null,
            "justify_content": null,
            "justify_items": null,
            "left": null,
            "margin": null,
            "max_height": null,
            "max_width": null,
            "min_height": null,
            "min_width": null,
            "object_fit": null,
            "object_position": null,
            "order": null,
            "overflow": null,
            "overflow_x": null,
            "overflow_y": null,
            "padding": null,
            "right": null,
            "top": null,
            "visibility": null,
            "width": null
          }
        },
        "f19625f715a240b281e4100f9df27b3d": {
          "model_module": "@jupyter-widgets/controls",
          "model_name": "DescriptionStyleModel",
          "model_module_version": "1.5.0",
          "state": {
            "_model_module": "@jupyter-widgets/controls",
            "_model_module_version": "1.5.0",
            "_model_name": "DescriptionStyleModel",
            "_view_count": null,
            "_view_module": "@jupyter-widgets/base",
            "_view_module_version": "1.2.0",
            "_view_name": "StyleView",
            "description_width": ""
          }
        },
        "ebd565d001244bd7b5d95d959997582f": {
          "model_module": "@jupyter-widgets/base",
          "model_name": "LayoutModel",
          "model_module_version": "1.2.0",
          "state": {
            "_model_module": "@jupyter-widgets/base",
            "_model_module_version": "1.2.0",
            "_model_name": "LayoutModel",
            "_view_count": null,
            "_view_module": "@jupyter-widgets/base",
            "_view_module_version": "1.2.0",
            "_view_name": "LayoutView",
            "align_content": null,
            "align_items": null,
            "align_self": null,
            "border": null,
            "bottom": null,
            "display": null,
            "flex": null,
            "flex_flow": null,
            "grid_area": null,
            "grid_auto_columns": null,
            "grid_auto_flow": null,
            "grid_auto_rows": null,
            "grid_column": null,
            "grid_gap": null,
            "grid_row": null,
            "grid_template_areas": null,
            "grid_template_columns": null,
            "grid_template_rows": null,
            "height": null,
            "justify_content": null,
            "justify_items": null,
            "left": null,
            "margin": null,
            "max_height": null,
            "max_width": null,
            "min_height": null,
            "min_width": null,
            "object_fit": null,
            "object_position": null,
            "order": null,
            "overflow": null,
            "overflow_x": null,
            "overflow_y": null,
            "padding": null,
            "right": null,
            "top": null,
            "visibility": null,
            "width": null
          }
        },
        "d32b66cbb90e491ca9113a2733a4c9d5": {
          "model_module": "@jupyter-widgets/controls",
          "model_name": "ProgressStyleModel",
          "model_module_version": "1.5.0",
          "state": {
            "_model_module": "@jupyter-widgets/controls",
            "_model_module_version": "1.5.0",
            "_model_name": "ProgressStyleModel",
            "_view_count": null,
            "_view_module": "@jupyter-widgets/base",
            "_view_module_version": "1.2.0",
            "_view_name": "StyleView",
            "bar_color": null,
            "description_width": ""
          }
        },
        "26974607742e43e79c61c58fecf89f33": {
          "model_module": "@jupyter-widgets/base",
          "model_name": "LayoutModel",
          "model_module_version": "1.2.0",
          "state": {
            "_model_module": "@jupyter-widgets/base",
            "_model_module_version": "1.2.0",
            "_model_name": "LayoutModel",
            "_view_count": null,
            "_view_module": "@jupyter-widgets/base",
            "_view_module_version": "1.2.0",
            "_view_name": "LayoutView",
            "align_content": null,
            "align_items": null,
            "align_self": null,
            "border": null,
            "bottom": null,
            "display": null,
            "flex": null,
            "flex_flow": null,
            "grid_area": null,
            "grid_auto_columns": null,
            "grid_auto_flow": null,
            "grid_auto_rows": null,
            "grid_column": null,
            "grid_gap": null,
            "grid_row": null,
            "grid_template_areas": null,
            "grid_template_columns": null,
            "grid_template_rows": null,
            "height": null,
            "justify_content": null,
            "justify_items": null,
            "left": null,
            "margin": null,
            "max_height": null,
            "max_width": null,
            "min_height": null,
            "min_width": null,
            "object_fit": null,
            "object_position": null,
            "order": null,
            "overflow": null,
            "overflow_x": null,
            "overflow_y": null,
            "padding": null,
            "right": null,
            "top": null,
            "visibility": null,
            "width": null
          }
        },
        "5961ad0901df46f2bede5720e625a130": {
          "model_module": "@jupyter-widgets/controls",
          "model_name": "DescriptionStyleModel",
          "model_module_version": "1.5.0",
          "state": {
            "_model_module": "@jupyter-widgets/controls",
            "_model_module_version": "1.5.0",
            "_model_name": "DescriptionStyleModel",
            "_view_count": null,
            "_view_module": "@jupyter-widgets/base",
            "_view_module_version": "1.2.0",
            "_view_name": "StyleView",
            "description_width": ""
          }
        },
        "b3f22d50ad4445fc92185da03cbdb8e5": {
          "model_module": "@jupyter-widgets/controls",
          "model_name": "HBoxModel",
          "model_module_version": "1.5.0",
          "state": {
            "_dom_classes": [],
            "_model_module": "@jupyter-widgets/controls",
            "_model_module_version": "1.5.0",
            "_model_name": "HBoxModel",
            "_view_count": null,
            "_view_module": "@jupyter-widgets/controls",
            "_view_module_version": "1.5.0",
            "_view_name": "HBoxView",
            "box_style": "",
            "children": [
              "IPY_MODEL_55e0174df9f2456ab9c5cd79101ae129",
              "IPY_MODEL_aed4d41cd8f24fa9877bd1e352f000d4",
              "IPY_MODEL_079c5b8bdc85425688a25d29e21ae992"
            ],
            "layout": "IPY_MODEL_7d62af280ff3417dbed67358b2229f65"
          }
        },
        "55e0174df9f2456ab9c5cd79101ae129": {
          "model_module": "@jupyter-widgets/controls",
          "model_name": "HTMLModel",
          "model_module_version": "1.5.0",
          "state": {
            "_dom_classes": [],
            "_model_module": "@jupyter-widgets/controls",
            "_model_module_version": "1.5.0",
            "_model_name": "HTMLModel",
            "_view_count": null,
            "_view_module": "@jupyter-widgets/controls",
            "_view_module_version": "1.5.0",
            "_view_name": "HTMLView",
            "description": "",
            "description_tooltip": null,
            "layout": "IPY_MODEL_441c08512ffd46c496b4f7bab9b983d1",
            "placeholder": "​",
            "style": "IPY_MODEL_109f0608717c4d859ed6298e6e301c0a",
            "value": "HCI_Dataset.zip: 100%"
          }
        },
        "aed4d41cd8f24fa9877bd1e352f000d4": {
          "model_module": "@jupyter-widgets/controls",
          "model_name": "FloatProgressModel",
          "model_module_version": "1.5.0",
          "state": {
            "_dom_classes": [],
            "_model_module": "@jupyter-widgets/controls",
            "_model_module_version": "1.5.0",
            "_model_name": "FloatProgressModel",
            "_view_count": null,
            "_view_module": "@jupyter-widgets/controls",
            "_view_module_version": "1.5.0",
            "_view_name": "ProgressView",
            "bar_style": "success",
            "description": "",
            "description_tooltip": null,
            "layout": "IPY_MODEL_89578b74d00d40a5ab0227f13ce9c875",
            "max": 1290869403,
            "min": 0,
            "orientation": "horizontal",
            "style": "IPY_MODEL_24ade757220e4c5dbe8e6076ec4d7871",
            "value": 1290869403
          }
        },
        "079c5b8bdc85425688a25d29e21ae992": {
          "model_module": "@jupyter-widgets/controls",
          "model_name": "HTMLModel",
          "model_module_version": "1.5.0",
          "state": {
            "_dom_classes": [],
            "_model_module": "@jupyter-widgets/controls",
            "_model_module_version": "1.5.0",
            "_model_name": "HTMLModel",
            "_view_count": null,
            "_view_module": "@jupyter-widgets/controls",
            "_view_module_version": "1.5.0",
            "_view_name": "HTMLView",
            "description": "",
            "description_tooltip": null,
            "layout": "IPY_MODEL_0aa5f9ef7a004a398b7734b76d5df02a",
            "placeholder": "​",
            "style": "IPY_MODEL_401e201f8f2a46848530997d24725232",
            "value": " 1.29G/1.29G [00:33&lt;00:00, 27.5MB/s]"
          }
        },
        "7d62af280ff3417dbed67358b2229f65": {
          "model_module": "@jupyter-widgets/base",
          "model_name": "LayoutModel",
          "model_module_version": "1.2.0",
          "state": {
            "_model_module": "@jupyter-widgets/base",
            "_model_module_version": "1.2.0",
            "_model_name": "LayoutModel",
            "_view_count": null,
            "_view_module": "@jupyter-widgets/base",
            "_view_module_version": "1.2.0",
            "_view_name": "LayoutView",
            "align_content": null,
            "align_items": null,
            "align_self": null,
            "border": null,
            "bottom": null,
            "display": null,
            "flex": null,
            "flex_flow": null,
            "grid_area": null,
            "grid_auto_columns": null,
            "grid_auto_flow": null,
            "grid_auto_rows": null,
            "grid_column": null,
            "grid_gap": null,
            "grid_row": null,
            "grid_template_areas": null,
            "grid_template_columns": null,
            "grid_template_rows": null,
            "height": null,
            "justify_content": null,
            "justify_items": null,
            "left": null,
            "margin": null,
            "max_height": null,
            "max_width": null,
            "min_height": null,
            "min_width": null,
            "object_fit": null,
            "object_position": null,
            "order": null,
            "overflow": null,
            "overflow_x": null,
            "overflow_y": null,
            "padding": null,
            "right": null,
            "top": null,
            "visibility": null,
            "width": null
          }
        },
        "441c08512ffd46c496b4f7bab9b983d1": {
          "model_module": "@jupyter-widgets/base",
          "model_name": "LayoutModel",
          "model_module_version": "1.2.0",
          "state": {
            "_model_module": "@jupyter-widgets/base",
            "_model_module_version": "1.2.0",
            "_model_name": "LayoutModel",
            "_view_count": null,
            "_view_module": "@jupyter-widgets/base",
            "_view_module_version": "1.2.0",
            "_view_name": "LayoutView",
            "align_content": null,
            "align_items": null,
            "align_self": null,
            "border": null,
            "bottom": null,
            "display": null,
            "flex": null,
            "flex_flow": null,
            "grid_area": null,
            "grid_auto_columns": null,
            "grid_auto_flow": null,
            "grid_auto_rows": null,
            "grid_column": null,
            "grid_gap": null,
            "grid_row": null,
            "grid_template_areas": null,
            "grid_template_columns": null,
            "grid_template_rows": null,
            "height": null,
            "justify_content": null,
            "justify_items": null,
            "left": null,
            "margin": null,
            "max_height": null,
            "max_width": null,
            "min_height": null,
            "min_width": null,
            "object_fit": null,
            "object_position": null,
            "order": null,
            "overflow": null,
            "overflow_x": null,
            "overflow_y": null,
            "padding": null,
            "right": null,
            "top": null,
            "visibility": null,
            "width": null
          }
        },
        "109f0608717c4d859ed6298e6e301c0a": {
          "model_module": "@jupyter-widgets/controls",
          "model_name": "DescriptionStyleModel",
          "model_module_version": "1.5.0",
          "state": {
            "_model_module": "@jupyter-widgets/controls",
            "_model_module_version": "1.5.0",
            "_model_name": "DescriptionStyleModel",
            "_view_count": null,
            "_view_module": "@jupyter-widgets/base",
            "_view_module_version": "1.2.0",
            "_view_name": "StyleView",
            "description_width": ""
          }
        },
        "89578b74d00d40a5ab0227f13ce9c875": {
          "model_module": "@jupyter-widgets/base",
          "model_name": "LayoutModel",
          "model_module_version": "1.2.0",
          "state": {
            "_model_module": "@jupyter-widgets/base",
            "_model_module_version": "1.2.0",
            "_model_name": "LayoutModel",
            "_view_count": null,
            "_view_module": "@jupyter-widgets/base",
            "_view_module_version": "1.2.0",
            "_view_name": "LayoutView",
            "align_content": null,
            "align_items": null,
            "align_self": null,
            "border": null,
            "bottom": null,
            "display": null,
            "flex": null,
            "flex_flow": null,
            "grid_area": null,
            "grid_auto_columns": null,
            "grid_auto_flow": null,
            "grid_auto_rows": null,
            "grid_column": null,
            "grid_gap": null,
            "grid_row": null,
            "grid_template_areas": null,
            "grid_template_columns": null,
            "grid_template_rows": null,
            "height": null,
            "justify_content": null,
            "justify_items": null,
            "left": null,
            "margin": null,
            "max_height": null,
            "max_width": null,
            "min_height": null,
            "min_width": null,
            "object_fit": null,
            "object_position": null,
            "order": null,
            "overflow": null,
            "overflow_x": null,
            "overflow_y": null,
            "padding": null,
            "right": null,
            "top": null,
            "visibility": null,
            "width": null
          }
        },
        "24ade757220e4c5dbe8e6076ec4d7871": {
          "model_module": "@jupyter-widgets/controls",
          "model_name": "ProgressStyleModel",
          "model_module_version": "1.5.0",
          "state": {
            "_model_module": "@jupyter-widgets/controls",
            "_model_module_version": "1.5.0",
            "_model_name": "ProgressStyleModel",
            "_view_count": null,
            "_view_module": "@jupyter-widgets/base",
            "_view_module_version": "1.2.0",
            "_view_name": "StyleView",
            "bar_color": null,
            "description_width": ""
          }
        },
        "0aa5f9ef7a004a398b7734b76d5df02a": {
          "model_module": "@jupyter-widgets/base",
          "model_name": "LayoutModel",
          "model_module_version": "1.2.0",
          "state": {
            "_model_module": "@jupyter-widgets/base",
            "_model_module_version": "1.2.0",
            "_model_name": "LayoutModel",
            "_view_count": null,
            "_view_module": "@jupyter-widgets/base",
            "_view_module_version": "1.2.0",
            "_view_name": "LayoutView",
            "align_content": null,
            "align_items": null,
            "align_self": null,
            "border": null,
            "bottom": null,
            "display": null,
            "flex": null,
            "flex_flow": null,
            "grid_area": null,
            "grid_auto_columns": null,
            "grid_auto_flow": null,
            "grid_auto_rows": null,
            "grid_column": null,
            "grid_gap": null,
            "grid_row": null,
            "grid_template_areas": null,
            "grid_template_columns": null,
            "grid_template_rows": null,
            "height": null,
            "justify_content": null,
            "justify_items": null,
            "left": null,
            "margin": null,
            "max_height": null,
            "max_width": null,
            "min_height": null,
            "min_width": null,
            "object_fit": null,
            "object_position": null,
            "order": null,
            "overflow": null,
            "overflow_x": null,
            "overflow_y": null,
            "padding": null,
            "right": null,
            "top": null,
            "visibility": null,
            "width": null
          }
        },
        "401e201f8f2a46848530997d24725232": {
          "model_module": "@jupyter-widgets/controls",
          "model_name": "DescriptionStyleModel",
          "model_module_version": "1.5.0",
          "state": {
            "_model_module": "@jupyter-widgets/controls",
            "_model_module_version": "1.5.0",
            "_model_name": "DescriptionStyleModel",
            "_view_count": null,
            "_view_module": "@jupyter-widgets/base",
            "_view_module_version": "1.2.0",
            "_view_name": "StyleView",
            "description_width": ""
          }
        }
      }
    }
  },
  "cells": [
    {
      "cell_type": "code",
      "source": [
        "# --- Cell 1: Imports, constants, seeds (CONSISTENT SIZES) ---\n",
        "\n",
        "import os, random, math, itertools\n",
        "import numpy as np\n",
        "import tensorflow as tf\n",
        "from tensorflow import keras\n",
        "from tensorflow.keras import layers\n",
        "import matplotlib.pyplot as plt\n",
        "from glob import glob\n",
        "import pandas as pd\n",
        "\n",
        "np.random.seed(42)\n",
        "tf.random.set_seed(42)\n",
        "\n",
        "# Use the sizes your batches actually had:\n",
        "IMG_HEIGHT, IMG_WIDTH = 64, 256   # (H, W)  <<<<<< CONSISTENT\n",
        "BATCH_SIZE = 32\n",
        "AUTOTUNE = tf.data.AUTOTUNE\n",
        "\n",
        "print(\"TensorFlow:\", tf.__version__)\n",
        "print(\"GPU:\", tf.config.list_physical_devices('GPU'))\n",
        "print(\"IMG_HEIGHT, IMG_WIDTH =\", IMG_HEIGHT, IMG_WIDTH)\n"
      ],
      "metadata": {
        "id": "v_poYrEJAxQf",
        "outputId": "f8b1a2d9-c210-49c1-ddb5-3f4e85ec78bd",
        "colab": {
          "base_uri": "https://localhost:8080/"
        }
      },
      "execution_count": 2,
      "outputs": [
        {
          "output_type": "stream",
          "name": "stdout",
          "text": [
            "TensorFlow: 2.19.0\n",
            "GPU: [PhysicalDevice(name='/physical_device:GPU:0', device_type='GPU')]\n",
            "IMG_HEIGHT, IMG_WIDTH = 64 256\n"
          ]
        }
      ]
    },
    {
      "cell_type": "code",
      "source": [
        "# --- Cell 2: Download dataset repo with huggingface_hub & unzip ---\n",
        "\n",
        "from huggingface_hub import snapshot_download\n",
        "import zipfile\n",
        "\n",
        "dataset_dir = snapshot_download(\n",
        "    repo_id=\"YCAI3/HCI_P2\",\n",
        "    repo_type=\"dataset\",\n",
        "    local_dir=\"./HCI_Dataset\",\n",
        "    ignore_patterns=[\".gitattributes\"]\n",
        ")\n",
        "\n",
        "print(\"Dataset downloaded to:\", dataset_dir)\n",
        "\n",
        "zip_path = os.path.join(dataset_dir, \"HCI_Dataset.zip\")\n",
        "extract_dir = os.path.join(dataset_dir, \"unzipped\")\n",
        "\n",
        "# Extract the dataset if not already extracted\n",
        "if not os.path.exists(extract_dir):\n",
        "    with zipfile.ZipFile(zip_path, \"r\") as zip_ref:\n",
        "        zip_ref.extractall(extract_dir)\n",
        "\n",
        "print(\"✅ Extracted to:\", extract_dir)\n",
        "print(\"Top-level in 'unzipped':\", os.listdir(extract_dir))\n",
        "\n",
        "# Base path where the actual images live\n",
        "base_path = \"./HCI_Dataset/unzipped/HCI_Dataset\"\n",
        "assert os.path.exists(base_path), f\"Expected folder not found: {base_path}\"\n"
      ],
      "metadata": {
        "id": "BoQMx7XAAzOu",
        "outputId": "97707140-e036-4a9a-bae8-e0dff55d6352",
        "colab": {
          "base_uri": "https://localhost:8080/",
          "height": 289,
          "referenced_widgets": [
            "5a9040755704461a8a1b95c5ec70d124",
            "849598144bb24acebc2c1c5bc830f56a",
            "4e5d31106fbe4e86be38f1d2b692078f",
            "7a1d48ec69214d60968270d0615db678",
            "870d345de97f41dfb5e2c443a4f5d365",
            "3c63fb31d9194332bbd0d004b8b9b7d8",
            "bf6e59b817b34714a3a9cc1be301ce8f",
            "c67162055e0c4182a3cb8e9c6c969c9c",
            "2033fcd6dc6a400fbec1a0be3a19b019",
            "f9189355361c4441bc4e63d6a40ac9dc",
            "7ef92bf758a7455099e67ff2eff5fc50",
            "ac324208fbda480ebd848f4675b3c5f0",
            "ef699d6a9caf438fa5fbf23f908404ae",
            "14cfef4cfa464079909e423a3861c7cf",
            "60db9e29dc62400faabbfd935e163223",
            "e41608eea3914b0f90c3a7eecea39f44",
            "82f663349cb24ebaa73a9495545a5402",
            "f19625f715a240b281e4100f9df27b3d",
            "ebd565d001244bd7b5d95d959997582f",
            "d32b66cbb90e491ca9113a2733a4c9d5",
            "26974607742e43e79c61c58fecf89f33",
            "5961ad0901df46f2bede5720e625a130",
            "b3f22d50ad4445fc92185da03cbdb8e5",
            "55e0174df9f2456ab9c5cd79101ae129",
            "aed4d41cd8f24fa9877bd1e352f000d4",
            "079c5b8bdc85425688a25d29e21ae992",
            "7d62af280ff3417dbed67358b2229f65",
            "441c08512ffd46c496b4f7bab9b983d1",
            "109f0608717c4d859ed6298e6e301c0a",
            "89578b74d00d40a5ab0227f13ce9c875",
            "24ade757220e4c5dbe8e6076ec4d7871",
            "0aa5f9ef7a004a398b7734b76d5df02a",
            "401e201f8f2a46848530997d24725232"
          ]
        }
      },
      "execution_count": 3,
      "outputs": [
        {
          "output_type": "stream",
          "name": "stderr",
          "text": [
            "/usr/local/lib/python3.12/dist-packages/huggingface_hub/utils/_auth.py:94: UserWarning: \n",
            "The secret `HF_TOKEN` does not exist in your Colab secrets.\n",
            "To authenticate with the Hugging Face Hub, create a token in your settings tab (https://huggingface.co/settings/tokens), set it as secret in your Google Colab and restart your session.\n",
            "You will be able to reuse this secret in all of your notebooks.\n",
            "Please note that authentication is recommended but still optional to access public models or datasets.\n",
            "  warnings.warn(\n"
          ]
        },
        {
          "output_type": "display_data",
          "data": {
            "text/plain": [
              "Fetching 2 files:   0%|          | 0/2 [00:00<?, ?it/s]"
            ],
            "application/vnd.jupyter.widget-view+json": {
              "version_major": 2,
              "version_minor": 0,
              "model_id": "5a9040755704461a8a1b95c5ec70d124"
            }
          },
          "metadata": {}
        },
        {
          "output_type": "display_data",
          "data": {
            "text/plain": [
              "README.md:   0%|          | 0.00/971 [00:00<?, ?B/s]"
            ],
            "application/vnd.jupyter.widget-view+json": {
              "version_major": 2,
              "version_minor": 0,
              "model_id": "ac324208fbda480ebd848f4675b3c5f0"
            }
          },
          "metadata": {}
        },
        {
          "output_type": "display_data",
          "data": {
            "text/plain": [
              "HCI_Dataset.zip:   0%|          | 0.00/1.29G [00:00<?, ?B/s]"
            ],
            "application/vnd.jupyter.widget-view+json": {
              "version_major": 2,
              "version_minor": 0,
              "model_id": "b3f22d50ad4445fc92185da03cbdb8e5"
            }
          },
          "metadata": {}
        },
        {
          "output_type": "stream",
          "name": "stdout",
          "text": [
            "Dataset downloaded to: /content/HCI_Dataset\n",
            "✅ Extracted to: /content/HCI_Dataset/unzipped\n",
            "Top-level in 'unzipped': ['__MACOSX', 'HCI_Dataset']\n"
          ]
        }
      ]
    },
    {
      "cell_type": "code",
      "source": [
        "# --- Cell 3: Gather image paths and word labels from filenames ---\n",
        "\n",
        "# Recursively collect *.jpg\n",
        "image_paths = glob(os.path.join(base_path, \"**\", \"*.jpg\"), recursive=True)\n",
        "print(\"Total images found:\", len(image_paths))\n",
        "\n",
        "def get_word_label_from_filename(path):\n",
        "    \"\"\"\n",
        "    Filenames look like:  100_Classmates_13942.jpg\n",
        "    We want the 'Classmates' portion (case-sensitive).\n",
        "    \"\"\"\n",
        "    fname = os.path.basename(path)\n",
        "    parts = fname.split(\"_\")\n",
        "    return parts[1] if len(parts) >= 2 else \"\"\n",
        "\n",
        "data = pd.DataFrame({\n",
        "    \"path\": image_paths,\n",
        "    \"label\": [get_word_label_from_filename(p) for p in image_paths]\n",
        "})\n",
        "\n",
        "# Basic sanity check\n",
        "print(data.sample(5))\n",
        "print(\"Unique sample words:\", data['label'].nunique())\n"
      ],
      "metadata": {
        "id": "GX-elx6iA0Yg",
        "outputId": "7b0d56dd-ba62-4410-c7d8-f0150b1da2b0",
        "colab": {
          "base_uri": "https://localhost:8080/"
        }
      },
      "execution_count": 4,
      "outputs": [
        {
          "output_type": "stream",
          "name": "stdout",
          "text": [
            "Total images found: 609656\n",
            "                                                     path          label\n",
            "497818  ./HCI_Dataset/unzipped/HCI_Dataset/184/6/369_g...   gatecrashing\n",
            "180397  ./HCI_Dataset/unzipped/HCI_Dataset/23/3/418_re...     reasserted\n",
            "232696  ./HCI_Dataset/unzipped/HCI_Dataset/148/3/354_R...           RUHR\n",
            "19774   ./HCI_Dataset/unzipped/HCI_Dataset/131/6/344_f...         fluxed\n",
            "244604  ./HCI_Dataset/unzipped/HCI_Dataset/12/1/242_CI...  CIVILIZATIONS\n",
            "Unique sample words: 237485\n"
          ]
        }
      ]
    },
    {
      "cell_type": "code",
      "source": [
        "# --- Cell 4 (fixed): Build character vocabulary and lookup layers ---\n",
        "\n",
        "# Build charset from all labels (case-sensitive; includes digits + letters)\n",
        "all_text = \"\".join(data[\"label\"].astype(str).tolist())\n",
        "unique_chars = sorted(list(set(all_text)))\n",
        "print(\"Unique chars ({}):\".format(len(unique_chars)), unique_chars[:80], \"...\")\n",
        "\n",
        "# No OOV, no mask; both layers must match\n",
        "char_to_num = layers.StringLookup(\n",
        "    vocabulary=unique_chars,\n",
        "    num_oov_indices=0,\n",
        "    mask_token=None\n",
        ")\n",
        "\n",
        "num_to_char = layers.StringLookup(\n",
        "    vocabulary=char_to_num.get_vocabulary(),\n",
        "    invert=True,\n",
        "    num_oov_indices=0,\n",
        "    mask_token=None\n",
        ")\n",
        "\n",
        "# Quick encode/decode test\n",
        "test_word = data[\"label\"].iloc[0]\n",
        "enc = char_to_num(tf.strings.unicode_split(test_word, \"UTF-8\"))\n",
        "dec = tf.strings.reduce_join(num_to_char(enc)).numpy().decode(\"utf-8\")\n",
        "print(\"Test label:\", test_word, \"| Encoded len:\", enc.shape[0], \"| Decoded:\", dec)\n"
      ],
      "metadata": {
        "id": "OIAlYlX4A1aP",
        "outputId": "c749f3e1-6847-4ba5-cc98-4e3c39475c61",
        "colab": {
          "base_uri": "https://localhost:8080/"
        }
      },
      "execution_count": 5,
      "outputs": [
        {
          "output_type": "stream",
          "name": "stdout",
          "text": [
            "Unique chars (62): ['0', '1', '2', '3', '4', '5', '6', '7', '8', '9', 'A', 'B', 'C', 'D', 'E', 'F', 'G', 'H', 'I', 'J', 'K', 'L', 'M', 'N', 'O', 'P', 'Q', 'R', 'S', 'T', 'U', 'V', 'W', 'X', 'Y', 'Z', 'a', 'b', 'c', 'd', 'e', 'f', 'g', 'h', 'i', 'j', 'k', 'l', 'm', 'n', 'o', 'p', 'q', 'r', 's', 't', 'u', 'v', 'w', 'x', 'y', 'z'] ...\n",
            "Test label: Deescalate | Encoded len: 10 | Decoded: Deescalate\n"
          ]
        }
      ]
    },
    {
      "cell_type": "code",
      "source": [
        "# --- Cell 5: Preprocessing functions (image, label) ---\n",
        "\n",
        "def preprocess_example(path, label_str):\n",
        "    # Image: grayscale, resize to (H, W), normalize 0..1\n",
        "    img_bytes = tf.io.read_file(path)\n",
        "    img = tf.image.decode_jpeg(img_bytes, channels=1)\n",
        "    img = tf.image.resize(img, [IMG_HEIGHT, IMG_WIDTH])\n",
        "    img = tf.cast(img, tf.float32) / 255.0\n",
        "\n",
        "    # Label: string -> list of characters -> int ids\n",
        "    label_chars = tf.strings.unicode_split(label_str, \"UTF-8\")\n",
        "    label_ids = char_to_num(label_chars)  # int32 tensor of shape [seq_len]\n",
        "\n",
        "    return img, label_ids\n"
      ],
      "metadata": {
        "id": "wg1iATlLA2gf"
      },
      "execution_count": 6,
      "outputs": []
    },
    {
      "cell_type": "code",
      "source": [
        "# --- Cell 6: Split datasets and map preprocess (no batching yet) ---\n",
        "\n",
        "# Shuffle deterministically, then split 80/10/10\n",
        "idx = np.arange(len(data))\n",
        "np.random.shuffle(idx)\n",
        "\n",
        "train_end = int(0.8 * len(idx))\n",
        "val_end   = int(0.9 * len(idx))\n",
        "\n",
        "train_idx = idx[:train_end]\n",
        "val_idx   = idx[train_end:val_end]\n",
        "test_idx  = idx[val_end:]\n",
        "\n",
        "train_paths = data[\"path\"].values[train_idx]\n",
        "train_labels= data[\"label\"].values[train_idx]\n",
        "val_paths   = data[\"path\"].values[val_idx]\n",
        "val_labels  = data[\"label\"].values[val_idx]\n",
        "test_paths  = data[\"path\"].values[test_idx]\n",
        "test_labels = data[\"label\"].values[test_idx]\n",
        "\n",
        "print(\"Splits -> train:\", len(train_paths), \"val:\", len(val_paths), \"test:\", len(test_paths))\n",
        "\n",
        "# TF datasets (path, label_string) -> map to (image, label_ids)\n",
        "train_raw = tf.data.Dataset.from_tensor_slices((train_paths, train_labels))\n",
        "val_raw   = tf.data.Dataset.from_tensor_slices((val_paths,   val_labels))\n",
        "test_raw  = tf.data.Dataset.from_tensor_slices((test_paths,  test_labels))\n",
        "\n",
        "train_mapped = train_raw.map(preprocess_example, num_parallel_calls=AUTOTUNE)\n",
        "val_mapped   = val_raw.map(preprocess_example,   num_parallel_calls=AUTOTUNE)\n",
        "test_mapped  = test_raw.map(preprocess_example,  num_parallel_calls=AUTOTUNE)\n"
      ],
      "metadata": {
        "id": "UcoPpapgA3du",
        "outputId": "16547d3a-0bb2-42a8-fa10-f9e9607d95ea",
        "colab": {
          "base_uri": "https://localhost:8080/"
        }
      },
      "execution_count": 7,
      "outputs": [
        {
          "output_type": "stream",
          "name": "stdout",
          "text": [
            "Splits -> train: 487724 val: 60966 test: 60966\n"
          ]
        }
      ]
    },
    {
      "cell_type": "code",
      "source": [
        "# --- Cell 7: Batch & pad datasets ---\n",
        "\n",
        "# Map to ensure precise dtypes for padding later\n",
        "def _to_dtypes(img, label_ids):\n",
        "    # img already float32 in [0,1]; label_ids currently int32 from StringLookup\n",
        "    img = tf.cast(img, tf.float32)\n",
        "    label_ids = tf.cast(label_ids, tf.int32)\n",
        "    return img, label_ids\n",
        "\n",
        "train_mapped = train_mapped.map(_to_dtypes, num_parallel_calls=AUTOTUNE)\n",
        "val_mapped   = val_mapped.map(_to_dtypes,   num_parallel_calls=AUTOTUNE)\n",
        "test_mapped  = test_mapped.map(_to_dtypes,  num_parallel_calls=AUTOTUNE)\n",
        "\n",
        "# Padding values must match dtypes exactly:\n",
        "PADDING_VALUES = (\n",
        "    tf.constant(0.0, dtype=tf.float32),  # image pad\n",
        "    tf.constant(-1,  dtype=tf.int32)     # label pad with -1\n",
        ")\n",
        "\n",
        "train_ds = (train_mapped\n",
        "            .shuffle(8192, reshuffle_each_iteration=True)\n",
        "            .padded_batch(\n",
        "                BATCH_SIZE,\n",
        "                padded_shapes=([IMG_HEIGHT, IMG_WIDTH, 1], [None]),\n",
        "                padding_values=PADDING_VALUES\n",
        "            )\n",
        "            .prefetch(AUTOTUNE))\n",
        "\n",
        "val_ds = (val_mapped\n",
        "          .padded_batch(\n",
        "              BATCH_SIZE,\n",
        "              padded_shapes=([IMG_HEIGHT, IMG_WIDTH, 1], [None]),\n",
        "              padding_values=PADDING_VALUES\n",
        "          )\n",
        "          .prefetch(AUTOTUNE))\n",
        "\n",
        "test_ds = (test_mapped\n",
        "           .padded_batch(\n",
        "               BATCH_SIZE,\n",
        "               padded_shapes=([IMG_HEIGHT, IMG_WIDTH, 1], [None]),\n",
        "               padding_values=PADDING_VALUES\n",
        "           )\n",
        "           .prefetch(AUTOTUNE))\n",
        "\n",
        "# Quick sanity check (one batch)\n",
        "for imgs, labs in train_ds.take(1):\n",
        "    print(\"Batch images:\", imgs.shape, imgs.dtype)\n",
        "    print(\"Batch labels shape:\", labs.shape, labs.dtype)\n",
        "    print(\"First label (padded ids):\", labs[0][:20].numpy())\n",
        "    break\n"
      ],
      "metadata": {
        "id": "7biChw-GA4pd",
        "outputId": "a5129185-d7f4-490e-bb0f-d163cfbcfe5f",
        "colab": {
          "base_uri": "https://localhost:8080/"
        }
      },
      "execution_count": 8,
      "outputs": [
        {
          "output_type": "stream",
          "name": "stdout",
          "text": [
            "Batch images: (32, 64, 256, 1) <dtype: 'float32'>\n",
            "Batch labels shape: (32, 12) <dtype: 'int32'>\n",
            "First label (padded ids): [11 24 21 28 29 14 27 -1 -1 -1 -1 -1]\n"
          ]
        }
      ]
    },
    {
      "cell_type": "code",
      "source": [
        "# --- Cell 8: Visualize & decode one example from a batch ---\n",
        "\n",
        "def decode_label_ids(label_ids_tensor):\n",
        "    # Remove padding (-1), then map ids -> chars, join\n",
        "    valid = tf.boolean_mask(label_ids_tensor, label_ids_tensor != -1)\n",
        "    chars = num_to_char(valid)  # vector of strings\n",
        "    return tf.strings.reduce_join(chars).numpy().decode(\"utf-8\")\n",
        "\n",
        "import matplotlib.pyplot as plt\n",
        "\n",
        "for imgs, labs in train_ds.take(1):\n",
        "    idx = 0\n",
        "    plt.imshow(tf.squeeze(imgs[idx]), cmap='gray')\n",
        "    plt.title(\"Decoded label: \" + decode_label_ids(labs[idx]))\n",
        "    plt.axis('off')\n",
        "    plt.show()\n",
        "    break\n"
      ],
      "metadata": {
        "id": "S9XpUqBqA5z8",
        "outputId": "0c52e507-64b9-407d-bf3d-620ae2a16df8",
        "colab": {
          "base_uri": "https://localhost:8080/",
          "height": 183
        }
      },
      "execution_count": 9,
      "outputs": [
        {
          "output_type": "display_data",
          "data": {
            "text/plain": [
              "<Figure size 640x480 with 1 Axes>"
            ],
            "image/png": "[encoded data removed]"
          },
          "metadata": {}
        }
      ]
    },
    {
      "cell_type": "code",
      "source": [
        "# Robust CTC loss that handles -1 padding and (B,1) length tensors\n",
        "def ctc_loss_func(y_true, y_pred):\n",
        "    \"\"\"\n",
        "    y_true: (B, L) int32 with -1 padding\n",
        "    y_pred: (B, T, C) float (probabilities or logits); T = time steps\n",
        "    \"\"\"\n",
        "    y_true = tf.cast(y_true, tf.int32)\n",
        "    y_pred = tf.cast(y_pred, tf.float32)\n",
        "\n",
        "    # lengths\n",
        "    B = tf.shape(y_true)[0]\n",
        "    T = tf.shape(y_pred)[1]                        # time steps from the network\n",
        "    label_len = tf.reduce_sum(tf.cast(y_true != -1, tf.int32), axis=1)  # (B,)\n",
        "\n",
        "    # Clip label lengths so they never exceed T (prevents CTC length errors)\n",
        "    label_len = tf.minimum(label_len, T)\n",
        "\n",
        "    # Replace -1 padding with 0 (won't be read past label_len)\n",
        "    y_true_fixed = tf.where(y_true < 0, tf.zeros_like(y_true), y_true)\n",
        "\n",
        "    # ctc_batch_cost expects shape (B, 1) for lengths\n",
        "    input_len = tf.fill([B, 1], T)\n",
        "    label_len = tf.reshape(label_len, [B, 1])\n",
        "\n",
        "    return tf.keras.backend.ctc_batch_cost(y_true_fixed, y_pred, input_len, label_len)\n"
      ],
      "metadata": {
        "id": "NoCM-sJzA63f"
      },
      "execution_count": 10,
      "outputs": []
    },
    {
      "cell_type": "code",
      "source": [
        "# --- Cell 10: Build CRNN (CNN -> BiLSTM) ---\n",
        "\n",
        "from tensorflow.keras import layers, models\n",
        "\n",
        "def build_crnn_lstm(img_h=IMG_HEIGHT, img_w=IMG_WIDTH, vocab_size=None):\n",
        "    assert vocab_size is not None, \"Pass vocab_size=len(unique_chars)+1 (for CTC blank).\"\n",
        "\n",
        "    inp = layers.Input(shape=(img_h, img_w, 1), name=\"image\")  # (H, W, 1)\n",
        "\n",
        "    # --- CNN feature extractor (≥3 conv layers as required) ---\n",
        "    x = layers.Conv2D(64, (3,3), padding=\"same\", activation=\"relu\")(inp)\n",
        "    x = layers.MaxPooling2D((2,2))(x)  # -> (H/2, W/2)\n",
        "\n",
        "    x = layers.Conv2D(128, (3,3), padding=\"same\", activation=\"relu\")(x)\n",
        "    x = layers.MaxPooling2D((2,2))(x)  # -> (H/4, W/4)\n",
        "\n",
        "    x = layers.Conv2D(128, (3,3), padding=\"same\", activation=\"relu\")(x)\n",
        "    x = layers.MaxPooling2D((2,2))(x)  # -> (H/8, W/8)\n",
        "\n",
        "    # We know these sizes statically from the constants + pooling:\n",
        "    Hp = img_h // 8        # time features height-collapsed dimension\n",
        "    Wp = img_w // 8        # time steps along width\n",
        "    C  = 128               # last conv channels\n",
        "\n",
        "    # Make width the \"time\" axis and flatten (H', C) into features\n",
        "    x = layers.Permute((2, 1, 3))(x)           # (batch, W', H', C)\n",
        "    x = layers.Reshape((Wp, Hp * C))(x)        # (batch, T=Wp, features=Hp*C)\n",
        "\n",
        "    # --- BiLSTM stack ---\n",
        "    x = layers.Bidirectional(layers.LSTM(128, return_sequences=True))(x)\n",
        "    x = layers.Bidirectional(layers.LSTM(64,  return_sequences=True))(x)\n",
        "\n",
        "    # --- Classification (num classes + 1 blank) ---\n",
        "    out = layers.Dense(vocab_size, activation=\"softmax\")(x)  # (B, T, C)\n",
        "\n",
        "    return models.Model(inputs=inp, outputs=out, name=\"CRNN_LSTM\")\n",
        "\n",
        "# vocab size = unique chars + 1 for CTC blank\n",
        "VOCAB_SIZE = len(unique_chars) + 1\n",
        "crnn_lstm = build_crnn_lstm(vocab_size=VOCAB_SIZE)\n",
        "\n",
        "crnn_lstm.summary()\n"
      ],
      "metadata": {
        "id": "B34OryD7A71x",
        "outputId": "8c4ce74f-85d8-4968-a8dd-d751d2cab389",
        "colab": {
          "base_uri": "https://localhost:8080/",
          "height": 537
        }
      },
      "execution_count": 11,
      "outputs": [
        {
          "output_type": "display_data",
          "data": {
            "text/plain": [
              "\u001b[1mModel: \"CRNN_LSTM\"\u001b[0m\n"
            ],
            "text/html": [
              "<pre style=\"white-space:pre;overflow-x:auto;line-height:normal;font-family:Menlo,'DejaVu Sans Mono',consolas,'Courier New',monospace\"><span style=\"font-weight: bold\">Model: \"CRNN_LSTM\"</span>\n",
              "</pre>\n"
            ]
          },
          "metadata": {}
        },
        {
          "output_type": "display_data",
          "data": {
            "text/plain": [
              "┏━━━━━━━━━━━━━━━━━━━━━━━━━━━━━━━━━┳━━━━━━━━━━━━━━━━━━━━━━━━┳━━━━━━━━━━━━━━━┓\n",
              "┃\u001b[1m \u001b[0m\u001b[1mLayer (type)                   \u001b[0m\u001b[1m \u001b[0m┃\u001b[1m \u001b[0m\u001b[1mOutput Shape          \u001b[0m\u001b[1m \u001b[0m┃\u001b[1m \u001b[0m\u001b[1m      Param #\u001b[0m\u001b[1m \u001b[0m┃\n",
              "┡━━━━━━━━━━━━━━━━━━━━━━━━━━━━━━━━━╇━━━━━━━━━━━━━━━━━━━━━━━━╇━━━━━━━━━━━━━━━┩\n",
              "│ image (\u001b[38;5;33mInputLayer\u001b[0m)              │ (\u001b[38;5;45mNone\u001b[0m, \u001b[38;5;34m64\u001b[0m, \u001b[38;5;34m256\u001b[0m, \u001b[38;5;34m1\u001b[0m)     │             \u001b[38;5;34m0\u001b[0m │\n",
              "├─────────────────────────────────┼────────────────────────┼───────────────┤\n",
              "│ conv2d (\u001b[38;5;33mConv2D\u001b[0m)                 │ (\u001b[38;5;45mNone\u001b[0m, \u001b[38;5;34m64\u001b[0m, \u001b[38;5;34m256\u001b[0m, \u001b[38;5;34m64\u001b[0m)    │           \u001b[38;5;34m640\u001b[0m │\n",
              "├─────────────────────────────────┼────────────────────────┼───────────────┤\n",
              "│ max_pooling2d (\u001b[38;5;33mMaxPooling2D\u001b[0m)    │ (\u001b[38;5;45mNone\u001b[0m, \u001b[38;5;34m32\u001b[0m, \u001b[38;5;34m128\u001b[0m, \u001b[38;5;34m64\u001b[0m)    │             \u001b[38;5;34m0\u001b[0m │\n",
              "├─────────────────────────────────┼────────────────────────┼───────────────┤\n",
              "│ conv2d_1 (\u001b[38;5;33mConv2D\u001b[0m)               │ (\u001b[38;5;45mNone\u001b[0m, \u001b[38;5;34m32\u001b[0m, \u001b[38;5;34m128\u001b[0m, \u001b[38;5;34m128\u001b[0m)   │        \u001b[38;5;34m73,856\u001b[0m │\n",
              "├─────────────────────────────────┼────────────────────────┼───────────────┤\n",
              "│ max_pooling2d_1 (\u001b[38;5;33mMaxPooling2D\u001b[0m)  │ (\u001b[38;5;45mNone\u001b[0m, \u001b[38;5;34m16\u001b[0m, \u001b[38;5;34m64\u001b[0m, \u001b[38;5;34m128\u001b[0m)    │             \u001b[38;5;34m0\u001b[0m │\n",
              "├─────────────────────────────────┼────────────────────────┼───────────────┤\n",
              "│ conv2d_2 (\u001b[38;5;33mConv2D\u001b[0m)               │ (\u001b[38;5;45mNone\u001b[0m, \u001b[38;5;34m16\u001b[0m, \u001b[38;5;34m64\u001b[0m, \u001b[38;5;34m128\u001b[0m)    │       \u001b[38;5;34m147,584\u001b[0m │\n",
              "├─────────────────────────────────┼────────────────────────┼───────────────┤\n",
              "│ max_pooling2d_2 (\u001b[38;5;33mMaxPooling2D\u001b[0m)  │ (\u001b[38;5;45mNone\u001b[0m, \u001b[38;5;34m8\u001b[0m, \u001b[38;5;34m32\u001b[0m, \u001b[38;5;34m128\u001b[0m)     │             \u001b[38;5;34m0\u001b[0m │\n",
              "├─────────────────────────────────┼────────────────────────┼───────────────┤\n",
              "│ permute (\u001b[38;5;33mPermute\u001b[0m)               │ (\u001b[38;5;45mNone\u001b[0m, \u001b[38;5;34m32\u001b[0m, \u001b[38;5;34m8\u001b[0m, \u001b[38;5;34m128\u001b[0m)     │             \u001b[38;5;34m0\u001b[0m │\n",
              "├─────────────────────────────────┼────────────────────────┼───────────────┤\n",
              "│ reshape (\u001b[38;5;33mReshape\u001b[0m)               │ (\u001b[38;5;45mNone\u001b[0m, \u001b[38;5;34m32\u001b[0m, \u001b[38;5;34m1024\u001b[0m)       │             \u001b[38;5;34m0\u001b[0m │\n",
              "├─────────────────────────────────┼────────────────────────┼───────────────┤\n",
              "│ bidirectional (\u001b[38;5;33mBidirectional\u001b[0m)   │ (\u001b[38;5;45mNone\u001b[0m, \u001b[38;5;34m32\u001b[0m, \u001b[38;5;34m256\u001b[0m)        │     \u001b[38;5;34m1,180,672\u001b[0m │\n",
              "├─────────────────────────────────┼────────────────────────┼───────────────┤\n",
              "│ bidirectional_1 (\u001b[38;5;33mBidirectional\u001b[0m) │ (\u001b[38;5;45mNone\u001b[0m, \u001b[38;5;34m32\u001b[0m, \u001b[38;5;34m128\u001b[0m)        │       \u001b[38;5;34m164,352\u001b[0m │\n",
              "├─────────────────────────────────┼────────────────────────┼───────────────┤\n",
              "│ dense (\u001b[38;5;33mDense\u001b[0m)                   │ (\u001b[38;5;45mNone\u001b[0m, \u001b[38;5;34m32\u001b[0m, \u001b[38;5;34m63\u001b[0m)         │         \u001b[38;5;34m8,127\u001b[0m │\n",
              "└─────────────────────────────────┴────────────────────────┴───────────────┘\n"
            ],
            "text/html": [
              "<pre style=\"white-space:pre;overflow-x:auto;line-height:normal;font-family:Menlo,'DejaVu Sans Mono',consolas,'Courier New',monospace\">┏━━━━━━━━━━━━━━━━━━━━━━━━━━━━━━━━━┳━━━━━━━━━━━━━━━━━━━━━━━━┳━━━━━━━━━━━━━━━┓\n",
              "┃<span style=\"font-weight: bold\"> Layer (type)                    </span>┃<span style=\"font-weight: bold\"> Output Shape           </span>┃<span style=\"font-weight: bold\">       Param # </span>┃\n",
              "┡━━━━━━━━━━━━━━━━━━━━━━━━━━━━━━━━━╇━━━━━━━━━━━━━━━━━━━━━━━━╇━━━━━━━━━━━━━━━┩\n",
              "│ image (<span style=\"color: #0087ff; text-decoration-color: #0087ff\">InputLayer</span>)              │ (<span style=\"color: #00d7ff; text-decoration-color: #00d7ff\">None</span>, <span style=\"color: #00af00; text-decoration-color: #00af00\">64</span>, <span style=\"color: #00af00; text-decoration-color: #00af00\">256</span>, <span style=\"color: #00af00; text-decoration-color: #00af00\">1</span>)     │             <span style=\"color: #00af00; text-decoration-color: #00af00\">0</span> │\n",
              "├─────────────────────────────────┼────────────────────────┼───────────────┤\n",
              "│ conv2d (<span style=\"color: #0087ff; text-decoration-color: #0087ff\">Conv2D</span>)                 │ (<span style=\"color: #00d7ff; text-decoration-color: #00d7ff\">None</span>, <span style=\"color: #00af00; text-decoration-color: #00af00\">64</span>, <span style=\"color: #00af00; text-decoration-color: #00af00\">256</span>, <span style=\"color: #00af00; text-decoration-color: #00af00\">64</span>)    │           <span style=\"color: #00af00; text-decoration-color: #00af00\">640</span> │\n",
              "├─────────────────────────────────┼────────────────────────┼───────────────┤\n",
              "│ max_pooling2d (<span style=\"color: #0087ff; text-decoration-color: #0087ff\">MaxPooling2D</span>)    │ (<span style=\"color: #00d7ff; text-decoration-color: #00d7ff\">None</span>, <span style=\"color: #00af00; text-decoration-color: #00af00\">32</span>, <span style=\"color: #00af00; text-decoration-color: #00af00\">128</span>, <span style=\"color: #00af00; text-decoration-color: #00af00\">64</span>)    │             <span style=\"color: #00af00; text-decoration-color: #00af00\">0</span> │\n",
              "├─────────────────────────────────┼────────────────────────┼───────────────┤\n",
              "│ conv2d_1 (<span style=\"color: #0087ff; text-decoration-color: #0087ff\">Conv2D</span>)               │ (<span style=\"color: #00d7ff; text-decoration-color: #00d7ff\">None</span>, <span style=\"color: #00af00; text-decoration-color: #00af00\">32</span>, <span style=\"color: #00af00; text-decoration-color: #00af00\">128</span>, <span style=\"color: #00af00; text-decoration-color: #00af00\">128</span>)   │        <span style=\"color: #00af00; text-decoration-color: #00af00\">73,856</span> │\n",
              "├─────────────────────────────────┼────────────────────────┼───────────────┤\n",
              "│ max_pooling2d_1 (<span style=\"color: #0087ff; text-decoration-color: #0087ff\">MaxPooling2D</span>)  │ (<span style=\"color: #00d7ff; text-decoration-color: #00d7ff\">None</span>, <span style=\"color: #00af00; text-decoration-color: #00af00\">16</span>, <span style=\"color: #00af00; text-decoration-color: #00af00\">64</span>, <span style=\"color: #00af00; text-decoration-color: #00af00\">128</span>)    │             <span style=\"color: #00af00; text-decoration-color: #00af00\">0</span> │\n",
              "├─────────────────────────────────┼────────────────────────┼───────────────┤\n",
              "│ conv2d_2 (<span style=\"color: #0087ff; text-decoration-color: #0087ff\">Conv2D</span>)               │ (<span style=\"color: #00d7ff; text-decoration-color: #00d7ff\">None</span>, <span style=\"color: #00af00; text-decoration-color: #00af00\">16</span>, <span style=\"color: #00af00; text-decoration-color: #00af00\">64</span>, <span style=\"color: #00af00; text-decoration-color: #00af00\">128</span>)    │       <span style=\"color: #00af00; text-decoration-color: #00af00\">147,584</span> │\n",
              "├─────────────────────────────────┼────────────────────────┼───────────────┤\n",
              "│ max_pooling2d_2 (<span style=\"color: #0087ff; text-decoration-color: #0087ff\">MaxPooling2D</span>)  │ (<span style=\"color: #00d7ff; text-decoration-color: #00d7ff\">None</span>, <span style=\"color: #00af00; text-decoration-color: #00af00\">8</span>, <span style=\"color: #00af00; text-decoration-color: #00af00\">32</span>, <span style=\"color: #00af00; text-decoration-color: #00af00\">128</span>)     │             <span style=\"color: #00af00; text-decoration-color: #00af00\">0</span> │\n",
              "├─────────────────────────────────┼────────────────────────┼───────────────┤\n",
              "│ permute (<span style=\"color: #0087ff; text-decoration-color: #0087ff\">Permute</span>)               │ (<span style=\"color: #00d7ff; text-decoration-color: #00d7ff\">None</span>, <span style=\"color: #00af00; text-decoration-color: #00af00\">32</span>, <span style=\"color: #00af00; text-decoration-color: #00af00\">8</span>, <span style=\"color: #00af00; text-decoration-color: #00af00\">128</span>)     │             <span style=\"color: #00af00; text-decoration-color: #00af00\">0</span> │\n",
              "├─────────────────────────────────┼────────────────────────┼───────────────┤\n",
              "│ reshape (<span style=\"color: #0087ff; text-decoration-color: #0087ff\">Reshape</span>)               │ (<span style=\"color: #00d7ff; text-decoration-color: #00d7ff\">None</span>, <span style=\"color: #00af00; text-decoration-color: #00af00\">32</span>, <span style=\"color: #00af00; text-decoration-color: #00af00\">1024</span>)       │             <span style=\"color: #00af00; text-decoration-color: #00af00\">0</span> │\n",
              "├─────────────────────────────────┼────────────────────────┼───────────────┤\n",
              "│ bidirectional (<span style=\"color: #0087ff; text-decoration-color: #0087ff\">Bidirectional</span>)   │ (<span style=\"color: #00d7ff; text-decoration-color: #00d7ff\">None</span>, <span style=\"color: #00af00; text-decoration-color: #00af00\">32</span>, <span style=\"color: #00af00; text-decoration-color: #00af00\">256</span>)        │     <span style=\"color: #00af00; text-decoration-color: #00af00\">1,180,672</span> │\n",
              "├─────────────────────────────────┼────────────────────────┼───────────────┤\n",
              "│ bidirectional_1 (<span style=\"color: #0087ff; text-decoration-color: #0087ff\">Bidirectional</span>) │ (<span style=\"color: #00d7ff; text-decoration-color: #00d7ff\">None</span>, <span style=\"color: #00af00; text-decoration-color: #00af00\">32</span>, <span style=\"color: #00af00; text-decoration-color: #00af00\">128</span>)        │       <span style=\"color: #00af00; text-decoration-color: #00af00\">164,352</span> │\n",
              "├─────────────────────────────────┼────────────────────────┼───────────────┤\n",
              "│ dense (<span style=\"color: #0087ff; text-decoration-color: #0087ff\">Dense</span>)                   │ (<span style=\"color: #00d7ff; text-decoration-color: #00d7ff\">None</span>, <span style=\"color: #00af00; text-decoration-color: #00af00\">32</span>, <span style=\"color: #00af00; text-decoration-color: #00af00\">63</span>)         │         <span style=\"color: #00af00; text-decoration-color: #00af00\">8,127</span> │\n",
              "└─────────────────────────────────┴────────────────────────┴───────────────┘\n",
              "</pre>\n"
            ]
          },
          "metadata": {}
        },
        {
          "output_type": "display_data",
          "data": {
            "text/plain": [
              "\u001b[1m Total params: \u001b[0m\u001b[38;5;34m1,575,231\u001b[0m (6.01 MB)\n"
            ],
            "text/html": [
              "<pre style=\"white-space:pre;overflow-x:auto;line-height:normal;font-family:Menlo,'DejaVu Sans Mono',consolas,'Courier New',monospace\"><span style=\"font-weight: bold\"> Total params: </span><span style=\"color: #00af00; text-decoration-color: #00af00\">1,575,231</span> (6.01 MB)\n",
              "</pre>\n"
            ]
          },
          "metadata": {}
        },
        {
          "output_type": "display_data",
          "data": {
            "text/plain": [
              "\u001b[1m Trainable params: \u001b[0m\u001b[38;5;34m1,575,231\u001b[0m (6.01 MB)\n"
            ],
            "text/html": [
              "<pre style=\"white-space:pre;overflow-x:auto;line-height:normal;font-family:Menlo,'DejaVu Sans Mono',consolas,'Courier New',monospace\"><span style=\"font-weight: bold\"> Trainable params: </span><span style=\"color: #00af00; text-decoration-color: #00af00\">1,575,231</span> (6.01 MB)\n",
              "</pre>\n"
            ]
          },
          "metadata": {}
        },
        {
          "output_type": "display_data",
          "data": {
            "text/plain": [
              "\u001b[1m Non-trainable params: \u001b[0m\u001b[38;5;34m0\u001b[0m (0.00 B)\n"
            ],
            "text/html": [
              "<pre style=\"white-space:pre;overflow-x:auto;line-height:normal;font-family:Menlo,'DejaVu Sans Mono',consolas,'Courier New',monospace\"><span style=\"font-weight: bold\"> Non-trainable params: </span><span style=\"color: #00af00; text-decoration-color: #00af00\">0</span> (0.00 B)\n",
              "</pre>\n"
            ]
          },
          "metadata": {}
        }
      ]
    },
    {
      "cell_type": "code",
      "source": [
        "# Peek at one batch\n",
        "imgs, labs = next(iter(train_ds))\n",
        "print(\"Batch images:\", imgs.shape, imgs.dtype)\n",
        "print(\"Batch labels:\", labs.shape, labs.dtype)\n",
        "\n",
        "# Check model output time steps T\n",
        "probe = crnn_lstm(imgs[:1])        # forward pass a single image\n",
        "print(\"Model output shape (B, T, C):\", probe.shape)\n"
      ],
      "metadata": {
        "id": "irn1mAQBONBj",
        "outputId": "16c0d51b-4269-44bc-b150-e0d5d9ef8ca5",
        "colab": {
          "base_uri": "https://localhost:8080/"
        }
      },
      "execution_count": 12,
      "outputs": [
        {
          "output_type": "stream",
          "name": "stdout",
          "text": [
            "Batch images: (32, 64, 256, 1) <dtype: 'float32'>\n",
            "Batch labels: (32, 12) <dtype: 'int32'>\n",
            "Model output shape (B, T, C): (1, 32, 63)\n"
          ]
        }
      ]
    },
    {
      "cell_type": "code",
      "source": [
        "# --- Bigger subset training ---\n",
        "\n",
        "SUB_TRAIN = 20000\n",
        "SUB_VAL   = 4000\n",
        "\n",
        "subset_train = (\n",
        "    train_ds\n",
        "    .unbatch()\n",
        "    .take(SUB_TRAIN)\n",
        "    .batch(BATCH_SIZE)\n",
        "    .repeat()                         # don't run out across epochs\n",
        "    .prefetch(tf.data.AUTOTUNE)\n",
        ")\n",
        "subset_val = (\n",
        "    val_ds\n",
        "    .unbatch()\n",
        "    .take(SUB_VAL)\n",
        "    .batch(BATCH_SIZE)\n",
        "    .repeat()\n",
        "    .prefetch(tf.data.AUTOTUNE)\n",
        ")\n",
        "\n",
        "steps_per_epoch  = (SUB_TRAIN + BATCH_SIZE - 1) // BATCH_SIZE\n",
        "validation_steps = (SUB_VAL   + BATCH_SIZE - 1) // BATCH_SIZE\n",
        "\n",
        "# (re)compile if you changed anything else\n",
        "crnn_lstm.compile(\n",
        "    optimizer=tf.keras.optimizers.Adam(learning_rate=1e-4),\n",
        "    loss=ctc_loss_func\n",
        ")\n",
        "\n",
        "callbacks = [\n",
        "    keras.callbacks.EarlyStopping(monitor=\"val_loss\", patience=5, restore_best_weights=True),\n",
        "    keras.callbacks.ReduceLROnPlateau(monitor=\"val_loss\", factor=0.5, patience=2, min_lr=1e-6),\n",
        "]\n",
        "\n",
        "history_lstm_adam = crnn_lstm.fit(\n",
        "    subset_train,\n",
        "    validation_data=subset_val,\n",
        "    epochs=10,\n",
        "    steps_per_epoch=steps_per_epoch,\n",
        "    validation_steps=validation_steps,\n",
        "    verbose=1\n",
        ")\n"
      ],
      "metadata": {
        "id": "pYo4IyR6A9nR",
        "outputId": "ddbf6a74-8f94-40fc-b62b-49b9f3a31ba5",
        "colab": {
          "base_uri": "https://localhost:8080/"
        }
      },
      "execution_count": 16,
      "outputs": [
        {
          "output_type": "stream",
          "name": "stdout",
          "text": [
            "Epoch 1/10\n",
            "\u001b[1m625/625\u001b[0m \u001b[32m━━━━━━━━━━━━━━━━━━━━\u001b[0m\u001b[37m\u001b[0m \u001b[1m55s\u001b[0m 78ms/step - loss: 27.6829 - val_loss: 27.6430\n",
            "Epoch 2/10\n",
            "\u001b[1m625/625\u001b[0m \u001b[32m━━━━━━━━━━━━━━━━━━━━\u001b[0m\u001b[37m\u001b[0m \u001b[1m47s\u001b[0m 75ms/step - loss: 27.3456 - val_loss: 27.1146\n",
            "Epoch 3/10\n",
            "\u001b[1m625/625\u001b[0m \u001b[32m━━━━━━━━━━━━━━━━━━━━\u001b[0m\u001b[37m\u001b[0m \u001b[1m46s\u001b[0m 74ms/step - loss: 26.9704 - val_loss: 26.8404\n",
            "Epoch 4/10\n",
            "\u001b[1m625/625\u001b[0m \u001b[32m━━━━━━━━━━━━━━━━━━━━\u001b[0m\u001b[37m\u001b[0m \u001b[1m47s\u001b[0m 75ms/step - loss: 26.6518 - val_loss: 26.5006\n",
            "Epoch 5/10\n",
            "\u001b[1m625/625\u001b[0m \u001b[32m━━━━━━━━━━━━━━━━━━━━\u001b[0m\u001b[37m\u001b[0m \u001b[1m47s\u001b[0m 75ms/step - loss: 26.3087 - val_loss: 26.4019\n",
            "Epoch 6/10\n",
            "\u001b[1m625/625\u001b[0m \u001b[32m━━━━━━━━━━━━━━━━━━━━\u001b[0m\u001b[37m\u001b[0m \u001b[1m46s\u001b[0m 74ms/step - loss: 25.9058 - val_loss: 25.8796\n",
            "Epoch 7/10\n",
            "\u001b[1m625/625\u001b[0m \u001b[32m━━━━━━━━━━━━━━━━━━━━\u001b[0m\u001b[37m\u001b[0m \u001b[1m80s\u001b[0m 128ms/step - loss: 25.6461 - val_loss: 25.2576\n",
            "Epoch 8/10\n",
            "\u001b[1m625/625\u001b[0m \u001b[32m━━━━━━━━━━━━━━━━━━━━\u001b[0m\u001b[37m\u001b[0m \u001b[1m47s\u001b[0m 75ms/step - loss: 25.0451 - val_loss: 24.8177\n",
            "Epoch 9/10\n",
            "\u001b[1m625/625\u001b[0m \u001b[32m━━━━━━━━━━━━━━━━━━━━\u001b[0m\u001b[37m\u001b[0m \u001b[1m47s\u001b[0m 75ms/step - loss: 24.5128 - val_loss: 24.3251\n",
            "Epoch 10/10\n",
            "\u001b[1m625/625\u001b[0m \u001b[32m━━━━━━━━━━━━━━━━━━━━\u001b[0m\u001b[37m\u001b[0m \u001b[1m80s\u001b[0m 128ms/step - loss: 23.8396 - val_loss: 23.7553\n"
          ]
        }
      ]
    }
  ]
}